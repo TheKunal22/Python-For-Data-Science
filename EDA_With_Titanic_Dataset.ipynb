{
 "cells": [
  {
   "cell_type": "markdown",
   "id": "6752763a-4cb5-4cec-8a7c-fcce41e48e88",
   "metadata": {},
   "source": [
    "# **EDA with python and applying Logistic Regression**\n",
    "\n",
    "for this lecture we will be working with the Titanic data set from kaggle https://www.kaggle.com/datasets/yasserh/titanic-dataset\n",
    "\n",
    "This is very famous data set and very often is a student's first step in machine learning! \n",
    "\n",
    "we will be trying to predict a classification survival or deceasesd . lets begin our understanding of implementating logistic regression in python for classification .\n",
    "\n",
    "we will use a \"semi-cleaned\" version of the titanic data set . if you use the data sety hosted directly on kaggle . you may need to do some adddtional cleaning not shown in this lecture notebooks \n",
    "\n",
    "although i did use the direct one ."
   ]
  }
 ],
 "metadata": {
  "kernelspec": {
   "display_name": "Python 3 (ipykernel)",
   "language": "python",
   "name": "python3"
  },
  "language_info": {
   "codemirror_mode": {
    "name": "ipython",
    "version": 3
   },
   "file_extension": ".py",
   "mimetype": "text/x-python",
   "name": "python",
   "nbconvert_exporter": "python",
   "pygments_lexer": "ipython3",
   "version": "3.13.5"
  }
 },
 "nbformat": 4,
 "nbformat_minor": 5
}
