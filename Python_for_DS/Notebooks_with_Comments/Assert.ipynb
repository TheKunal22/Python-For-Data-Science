{
 "cells": [
  {
   "cell_type": "markdown",
   "id": "5bafb61d-0a03-4166-97b6-43d60265d87a",
   "metadata": {},
   "source": [
    "# Python Assert\n",
    "\n",
    "Python provides the assert statement to check if a given logical expression is true or false .\n",
    "Program execution proceeds only if the expression is true and raises the AssertionError when it is false . the following code shows the usage of the assert statement."
   ]
  },
  {
   "cell_type": "code",
   "execution_count": 3,
   "id": "8b2208da-9e38-4385-9001-167579f93f62",
   "metadata": {},
   "outputs": [
    {
     "data": {
      "text/plain": [
       "False"
      ]
     },
     "execution_count": 3,
     "metadata": {},
     "output_type": "execute_result"
    }
   ],
   "source": [
    "# These is a  Logical Expression . \n",
    "\n",
    "10>10"
   ]
  },
  {
   "cell_type": "code",
   "execution_count": 4,
   "id": "351fe536-662c-4368-b4ea-946a990549dd",
   "metadata": {},
   "outputs": [
    {
     "data": {
      "text/plain": [
       "True"
      ]
     },
     "execution_count": 4,
     "metadata": {},
     "output_type": "execute_result"
    }
   ],
   "source": [
    "10>=10\n",
    "# These is a  Logical Expression . "
   ]
  },
  {
   "cell_type": "code",
   "execution_count": 5,
   "id": "d0f31cc5-05f0-409a-a511-683b5f84c3f5",
   "metadata": {},
   "outputs": [],
   "source": [
    " num=10\n",
    "assert num>=10"
   ]
  },
  {
   "cell_type": "code",
   "execution_count": 6,
   "id": "929a8fc4-2207-4465-bf12-bb94b321f777",
   "metadata": {},
   "outputs": [
    {
     "ename": "AssertionError",
     "evalue": "",
     "output_type": "error",
     "traceback": [
      "\u001b[1;31m---------------------------------------------------------------------------\u001b[0m",
      "\u001b[1;31mAssertionError\u001b[0m                            Traceback (most recent call last)",
      "Cell \u001b[1;32mIn[6], line 2\u001b[0m\n\u001b[0;32m      1\u001b[0m num\u001b[38;5;241m=\u001b[39m\u001b[38;5;241m10\u001b[39m\n\u001b[1;32m----> 2\u001b[0m \u001b[38;5;28;01massert\u001b[39;00m num\u001b[38;5;241m>\u001b[39m\u001b[38;5;241m10\u001b[39m\n",
      "\u001b[1;31mAssertionError\u001b[0m: "
     ]
    }
   ],
   "source": [
    " num=10\n",
    "assert num>10"
   ]
  },
  {
   "cell_type": "markdown",
   "id": "f5e55fdd-9036-445a-bf13-aa3f7aee41fa",
   "metadata": {},
   "source": [
    "this is the assertion error we are going to handle using the try and except block "
   ]
  },
  {
   "cell_type": "code",
   "execution_count": 9,
   "id": "3a2ab8a0-3e1b-4cb4-b9e6-d4d89e24e6cc",
   "metadata": {},
   "outputs": [
    {
     "name": "stdin",
     "output_type": "stream",
     "text": [
      "Enter the even  Number 17\n"
     ]
    },
    {
     "name": "stdout",
     "output_type": "stream",
     "text": [
      "please enter an even number\n"
     ]
    }
   ],
   "source": [
    "try:\n",
    "    num=int(input('Enter the even  Number'))\n",
    "    assert num%2==0\n",
    "    print('the number is even')\n",
    "\n",
    "except AssertionError: \n",
    "    print('please enter an even number')"
   ]
  },
  {
   "cell_type": "code",
   "execution_count": null,
   "id": "9ec8c8f4-8090-49f9-98ff-bd28dacd2a6c",
   "metadata": {},
   "outputs": [],
   "source": []
  },
  {
   "cell_type": "code",
   "execution_count": null,
   "id": "0302ba96-5959-48e4-97e6-9e8413b6eb2a",
   "metadata": {},
   "outputs": [],
   "source": []
  },
  {
   "cell_type": "code",
   "execution_count": null,
   "id": "dc54b4c5-f389-4a9c-ad4a-6bd528466f93",
   "metadata": {},
   "outputs": [],
   "source": []
  },
  {
   "cell_type": "code",
   "execution_count": null,
   "id": "b9047153-38ed-449a-a902-2800ead3cb00",
   "metadata": {},
   "outputs": [],
   "source": []
  },
  {
   "cell_type": "code",
   "execution_count": null,
   "id": "8f174e4c-9bcd-4aca-a13b-c4e23cd18c75",
   "metadata": {},
   "outputs": [],
   "source": []
  },
  {
   "cell_type": "code",
   "execution_count": null,
   "id": "1c493c92-b154-4a1c-9eff-0a9fc2da646a",
   "metadata": {},
   "outputs": [],
   "source": []
  },
  {
   "cell_type": "code",
   "execution_count": null,
   "id": "610b596b-eb0c-4567-99ce-2be01b82e61a",
   "metadata": {},
   "outputs": [],
   "source": []
  }
 ],
 "metadata": {
  "kernelspec": {
   "display_name": "Python 3 (ipykernel)",
   "language": "python",
   "name": "python3"
  },
  "language_info": {
   "codemirror_mode": {
    "name": "ipython",
    "version": 3
   },
   "file_extension": ".py",
   "mimetype": "text/x-python",
   "name": "python",
   "nbconvert_exporter": "python",
   "pygments_lexer": "ipython3",
   "version": "3.13.5"
  }
 },
 "nbformat": 4,
 "nbformat_minor": 5
}
