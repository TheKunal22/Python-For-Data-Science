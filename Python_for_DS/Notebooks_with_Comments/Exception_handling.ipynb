{
 "cells": [
  {
   "cell_type": "markdown",
   "id": "f240a924-6c87-4698-9102-83bb7b08388d",
   "metadata": {},
   "source": [
    "# Python Exception Handling"
   ]
  },
  {
   "cell_type": "code",
   "execution_count": 2,
   "id": "647572c1-ea7d-4e03-a927-ff2d3c7f8bf2",
   "metadata": {},
   "outputs": [],
   "source": [
    "a=10\n"
   ]
  },
  {
   "cell_type": "code",
   "execution_count": 3,
   "id": "f0519a8d-2d8c-4b65-a80a-280675adbb5a",
   "metadata": {},
   "outputs": [
    {
     "ename": "NameError",
     "evalue": "name 'b' is not defined",
     "output_type": "error",
     "traceback": [
      "\u001b[1;31m---------------------------------------------------------------------------\u001b[0m",
      "\u001b[1;31mNameError\u001b[0m                                 Traceback (most recent call last)",
      "Cell \u001b[1;32mIn[3], line 1\u001b[0m\n\u001b[1;32m----> 1\u001b[0m a\u001b[38;5;241m=\u001b[39mb\n",
      "\u001b[1;31mNameError\u001b[0m: name 'b' is not defined"
     ]
    }
   ],
   "source": [
    "a=b # this is an error , we are getting , we just cant show this error to the frontend user , to the person who is using that particular application , so we are going to handle this error using some exception handling cases .  "
   ]
  },
  {
   "cell_type": "code",
   "execution_count": 4,
   "id": "f8b70c25-0cdd-485d-b16d-f56ed976a164",
   "metadata": {},
   "outputs": [
    {
     "name": "stdout",
     "output_type": "stream",
     "text": [
      "some problem may have occured\n"
     ]
    }
   ],
   "source": [
    "try:\n",
    "    ''' inside the try block we can add the code in which exception can occur . '''\n",
    "    a=b\n",
    "except:\n",
    "    print('some problem may have occured')"
   ]
  },
  {
   "cell_type": "code",
   "execution_count": 8,
   "id": "64c39389-8a57-4777-9843-0d1efafa3c14",
   "metadata": {},
   "outputs": [
    {
     "name": "stdout",
     "output_type": "stream",
     "text": [
      "name 'b' is not defined\n"
     ]
    }
   ],
   "source": [
    "# but this is not telling what kind of problem may have occured for that we are going to use Exception class .\n",
    "\n",
    "try:\n",
    "    ''' inside the try block we can add the code in which exception can occur . '''\n",
    "    a=b\n",
    "\n",
    "except Exception as ex:\n",
    "    print(ex)"
   ]
  },
  {
   "cell_type": "code",
   "execution_count": 6,
   "id": "2d5ea9f8-79d7-455a-aae3-28f69ad5d2b4",
   "metadata": {},
   "outputs": [
    {
     "ename": "NameError",
     "evalue": "name 'b' is not defined",
     "output_type": "error",
     "traceback": [
      "\u001b[1;31m---------------------------------------------------------------------------\u001b[0m",
      "\u001b[1;31mNameError\u001b[0m                                 Traceback (most recent call last)",
      "Cell \u001b[1;32mIn[6], line 1\u001b[0m\n\u001b[1;32m----> 1\u001b[0m a\u001b[38;5;241m=\u001b[39mb\n",
      "\u001b[1;31mNameError\u001b[0m: name 'b' is not defined"
     ]
    }
   ],
   "source": [
    "a=b"
   ]
  },
  {
   "cell_type": "code",
   "execution_count": 9,
   "id": "cc56742b-6d1e-402a-abdf-cc0f44f24e84",
   "metadata": {},
   "outputs": [
    {
     "name": "stdout",
     "output_type": "stream",
     "text": [
      "the user have not defined the variable\n"
     ]
    }
   ],
   "source": [
    "\n",
    "\n",
    "\n",
    "# but this is not telling what kind of problem may have occured for that we are going to use Exception class .\n",
    "\n",
    "try:\n",
    "    ''' inside the try block we can add the code in which exception can occur . '''\n",
    "    a=b\n",
    "\n",
    "except NameError as ex1:\n",
    "    print('the user have not defined the variable')\n",
    "except Exception as ex:\n",
    "    print(ex)\n"
   ]
  },
  {
   "cell_type": "code",
   "execution_count": 10,
   "id": "aa9d78e5-c3be-428e-8b7b-422d028ebed4",
   "metadata": {},
   "outputs": [
    {
     "name": "stdout",
     "output_type": "stream",
     "text": [
      "unsupported operand type(s) for +: 'int' and 'str'\n"
     ]
    }
   ],
   "source": [
    "try:\n",
    "    ''' inside the try block we can add the code in which exception can occur . '''\n",
    "    a=1\n",
    "    b='ironman'\n",
    "    c=a+b\n",
    "except NameError:\n",
    "    print('some problem may have occured')\n",
    "except Exception as ex:\n",
    "    print(ex)\n",
    "\n"
   ]
  },
  {
   "cell_type": "code",
   "execution_count": 11,
   "id": "beb28365-1a7c-4c88-a03f-64c917d5bbac",
   "metadata": {},
   "outputs": [
    {
     "ename": "TypeError",
     "evalue": "unsupported operand type(s) for +: 'int' and 'str'",
     "output_type": "error",
     "traceback": [
      "\u001b[1;31m---------------------------------------------------------------------------\u001b[0m",
      "\u001b[1;31mTypeError\u001b[0m                                 Traceback (most recent call last)",
      "Cell \u001b[1;32mIn[11], line 3\u001b[0m\n\u001b[0;32m      1\u001b[0m a\u001b[38;5;241m=\u001b[39m\u001b[38;5;241m1\u001b[39m\n\u001b[0;32m      2\u001b[0m b\u001b[38;5;241m=\u001b[39m\u001b[38;5;124m'\u001b[39m\u001b[38;5;124mironman\u001b[39m\u001b[38;5;124m'\u001b[39m\n\u001b[1;32m----> 3\u001b[0m c\u001b[38;5;241m=\u001b[39ma\u001b[38;5;241m+\u001b[39mb\n",
      "\u001b[1;31mTypeError\u001b[0m: unsupported operand type(s) for +: 'int' and 'str'"
     ]
    }
   ],
   "source": [
    "\n",
    "# by doing this we are just checking , what kind of exception are we getting so that we can handle it more accurately \n",
    "\n",
    "a=1\n",
    "b='ironman'\n",
    "c=a+b\n"
   ]
  },
  {
   "cell_type": "code",
   "execution_count": 13,
   "id": "7eb8520a-38f4-43d4-8c48-ffe865820228",
   "metadata": {},
   "outputs": [
    {
     "name": "stdout",
     "output_type": "stream",
     "text": [
      "try to make the datatype similar\n"
     ]
    }
   ],
   "source": [
    "# we  are getting a type error exception , so now we can do like this \n",
    "\n",
    "try:\n",
    "    ''' inside the try block we can add the code in which exception can occur . '''\n",
    "    a=1\n",
    "    b='ironman'\n",
    "    c=a+b\n",
    "except NameError:\n",
    "    print('some problem may have occured')\n",
    "\n",
    "except TypeError:\n",
    "    print('try to make the datatype similar')  # instead of nameerror we are using typeerror here now \n",
    "except Exception as ex:\n",
    "    print(ex)\n",
    "\n",
    "\n",
    "\n"
   ]
  },
  {
   "cell_type": "code",
   "execution_count": null,
   "id": "f443dd42-1308-445a-a9f0-f8e998704544",
   "metadata": {},
   "outputs": [],
   "source": []
  },
  {
   "cell_type": "code",
   "execution_count": 16,
   "id": "f1abc91a-e4a5-4622-87c1-8170f455e854",
   "metadata": {},
   "outputs": [
    {
     "name": "stdin",
     "output_type": "stream",
     "text": [
      "enter the number 1 3\n",
      "enter the number 2 0\n"
     ]
    },
    {
     "name": "stdout",
     "output_type": "stream",
     "text": [
      "division by zero\n"
     ]
    }
   ],
   "source": [
    "# lets make it more better \n",
    "\n",
    "# we  are getting a type error exception , so now we can do like this \n",
    "\n",
    "try:\n",
    "    ''' inside the try block we can add the code in which exception can occur . '''\n",
    "    a=int(input('enter the number 1'))\n",
    "    b=int(input('enter the number 2'))\n",
    "    c=a/b\n",
    "    d=a* b\n",
    "    e=a+b\n",
    "    print(c)\n",
    "    print(d)\n",
    "    print(e)\n",
    "except NameError:\n",
    "    print('some problem may have occured')\n",
    "\n",
    "except TypeError:\n",
    "    print('try to make the datatype similar')  # instead of nameerror we are using typeerror here now \n",
    "except Exception as ex:\n",
    "    print(ex)\n"
   ]
  },
  {
   "cell_type": "markdown",
   "id": "5373c143-6ecc-4474-9584-ed149cc6a58f",
   "metadata": {},
   "source": [
    "we get this division by zero output when we input b = 0 because you know a/b is undefined then so this thing automatically handled by excepton class but what about if i wants to handle this error specifically , i want to echo my own exception handlling message . "
   ]
  },
  {
   "cell_type": "code",
   "execution_count": 17,
   "id": "9fb288a4-d46e-47b6-9dd1-9d9534c43e57",
   "metadata": {},
   "outputs": [
    {
     "ename": "ZeroDivisionError",
     "evalue": "division by zero",
     "output_type": "error",
     "traceback": [
      "\u001b[1;31m---------------------------------------------------------------------------\u001b[0m",
      "\u001b[1;31mZeroDivisionError\u001b[0m                         Traceback (most recent call last)",
      "Cell \u001b[1;32mIn[17], line 1\u001b[0m\n\u001b[1;32m----> 1\u001b[0m a\u001b[38;5;241m/\u001b[39mb\n",
      "\u001b[1;31mZeroDivisionError\u001b[0m: division by zero"
     ]
    }
   ],
   "source": [
    "a/b\n",
    "\n",
    "# we will take this error and copy it and then paste it in the exception handling this error specifically , this will give good meaning to the frontend user . "
   ]
  },
  {
   "cell_type": "code",
   "execution_count": 18,
   "id": "9e2ec3ef-1952-4715-804b-232fe73807e5",
   "metadata": {},
   "outputs": [
    {
     "name": "stdin",
     "output_type": "stream",
     "text": [
      "enter the number 1 4\n",
      "enter the number 2 0\n"
     ]
    },
    {
     "name": "stdout",
     "output_type": "stream",
     "text": [
      "please provide number greater than 0\n"
     ]
    }
   ],
   "source": [
    "# lets make it more better \n",
    "\n",
    "# we  are getting a type error exception , so now we can do like this \n",
    "\n",
    "try:\n",
    "    ''' inside the try block we can add the code in which exception can occur . '''\n",
    "    a=int(input('enter the number 1'))\n",
    "    b=int(input('enter the number 2'))\n",
    "    c=a/b\n",
    "    d=a* b\n",
    "    e=a+b\n",
    "    print(c)\n",
    "    print(d)\n",
    "    print(e)\n",
    "except NameError:\n",
    "    print('some problem may have occured')\n",
    "except ZeroDivisionError:\n",
    "    print('please provide number greater than 0')\n",
    "except TypeError:\n",
    "    print('try to make the datatype similar')  # instead of nameerror we are using typeerror here now \n",
    "except Exception as ex:\n",
    "    \n",
    "    print(ex)\n"
   ]
  },
  {
   "cell_type": "code",
   "execution_count": 19,
   "id": "680c5d8a-2784-4624-b364-e512823d02ad",
   "metadata": {},
   "outputs": [
    {
     "name": "stdin",
     "output_type": "stream",
     "text": [
      "enter the number 1 4\n",
      "enter the number 2 2\n"
     ]
    },
    {
     "name": "stdout",
     "output_type": "stream",
     "text": [
      "2.0\n",
      "8\n",
      "6\n"
     ]
    }
   ],
   "source": [
    "# try else \n",
    "\n",
    "'''\n",
    "\n",
    "     if this successuflly exceute then these exception wont be caught  if the excpetion dosent not \n",
    "     get caught i can also write an else block which say that this code is successfully executed.\n",
    "\n",
    "'''\n",
    "\n",
    "\n",
    "# lets make it more better \n",
    "\n",
    "# we  are getting a type error exception , so now we can do like this \n",
    "\n",
    "try:\n",
    "    ''' inside the try block we can add the code in which exception can occur . '''\n",
    "    a=int(input('enter the number 1'))\n",
    "    b=int(input('enter the number 2'))\n",
    "    c=a/b\n",
    "    d=a* b\n",
    "    e=a+b\n",
    "    \n",
    "except NameError:\n",
    "    print('some problem may have occured')\n",
    "except ZeroDivisionError:\n",
    "    print('please provide number greater than 0')\n",
    "except TypeError:\n",
    "    print('try to make the datatype similar')  # instead of nameerror we are using typeerror here now \n",
    "except Exception as ex:\n",
    "    print(ex)\n",
    "else:\n",
    "    print(c)\n",
    "    print(d)\n",
    "    print(e)\n",
    "\n",
    "    ''' if the exception is triggered then this else block wont get executed , it would get\n",
    "        execute if the try block is successfully executed ''' \n",
    "    \n",
    "\n",
    "\n"
   ]
  },
  {
   "cell_type": "code",
   "execution_count": 20,
   "id": "05d0edaa-7469-47a8-9c7c-db66aa5de517",
   "metadata": {},
   "outputs": [
    {
     "name": "stdin",
     "output_type": "stream",
     "text": [
      "enter the number 1 3\n",
      "enter the number 2 4\n"
     ]
    },
    {
     "name": "stdout",
     "output_type": "stream",
     "text": [
      "0.75\n",
      "the execution is done\n"
     ]
    }
   ],
   "source": [
    "## try else finally \n",
    "\n",
    "\n",
    "try:\n",
    "    ''' inside the try block we can add the code in which exception can occur . '''\n",
    "    a=int(input('enter the number 1'))\n",
    "    b=int(input('enter the number 2'))\n",
    "    c=a/b\n",
    "    d=a* b\n",
    "    e=a+b\n",
    "    \n",
    "except NameError:\n",
    "    print('some problem may have occured')\n",
    "except ZeroDivisionError:\n",
    "    print('please provide number greater than 0')\n",
    "except TypeError:\n",
    "    print('try to make the datatype similar')  # instead of nameerror we are using typeerror here now \n",
    "except Exception as ex:\n",
    "    print(ex)\n",
    "else:\n",
    "    print(c)\n",
    "finally:\n",
    "    print('the execution is done')\n",
    "\n",
    "    ''' if the exception is triggered then this else block wont get executed , it would get\n",
    "        execute if the try block is successfully executed ''' \n",
    "    \n",
    "\n",
    "\n",
    "\n"
   ]
  },
  {
   "cell_type": "markdown",
   "id": "df13100c-0303-4287-89ee-132efd2485e9",
   "metadata": {},
   "source": [
    "### what if the exception happen ?"
   ]
  },
  {
   "cell_type": "code",
   "execution_count": 21,
   "id": "200321fb-f4fb-4289-9454-5d4ee3db33a3",
   "metadata": {},
   "outputs": [
    {
     "name": "stdin",
     "output_type": "stream",
     "text": [
      "enter the number 1 3\n",
      "enter the number 2 0\n"
     ]
    },
    {
     "name": "stdout",
     "output_type": "stream",
     "text": [
      "please provide number greater than 0\n",
      "the execution is done\n"
     ]
    }
   ],
   "source": [
    "## try else finally \n",
    "\n",
    "\n",
    "try:\n",
    "    ''' inside the try block we can add the code in which exception can occur . '''\n",
    "    a=int(input('enter the number 1'))\n",
    "    b=int(input('enter the number 2'))\n",
    "    c=a/b\n",
    "    d=a* b\n",
    "    e=a+b\n",
    "    \n",
    "except NameError:\n",
    "    print('some problem may have occured')\n",
    "except ZeroDivisionError:\n",
    "    print('please provide number greater than 0')\n",
    "except TypeError:\n",
    "    print('try to make the datatype similar')  # instead of nameerror we are using typeerror here now \n",
    "except Exception as ex:\n",
    "    print(ex)\n",
    "else:\n",
    "    print(c)\n",
    "finally:\n",
    "    print('the execution is done')\n",
    "\n",
    "    ''' if the exception is triggered then this else block wont get executed , it would get\n",
    "        execute if the try block is successfully executed ''' \n",
    "    \n",
    "\n"
   ]
  },
  {
   "cell_type": "code",
   "execution_count": null,
   "id": "aced06fe-3c6f-4045-be07-d9ddbbd01375",
   "metadata": {},
   "outputs": [],
   "source": []
  },
  {
   "cell_type": "markdown",
   "id": "bf82fe99-42da-4ab8-b2bf-5617d933a6bc",
   "metadata": {},
   "source": [
    "here in the above cell you can see the else block isnt trigger because try block failed to excuted and but the finally is printed even though exception happended , means finally block will always get printed . "
   ]
  },
  {
   "cell_type": "markdown",
   "id": "ac0035d6-4c49-432d-984c-be744a5ee278",
   "metadata": {},
   "source": [
    "what is the use case of this finally block here \n",
    "\n",
    "an example is given by krish naik sir which is as follow :\n",
    "\n",
    "suppose you are connected your try block with the database server and you caught an error right \n",
    "that error is handled by the exception handling blocks but our database server is still connected with our try block and we wants to close it right ,  now else wont get trigger because try didnt execute but finally will execute even if try or else execute or not , finally always going to execute , it dosent depend on anyone , so we will now close our connection between database server and try block in the finally block . "
   ]
  },
  {
   "cell_type": "markdown",
   "id": "9a655322-8e28-4141-8711-676d26e8261d",
   "metadata": {},
   "source": [
    "# CUSTOM EXCEPTION HANDLING ."
   ]
  },
  {
   "cell_type": "code",
   "execution_count": 22,
   "id": "9c059196-6eea-4c06-90b2-989b6eb422ea",
   "metadata": {},
   "outputs": [],
   "source": [
    "class Error(Exception):\n",
    "    pass\n",
    "\n",
    "class dobException(Error):\n",
    "    pass\n",
    "\n",
    "class customergeneric(Error):\n",
    "    pass"
   ]
  },
  {
   "cell_type": "markdown",
   "id": "69ab235f-01bc-4a4b-97fb-2e3a8e2ff611",
   "metadata": {},
   "source": [
    " here , we are going to implement an custom exception handling using raise function . "
   ]
  },
  {
   "cell_type": "code",
   "execution_count": 24,
   "id": "44f82020-5151-49de-927b-9e4dae5265be",
   "metadata": {},
   "outputs": [
    {
     "name": "stdin",
     "output_type": "stream",
     "text": [
      "enter the year of birth 1990\n"
     ]
    },
    {
     "name": "stdout",
     "output_type": "stream",
     "text": [
      "the year age is not within the range. you cannot apply for the exams\n"
     ]
    }
   ],
   "source": [
    "year=int(input('enter the year of birth'))\n",
    "age=2025-year\n",
    "try:\n",
    "    if age<=30 and age>20:\n",
    "        print('The age is valid. you can apply for the exams')\n",
    "    else:\n",
    "        raise dobException\n",
    "except dobException:\n",
    "    print('the year age is not within the range. you cannot apply for the exams')"
   ]
  },
  {
   "cell_type": "code",
   "execution_count": null,
   "id": "7d5a123f-d63e-4bcb-afcd-555f0ba94f62",
   "metadata": {},
   "outputs": [],
   "source": []
  },
  {
   "cell_type": "code",
   "execution_count": null,
   "id": "a5599c1a-ea73-4052-a7af-a62ea350cab5",
   "metadata": {},
   "outputs": [],
   "source": []
  },
  {
   "cell_type": "code",
   "execution_count": null,
   "id": "8f878771-14c1-44e4-bd7d-8a120dc06da8",
   "metadata": {},
   "outputs": [],
   "source": []
  },
  {
   "cell_type": "code",
   "execution_count": null,
   "id": "61472eed-6672-4a89-8717-87445b88b040",
   "metadata": {},
   "outputs": [],
   "source": []
  },
  {
   "cell_type": "code",
   "execution_count": null,
   "id": "733c532b-1810-454a-9844-a7e9a5989f91",
   "metadata": {},
   "outputs": [],
   "source": []
  },
  {
   "cell_type": "code",
   "execution_count": null,
   "id": "b36e5d7c-b269-46cf-9a78-41fce0d46e6e",
   "metadata": {},
   "outputs": [],
   "source": []
  },
  {
   "cell_type": "code",
   "execution_count": null,
   "id": "5455ad83-69ef-4e30-b46a-5cf156a3b6f4",
   "metadata": {},
   "outputs": [],
   "source": []
  },
  {
   "cell_type": "code",
   "execution_count": null,
   "id": "dd4d8167-9a03-4568-babd-9a0cacd6c389",
   "metadata": {},
   "outputs": [],
   "source": []
  }
 ],
 "metadata": {
  "kernelspec": {
   "display_name": "Python 3 (ipykernel)",
   "language": "python",
   "name": "python3"
  },
  "language_info": {
   "codemirror_mode": {
    "name": "ipython",
    "version": 3
   },
   "file_extension": ".py",
   "mimetype": "text/x-python",
   "name": "python",
   "nbconvert_exporter": "python",
   "pygments_lexer": "ipython3",
   "version": "3.13.5"
  }
 },
 "nbformat": 4,
 "nbformat_minor": 5
}
