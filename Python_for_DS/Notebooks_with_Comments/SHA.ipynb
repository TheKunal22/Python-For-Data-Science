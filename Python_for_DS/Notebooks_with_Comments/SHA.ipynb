{
 "cells": [
  {
   "cell_type": "markdown",
   "id": "6e35f783-3927-4381-a125-9940a1455e5e",
   "metadata": {},
   "source": [
    "## **What is SHA256 ?**\n",
    "\n",
    "\n",
    "- SHA → stands for Secure Hash Algorithm, a family of cryptographic hash functions.\n",
    "- 256 → refers to the output size of the hash, which is 256 bits (32 bytes) long.\n",
    "- We call it SHA-256 because the hash output is 256 bits long. When represented in hexadecimal, it becomes 64 characters, and since each hex character stores 4 bits, 64 × 4 = 256."
   ]
  },
  {
   "cell_type": "markdown",
   "id": "07f77028-68ba-4631-aba9-43813d0f621e",
   "metadata": {},
   "source": [
    "## **SHA, (Secure Hash Algorithms)-Base Of BlockChain**\n",
    "\n",
    "- SHA256: This hash function to hash classs SHA-2 , the internal block size of it is 32 bits .\n",
    "- SHA384: This hash function belong to hash class SHA-2,the internal block size of it is 32 bits.This is one of the truncated version.\n",
    "- SHA224: This hash function belong to hash class SHA-2,the internal block size of it is 32 bits , This is one of the truncated version\n",
    "- SHA512: This hash function belong to hash class SHA-2,the internal block size of it is 64 bits.\n",
    "- SHA1:The 160 bit hash function that resembles MD5 hash in working and was discontinued to be used seeing its security vulnerabilities."
   ]
  },
  {
   "cell_type": "code",
   "execution_count": 2,
   "id": "30df8071-76de-44e9-9a9f-666173dde95b",
   "metadata": {},
   "outputs": [],
   "source": [
    "import hashlib "
   ]
  },
  {
   "cell_type": "markdown",
   "id": "a5cbf761-97cc-48f9-8c94-d0343290bf98",
   "metadata": {},
   "source": [
    "# **SHA256**"
   ]
  },
  {
   "cell_type": "code",
   "execution_count": 3,
   "id": "c8129653-7c89-44d7-aa06-34d0b35d3810",
   "metadata": {},
   "outputs": [
    {
     "name": "stdout",
     "output_type": "stream",
     "text": [
      "<sha256 _hashlib.HASH object @ 0x000001F3C2CE99B0>\n"
     ]
    }
   ],
   "source": [
    "str1='kunal saini'\n",
    "### Process of Hashing \n",
    "### First step is to encode \n",
    "### Then Apply hashing Algorithms\n",
    "hashedval = hashlib.sha256(str1.encode())\n",
    "print(hashedval)"
   ]
  },
  {
   "cell_type": "markdown",
   "id": "6d082afa-f2cd-458b-a049-93de9617ecde",
   "metadata": {},
   "source": [
    "### why do we have to need to convert it into hex why just see it as it is ?\n",
    "\n",
    "- The hash output is raw binary data → 256 bits (32 bytes).\n",
    "- hese bytes can contain any values from 0x00 to 0xFF (not limited to readable letters/numbers).\n",
    "\n",
    "- If you try to “print” them directly, you’ll mostly see gibberish or unprintable characters, because not every byte corresponds to a visible symbol.\n",
    "- That’s why we usually encode the hash into a readable format like:\n",
    "Hexadecimal (base-16): easy to read and compact (64 characters for SHA-256).\n",
    "Base64: shorter, still readable, often used in web APIs.\n",
    "\n"
   ]
  },
  {
   "cell_type": "code",
   "execution_count": 6,
   "id": "5d72377b-2b47-4411-8f4e-64c33af58148",
   "metadata": {},
   "outputs": [
    {
     "data": {
      "text/plain": [
       "'0ce07ca813c689526b6e78d614c972b8f2deb292b118b5ff16b3a356b9cb5b5b'"
      ]
     },
     "execution_count": 6,
     "metadata": {},
     "output_type": "execute_result"
    }
   ],
   "source": [
    "## convert this value to hexadecimal.\n",
    "hashedval.hexdigest()"
   ]
  },
  {
   "cell_type": "markdown",
   "id": "b4cdaf44-0f66-428c-a141-c752111708f9",
   "metadata": {},
   "source": [
    "# **SHA384**"
   ]
  },
  {
   "cell_type": "code",
   "execution_count": 9,
   "id": "ff94df10-0706-4ab3-bbd1-05b7afcf2ee1",
   "metadata": {},
   "outputs": [
    {
     "data": {
      "text/plain": [
       "'96daad5b93148830672b992c00023a801bc6585a7f70420cf2f8069f926cddedc3a198978f16d967b88bb3d5406c5c58'"
      ]
     },
     "execution_count": 9,
     "metadata": {},
     "output_type": "execute_result"
    }
   ],
   "source": [
    "hashedval = hashlib.sha384(str1.encode())\n",
    "hashedval.hexdigest()"
   ]
  },
  {
   "cell_type": "code",
   "execution_count": 10,
   "id": "ab4de388-c2ec-4812-8eb0-46e5089627d4",
   "metadata": {},
   "outputs": [
    {
     "data": {
      "text/plain": [
       "96"
      ]
     },
     "execution_count": 10,
     "metadata": {},
     "output_type": "execute_result"
    }
   ],
   "source": [
    "len(hashedval.hexdigest()) # 4x = 384 , x = 96  , every character stores 4 bytes . "
   ]
  },
  {
   "cell_type": "markdown",
   "id": "fb6b21e5-3562-459e-89a8-1eef04834a37",
   "metadata": {},
   "source": [
    "# **SHA256**"
   ]
  },
  {
   "cell_type": "code",
   "execution_count": 11,
   "id": "15764b14-a13b-4906-a130-e83534ca892e",
   "metadata": {},
   "outputs": [
    {
     "data": {
      "text/plain": [
       "'6bf02a48eda52ad694e519d183dc4d2558f66d0d5521896079ab671c'"
      ]
     },
     "execution_count": 11,
     "metadata": {},
     "output_type": "execute_result"
    }
   ],
   "source": [
    "hashedval = hashlib.sha224(str1.encode())\n",
    "hashedval.hexdigest()"
   ]
  },
  {
   "cell_type": "markdown",
   "id": "1b38e399-802d-4415-a04e-96e49e26d867",
   "metadata": {},
   "source": [
    "# **SHA512**"
   ]
  },
  {
   "cell_type": "code",
   "execution_count": 12,
   "id": "aa7ef4c3-357d-46ee-98b9-d3f9b5bdf531",
   "metadata": {},
   "outputs": [
    {
     "data": {
      "text/plain": [
       "'0731174b31949fcfef2bcae06f578173874b3f6f100a8a7640874f6c328fac517b16b2da94e005792009a43be1e8e8337827977346dfab5bc9ba084aabdba950'"
      ]
     },
     "execution_count": 12,
     "metadata": {},
     "output_type": "execute_result"
    }
   ],
   "source": [
    "hashedval = hashlib.sha512(str1.encode())\n",
    "hashedval.hexdigest()"
   ]
  },
  {
   "cell_type": "markdown",
   "id": "3a3d3b0a-90cc-4548-bf70-3e0770aa9618",
   "metadata": {},
   "source": [
    "# **SHA1**"
   ]
  },
  {
   "cell_type": "code",
   "execution_count": 13,
   "id": "ffd8eaea-b826-416d-b276-0eebad5c4285",
   "metadata": {},
   "outputs": [
    {
     "data": {
      "text/plain": [
       "'82b54590c1a7a0ea19da13dacd108991d908a420'"
      ]
     },
     "execution_count": 13,
     "metadata": {},
     "output_type": "execute_result"
    }
   ],
   "source": [
    "hashedval = hashlib.sha1(str1.encode())\n",
    "hashedval.hexdigest()"
   ]
  },
  {
   "cell_type": "code",
   "execution_count": null,
   "id": "1cf5455a-1885-48f0-99a9-f60462687782",
   "metadata": {},
   "outputs": [],
   "source": []
  }
 ],
 "metadata": {
  "kernelspec": {
   "display_name": "Python 3 (ipykernel)",
   "language": "python",
   "name": "python3"
  },
  "language_info": {
   "codemirror_mode": {
    "name": "ipython",
    "version": 3
   },
   "file_extension": ".py",
   "mimetype": "text/x-python",
   "name": "python",
   "nbconvert_exporter": "python",
   "pygments_lexer": "ipython3",
   "version": "3.13.5"
  }
 },
 "nbformat": 4,
 "nbformat_minor": 5
}
