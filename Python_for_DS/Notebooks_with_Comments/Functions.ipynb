{
 "cells": [
  {
   "cell_type": "markdown",
   "id": "00e1f830-5088-49bd-a51a-f9763b635083",
   "metadata": {},
   "source": [
    "# **Functions in Python**\n",
    "\n",
    "- why functions\n",
    "- function definition\n",
    "- positional and keyword arguments in functions"
   ]
  },
  {
   "cell_type": "code",
   "execution_count": 2,
   "id": "58badcdc-6da2-4d2a-89a5-6a72aeabe28a",
   "metadata": {},
   "outputs": [],
   "source": [
    "def even_odd(num):\n",
    "        num=24\n",
    "        \n",
    "        if num%2==0:\n",
    "            print(\"the number is even\")\n",
    "        else:\n",
    "            print(\"the num is odd\")"
   ]
  },
  {
   "cell_type": "code",
   "execution_count": 3,
   "id": "5aeab80b-99a4-491d-ac95-279f1018e459",
   "metadata": {},
   "outputs": [
    {
     "name": "stdout",
     "output_type": "stream",
     "text": [
      "the number is even\n"
     ]
    }
   ],
   "source": [
    "even_odd(24)"
   ]
  },
  {
   "cell_type": "code",
   "execution_count": 4,
   "id": "a94b10ef-b537-41eb-982b-2b0234a15fba",
   "metadata": {},
   "outputs": [
    {
     "ename": "TypeError",
     "evalue": "even_odd() missing 1 required positional argument: 'num'",
     "output_type": "error",
     "traceback": [
      "\u001b[1;31m---------------------------------------------------------------------------\u001b[0m",
      "\u001b[1;31mTypeError\u001b[0m                                 Traceback (most recent call last)",
      "Cell \u001b[1;32mIn[4], line 1\u001b[0m\n\u001b[1;32m----> 1\u001b[0m even_odd()\n",
      "\u001b[1;31mTypeError\u001b[0m: even_odd() missing 1 required positional argument: 'num'"
     ]
    }
   ],
   "source": [
    "even_odd() ''' here as we can see we are getting an error called positional argument , going to discuus this soonn . '''"
   ]
  },
  {
   "cell_type": "code",
   "execution_count": 5,
   "id": "d4f3f54d-49a6-410f-8aac-b8d609933eff",
   "metadata": {},
   "outputs": [
    {
     "name": "stdout",
     "output_type": "stream",
     "text": [
      "the number is even\n"
     ]
    }
   ],
   "source": [
    "even_odd(30)"
   ]
  },
  {
   "cell_type": "code",
   "execution_count": null,
   "id": "a1172b42-4a2a-4c5a-bb84-9c74eeef2922",
   "metadata": {},
   "outputs": [],
   "source": [
    " ''' now we are going to discuss what is the difference between the print and the return.\n",
    "\n",
    "    as we all know that print function is used just for printing something at the screen,\n",
    "    it does not return anything back to the function . "
   ]
  },
  {
   "cell_type": "code",
   "execution_count": 7,
   "id": "656948cc-de88-43bc-b9e1-90f49dc32ae3",
   "metadata": {},
   "outputs": [],
   "source": [
    "def hello_world():\n",
    "    print('hello world')"
   ]
  },
  {
   "cell_type": "code",
   "execution_count": 9,
   "id": "cdd140b5-4b38-4933-9f94-ca29bef59930",
   "metadata": {},
   "outputs": [
    {
     "name": "stdout",
     "output_type": "stream",
     "text": [
      "hello world\n",
      "None\n"
     ]
    }
   ],
   "source": [
    "var = hello_world()\n"
   ]
  },
  {
   "cell_type": "code",
   "execution_count": 10,
   "id": "57425018-a9f6-4821-ad3e-b7df53027a03",
   "metadata": {},
   "outputs": [
    {
     "name": "stdout",
     "output_type": "stream",
     "text": [
      "None\n"
     ]
    }
   ],
   "source": [
    "print(var) # now here we can see it does not return anything . "
   ]
  },
  {
   "cell_type": "code",
   "execution_count": 11,
   "id": "522aea9e-abda-4311-915c-74484fd37e5b",
   "metadata": {},
   "outputs": [],
   "source": [
    "'''Now, if we use the return keyword, it will return 'Hello World' to the function, \n",
    "   which we can then see when we print the variable.'''\n",
    "\n",
    "def hello_world2():\n",
    "    return 'hello world'\n"
   ]
  },
  {
   "cell_type": "code",
   "execution_count": 12,
   "id": "78a3bbaf-5cd0-46ac-a27b-9d710336b9bd",
   "metadata": {},
   "outputs": [],
   "source": [
    "var = hello_world2()\n"
   ]
  },
  {
   "cell_type": "code",
   "execution_count": 13,
   "id": "6593076c-83b0-4884-8de8-33e76ff91bbb",
   "metadata": {},
   "outputs": [
    {
     "name": "stdout",
     "output_type": "stream",
     "text": [
      "hello world\n"
     ]
    }
   ],
   "source": [
    "print(var) # here it is . "
   ]
  },
  {
   "cell_type": "code",
   "execution_count": 14,
   "id": "479e9847-674b-4435-bb4c-89e1671c6b80",
   "metadata": {},
   "outputs": [],
   "source": [
    "def add_number(num1,num2):\n",
    "    return num1+num2"
   ]
  },
  {
   "cell_type": "code",
   "execution_count": 15,
   "id": "e34d8463-3608-4560-bf87-eaa4c1aa2fcd",
   "metadata": {},
   "outputs": [],
   "source": [
    "var = add_number(24,26)"
   ]
  },
  {
   "cell_type": "code",
   "execution_count": 16,
   "id": "ab3bcc1a-8db7-4382-b536-4cbd4cbdf050",
   "metadata": {},
   "outputs": [
    {
     "data": {
      "text/plain": [
       "50"
      ]
     },
     "execution_count": 16,
     "metadata": {},
     "output_type": "execute_result"
    }
   ],
   "source": [
    "var"
   ]
  },
  {
   "cell_type": "code",
   "execution_count": 26,
   "id": "7a113006-6db1-4963-a9d5-60ba08b7f2e2",
   "metadata": {},
   "outputs": [],
   "source": [
    "## positional argument , whene the value is not innitalize here is like name whose value is not initalized this is called positonal arugment , why do we call them positona arguemtents ? --> because in positional arugments means order , the position , the order of the arguments matters , they are assigned to the parametres based on their orders not names \n",
    "\n",
    "## keyword argument , and whose value is initalized , here like last_name initialized with saini , this is called keyword arguments because the values are passed by keyboard directly .\n",
    "\n",
    "def hello(name , last_name='saini'):\n",
    "    print('my first name is {} and my last name is {}'.format(name,last_name))"
   ]
  },
  {
   "cell_type": "code",
   "execution_count": 28,
   "id": "89f81ca2-96c7-435e-98c0-398b38d58d8f",
   "metadata": {},
   "outputs": [
    {
     "name": "stdout",
     "output_type": "stream",
     "text": [
      "my first name is kunal and my last name is saini\n"
     ]
    }
   ],
   "source": [
    "hello('kunal')"
   ]
  },
  {
   "cell_type": "code",
   "execution_count": 32,
   "id": "cc99025b-8219-48dd-9c7d-26b67aaab3c5",
   "metadata": {},
   "outputs": [],
   "source": [
    "''' what is *args and **kwargs ?'''\n",
    "\n",
    "''' *args is used to handle positional arguments. For example,\n",
    "    when we call the function with \"Kunal\" and \"Saini\",\n",
    "    these values are passed as positional arguments.\n",
    "    They are not initialized in the function definition, and the order of values matters.\n",
    "'''\n",
    "\n",
    "'''**kwargs is used to handle keyword arguments. \n",
    "    These are passed as key-value pairs, and\n",
    "    they can be processed inside the function even though they \n",
    "    are not predefined in the parameter list.\n",
    " '''\n",
    "def hello(*args,**kwargs):\n",
    "    print(args) \n",
    "    print(kwargs)"
   ]
  },
  {
   "cell_type": "code",
   "execution_count": 33,
   "id": "2ea2e3e8-a4de-4982-831b-9b285549a36f",
   "metadata": {},
   "outputs": [
    {
     "name": "stdout",
     "output_type": "stream",
     "text": [
      "('kunal', 'saini')\n",
      "{'sports': 'cricket', 'dob': 2004}\n"
     ]
    }
   ],
   "source": [
    "hello('kunal','saini',sports='cricket',dob=2004)"
   ]
  },
  {
   "cell_type": "code",
   "execution_count": 34,
   "id": "97145494-5f15-4fa5-951b-6c41c8353997",
   "metadata": {},
   "outputs": [],
   "source": [
    "lst=['Krish','Naik']\n",
    "dict_args={'age':29,'dob':1990} "
   ]
  },
  {
   "cell_type": "code",
   "execution_count": 35,
   "id": "b9e3b301-9653-41dc-9439-5c6977e0f271",
   "metadata": {},
   "outputs": [
    {
     "name": "stdout",
     "output_type": "stream",
     "text": [
      "('Krish', 'Naik')\n",
      "{'age': 29, 'dob': 1990}\n"
     ]
    }
   ],
   "source": [
    "hello(*lst,**dict_args) # why used * because we have to mention that which one is positonal argument and which one is keyboard araguemts otherwise it will dislay all under args ."
   ]
  },
  {
   "cell_type": "code",
   "execution_count": 36,
   "id": "f80852a1-5763-46a3-a1bc-2458a05fb7cc",
   "metadata": {},
   "outputs": [],
   "source": [
    "lst=[1,2,3,4,5,6,7]"
   ]
  },
  {
   "cell_type": "code",
   "execution_count": 39,
   "id": "e940a850-1d3c-441e-8cb7-db54fb8a79bf",
   "metadata": {},
   "outputs": [],
   "source": [
    "def evenoddsum(lst):\n",
    "    even_sum=0\n",
    "    odd_sum=0\n",
    "    for i in lst:\n",
    "        if i%2==0:  \n",
    "            even_sum=even_sum+i\n",
    "\n",
    "        else:\n",
    "            odd_sum=odd_sum+i\n",
    "    return even_sum,odd_sum\n",
    "                "
   ]
  },
  {
   "cell_type": "code",
   "execution_count": 40,
   "id": "22fc2db8-e336-43bc-8b77-a2cbae2a5bf0",
   "metadata": {},
   "outputs": [
    {
     "data": {
      "text/plain": [
       "(12, 16)"
      ]
     },
     "execution_count": 40,
     "metadata": {},
     "output_type": "execute_result"
    }
   ],
   "source": [
    "evenoddsum(lst)"
   ]
  }
 ],
 "metadata": {
  "kernelspec": {
   "display_name": "Python 3 (ipykernel)",
   "language": "python",
   "name": "python3"
  },
  "language_info": {
   "codemirror_mode": {
    "name": "ipython",
    "version": 3
   },
   "file_extension": ".py",
   "mimetype": "text/x-python",
   "name": "python",
   "nbconvert_exporter": "python",
   "pygments_lexer": "ipython3",
   "version": "3.13.5"
  }
 },
 "nbformat": 4,
 "nbformat_minor": 5
}
