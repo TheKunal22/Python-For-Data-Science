{
 "cells": [
  {
   "cell_type": "markdown",
   "id": "1bbca4b6-27a3-4dda-a954-047ef5fba9e9",
   "metadata": {},
   "source": [
    "# Class Methods And Class variables"
   ]
  },
  {
   "cell_type": "code",
   "execution_count": 1,
   "id": "e8e8620c-71e9-46c5-8a18-c35294222e94",
   "metadata": {},
   "outputs": [],
   "source": [
    "class Car:\n",
    "    base_prices=100000 ## class variables\n",
    "    def __init__(self,windows,doors,power):\n",
    "        self.windows=windows\n",
    "        self.doors=doors\n",
    "        self.power=power\n",
    "    def what_base_price(self):\n",
    "        print(\"the base price is {}\".format(self.base_prices))"
   ]
  },
  {
   "cell_type": "code",
   "execution_count": 3,
   "id": "057ceaaa-c01e-459d-8f45-223434b325be",
   "metadata": {},
   "outputs": [
    {
     "data": {
      "text/plain": [
       "100000"
      ]
     },
     "execution_count": 3,
     "metadata": {},
     "output_type": "execute_result"
    }
   ],
   "source": [
    "car1=Car(4,5,2000)\n",
    "car1.base_prices"
   ]
  },
  {
   "cell_type": "code",
   "execution_count": 4,
   "id": "18d8f285-11dc-4267-b181-f2d5e04b7c43",
   "metadata": {},
   "outputs": [
    {
     "data": {
      "text/plain": [
       "100000"
      ]
     },
     "execution_count": 4,
     "metadata": {},
     "output_type": "execute_result"
    }
   ],
   "source": [
    "Car.base_prices"
   ]
  },
  {
   "cell_type": "code",
   "execution_count": 6,
   "id": "6fb2fa70-121d-45b3-a74e-517c869ccfc2",
   "metadata": {},
   "outputs": [],
   "source": [
    "# now we are going to use the class method .\n",
    "\n",
    "class Car:\n",
    "    base_prices=100000 ## class variables\n",
    "    def __init__(self,windows,doors,power):\n",
    "        self.windows=windows\n",
    "        self.doors=doors\n",
    "        self.power=power\n",
    "    def what_base_price(self):\n",
    "        print(\"the base price is {}\".format(self.base_prices))\n",
    "    @classmethod\n",
    "    # whenever we are defining class method we have to provide the cls parameter whenever we provide the self parameter it is actually means it is with respect to the instance of the classs but whenever we supply cls it is with respect to the class itself . \n",
    "    def revise_base_price(cls,inflatation):\n",
    "        cls.base_prices=cls.base_prices+cls.base_prices*inflatation"
   ]
  },
  {
   "cell_type": "code",
   "execution_count": 7,
   "id": "3640cf97-cdfc-47b1-8cd9-040f0cceb7ca",
   "metadata": {},
   "outputs": [],
   "source": [
    "# preferred use this  , it is well known and easier to handle method . \n",
    "Car.revise_base_price(0.10)"
   ]
  },
  {
   "cell_type": "code",
   "execution_count": 8,
   "id": "b3e9fade-9c1c-492c-8aa2-272421095dde",
   "metadata": {},
   "outputs": [
    {
     "data": {
      "text/plain": [
       "110000.0"
      ]
     },
     "execution_count": 8,
     "metadata": {},
     "output_type": "execute_result"
    }
   ],
   "source": [
    "Car.base_prices"
   ]
  },
  {
   "cell_type": "code",
   "execution_count": 9,
   "id": "f16cc082-dc7e-480b-b9c4-f7704b5437a6",
   "metadata": {},
   "outputs": [],
   "source": [
    "car1=Car(3,4,4999)"
   ]
  },
  {
   "cell_type": "code",
   "execution_count": 10,
   "id": "285c2da0-55b8-43e4-9185-81cf236c0d62",
   "metadata": {},
   "outputs": [
    {
     "data": {
      "text/plain": [
       "110000.0"
      ]
     },
     "execution_count": 10,
     "metadata": {},
     "output_type": "execute_result"
    }
   ],
   "source": [
    "car1.base_prices"
   ]
  },
  {
   "cell_type": "code",
   "execution_count": 11,
   "id": "0c544b16-8e09-494b-b760-f2c44248f170",
   "metadata": {},
   "outputs": [],
   "source": [
    "car1.revise_base_price(0.10)"
   ]
  },
  {
   "cell_type": "code",
   "execution_count": 12,
   "id": "c2dc865b-4d2a-4484-9567-404271728d00",
   "metadata": {},
   "outputs": [
    {
     "data": {
      "text/plain": [
       "121000.0"
      ]
     },
     "execution_count": 12,
     "metadata": {},
     "output_type": "execute_result"
    }
   ],
   "source": [
    "car1.base_prices"
   ]
  },
  {
   "cell_type": "code",
   "execution_count": 14,
   "id": "b3a56efc-d10d-4784-98f2-a506a8ba0cc1",
   "metadata": {},
   "outputs": [],
   "source": [
    "car3=Car(4,6,6544)"
   ]
  },
  {
   "cell_type": "code",
   "execution_count": 15,
   "id": "56cc6664-5d02-4b8a-bf25-0ae4758da433",
   "metadata": {},
   "outputs": [
    {
     "data": {
      "text/plain": [
       "<bound method Car.revise_base_price of <class '__main__.Car'>>"
      ]
     },
     "execution_count": 15,
     "metadata": {},
     "output_type": "execute_result"
    }
   ],
   "source": [
    "car3.revise_base_price"
   ]
  },
  {
   "cell_type": "code",
   "execution_count": null,
   "id": "3fcbf920-d9e5-434c-95d0-ee131d10fcc6",
   "metadata": {},
   "outputs": [],
   "source": [
    "# class methods can definetly can be used to  update the class variable only once . so that whenever you are createing a new instance , auto that value get changed "
   ]
  },
  {
   "cell_type": "code",
   "execution_count": null,
   "id": "1b8452d9-6f99-42b0-8733-058209fb86b6",
   "metadata": {},
   "outputs": [],
   "source": []
  },
  {
   "cell_type": "code",
   "execution_count": null,
   "id": "3548d343-c0cc-4064-a880-e22688afcd24",
   "metadata": {},
   "outputs": [],
   "source": []
  },
  {
   "cell_type": "code",
   "execution_count": null,
   "id": "21223228-cd32-442d-bba6-8dd3bf5aa496",
   "metadata": {},
   "outputs": [],
   "source": []
  },
  {
   "cell_type": "code",
   "execution_count": null,
   "id": "e916e764-f72f-491c-ac13-882b3db5f3b0",
   "metadata": {},
   "outputs": [],
   "source": []
  },
  {
   "cell_type": "code",
   "execution_count": null,
   "id": "3e30903f-4d2d-4db8-9f2d-508c6786da6d",
   "metadata": {},
   "outputs": [],
   "source": []
  },
  {
   "cell_type": "code",
   "execution_count": null,
   "id": "b5384f5f-9cf7-4804-9a03-c6ea6ae3b8ba",
   "metadata": {},
   "outputs": [],
   "source": []
  },
  {
   "cell_type": "code",
   "execution_count": null,
   "id": "dbefd71e-c57b-4adf-8534-a2b07f9c3d93",
   "metadata": {},
   "outputs": [],
   "source": []
  },
  {
   "cell_type": "code",
   "execution_count": null,
   "id": "98009fff-5a27-45bf-8002-3fd117bbbe60",
   "metadata": {},
   "outputs": [],
   "source": []
  },
  {
   "cell_type": "code",
   "execution_count": null,
   "id": "2af3fd40-9d23-42be-9145-4df943c4de6c",
   "metadata": {},
   "outputs": [],
   "source": []
  },
  {
   "cell_type": "code",
   "execution_count": null,
   "id": "d477a75c-a569-44ea-a6ec-c7cd5cacc113",
   "metadata": {},
   "outputs": [],
   "source": []
  },
  {
   "cell_type": "code",
   "execution_count": null,
   "id": "e33fd825-f252-4b13-93fb-d93608faa5f2",
   "metadata": {},
   "outputs": [],
   "source": []
  },
  {
   "cell_type": "code",
   "execution_count": null,
   "id": "e80a45ce-918a-4220-b5a4-0b37e05249ec",
   "metadata": {},
   "outputs": [],
   "source": []
  },
  {
   "cell_type": "code",
   "execution_count": null,
   "id": "1acbb311-e978-43fe-9766-d41d882d0ddd",
   "metadata": {},
   "outputs": [],
   "source": []
  },
  {
   "cell_type": "code",
   "execution_count": null,
   "id": "32b7d2c5-df74-4c79-bab1-c2f6d78c87a2",
   "metadata": {},
   "outputs": [],
   "source": []
  },
  {
   "cell_type": "code",
   "execution_count": null,
   "id": "a24b962c-3082-44c0-be20-6da3dc687daf",
   "metadata": {},
   "outputs": [],
   "source": []
  },
  {
   "cell_type": "code",
   "execution_count": null,
   "id": "2f54aab6-e986-4632-b238-aa99720d3385",
   "metadata": {},
   "outputs": [],
   "source": []
  },
  {
   "cell_type": "code",
   "execution_count": null,
   "id": "2d4e9bfe-270b-4054-ad1a-36817f9470be",
   "metadata": {},
   "outputs": [],
   "source": []
  },
  {
   "cell_type": "code",
   "execution_count": null,
   "id": "8cb2f0bb-efd2-4276-8ab2-20326f138b3b",
   "metadata": {},
   "outputs": [],
   "source": []
  }
 ],
 "metadata": {
  "kernelspec": {
   "display_name": "Python 3 (ipykernel)",
   "language": "python",
   "name": "python3"
  },
  "language_info": {
   "codemirror_mode": {
    "name": "ipython",
    "version": 3
   },
   "file_extension": ".py",
   "mimetype": "text/x-python",
   "name": "python",
   "nbconvert_exporter": "python",
   "pygments_lexer": "ipython3",
   "version": "3.13.5"
  }
 },
 "nbformat": 4,
 "nbformat_minor": 5
}
