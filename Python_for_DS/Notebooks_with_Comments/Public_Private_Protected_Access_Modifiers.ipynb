{
 "cells": [
  {
   "cell_type": "markdown",
   "id": "33155222-8d77-44e7-bc6a-ba5238ac1a94",
   "metadata": {},
   "source": [
    "# **Python OOPS-Public,Protected And Private**"
   ]
  },
  {
   "cell_type": "markdown",
   "id": "64505da4-72c1-49c8-aca9-f53f40afb5ae",
   "metadata": {},
   "source": [
    "🔹 Protected variables in Python (_var)\n",
    "\n",
    "- Single underscore = protected (by convention only)\n",
    "\n",
    "- Child classes can access & override them via inheritance\n",
    "\n",
    "- Outside access is possible, but not recommended\n",
    "\n",
    "- Rule of thumb → “Meant for subclasses, not for the public”\n",
    "\n",
    "\n",
    "\n",
    "key line :  Protected = _var → meant for subclasses, accessible + overridable, but not for outsiders."
   ]
  },
  {
   "cell_type": "code",
   "execution_count": 3,
   "id": "16fef01e-7f82-48db-b5cb-65f38d5292cb",
   "metadata": {},
   "outputs": [],
   "source": [
    "### All the class variables are public\n",
    "\n",
    "class Car():\n",
    "    # this __init__ is called constructor or a initializer method .\n",
    "    def __init__(self,windows,doors,enginetype):\n",
    "        self.windows=windows\n",
    "        self.doors=doors\n",
    "        self.enginetype=enginetype"
   ]
  },
  {
   "cell_type": "code",
   "execution_count": 4,
   "id": "35a71348-d48c-415e-868e-13051fb488f1",
   "metadata": {},
   "outputs": [],
   "source": [
    "audi=Car(4,5,'petrol')"
   ]
  },
  {
   "cell_type": "code",
   "execution_count": 9,
   "id": "4919b677-899a-464f-b8d1-d82d20d6d135",
   "metadata": {},
   "outputs": [
    {
     "data": {
      "text/plain": [
       "['__class__',\n",
       " '__delattr__',\n",
       " '__dict__',\n",
       " '__dir__',\n",
       " '__doc__',\n",
       " '__eq__',\n",
       " '__firstlineno__',\n",
       " '__format__',\n",
       " '__ge__',\n",
       " '__getattribute__',\n",
       " '__getstate__',\n",
       " '__gt__',\n",
       " '__hash__',\n",
       " '__init__',\n",
       " '__init_subclass__',\n",
       " '__le__',\n",
       " '__lt__',\n",
       " '__module__',\n",
       " '__ne__',\n",
       " '__new__',\n",
       " '__reduce__',\n",
       " '__reduce_ex__',\n",
       " '__repr__',\n",
       " '__setattr__',\n",
       " '__sizeof__',\n",
       " '__static_attributes__',\n",
       " '__str__',\n",
       " '__subclasshook__',\n",
       " '__weakref__',\n",
       " 'doors',\n",
       " 'enginetype',\n",
       " 'windows']"
      ]
     },
     "execution_count": 9,
     "metadata": {},
     "output_type": "execute_result"
    }
   ],
   "source": [
    "dir(audi)\n",
    "# here you can see enginetype , windows and doors are mentioned in the dir , these are there becauess thesse are public variable when can call them from anywhere . "
   ]
  },
  {
   "cell_type": "code",
   "execution_count": 8,
   "id": "27c7ef80-0d25-47e0-ba8a-e0ad7468d63e",
   "metadata": {},
   "outputs": [],
   "source": [
    "### All the class variables are protected\n",
    "\n",
    "class Car():\n",
    "    # this __init__ is called constructor or a initializer method .\n",
    "    def __init__(self,windows,doors,enginetype):\n",
    "        self._windows=windows\n",
    "        self._doors=doors\n",
    "        self._enginetype=enginetype"
   ]
  },
  {
   "cell_type": "code",
   "execution_count": 10,
   "id": "c2e078c0-5aa5-4778-a992-20d837f16628",
   "metadata": {},
   "outputs": [],
   "source": [
    "# now the public varibales will get replaced by the protected variables . so means we can replace them , you cana see using dir \n",
    "\n",
    "audi=Car(4,4,'disel')"
   ]
  },
  {
   "cell_type": "code",
   "execution_count": 11,
   "id": "4d972c70-e11d-4938-9f04-c6ff49559087",
   "metadata": {},
   "outputs": [
    {
     "data": {
      "text/plain": [
       "<__main__.Car at 0x20bf2986e40>"
      ]
     },
     "execution_count": 11,
     "metadata": {},
     "output_type": "execute_result"
    }
   ],
   "source": [
    "audi"
   ]
  },
  {
   "cell_type": "code",
   "execution_count": 12,
   "id": "f8b29530-ed7a-4256-9dc6-089be424399e",
   "metadata": {},
   "outputs": [
    {
     "data": {
      "text/plain": [
       "['__class__',\n",
       " '__delattr__',\n",
       " '__dict__',\n",
       " '__dir__',\n",
       " '__doc__',\n",
       " '__eq__',\n",
       " '__firstlineno__',\n",
       " '__format__',\n",
       " '__ge__',\n",
       " '__getattribute__',\n",
       " '__getstate__',\n",
       " '__gt__',\n",
       " '__hash__',\n",
       " '__init__',\n",
       " '__init_subclass__',\n",
       " '__le__',\n",
       " '__lt__',\n",
       " '__module__',\n",
       " '__ne__',\n",
       " '__new__',\n",
       " '__reduce__',\n",
       " '__reduce_ex__',\n",
       " '__repr__',\n",
       " '__setattr__',\n",
       " '__sizeof__',\n",
       " '__static_attributes__',\n",
       " '__str__',\n",
       " '__subclasshook__',\n",
       " '__weakref__',\n",
       " '_doors',\n",
       " '_enginetype',\n",
       " '_windows']"
      ]
     },
     "execution_count": 12,
     "metadata": {},
     "output_type": "execute_result"
    }
   ],
   "source": [
    "dir(audi)"
   ]
  },
  {
   "cell_type": "markdown",
   "id": "294c6105-6325-4317-a4c6-e862716eac59",
   "metadata": {},
   "source": [
    "in the above cell you can see the public variables are replaced by the protected varibales in the object . python never restrict us doing this ."
   ]
  },
  {
   "cell_type": "markdown",
   "id": "9d716fec-44a6-40f8-99e1-5ede2113fbe7",
   "metadata": {},
   "source": [
    "In the case of protected varibales the overwriteen should only be happen through a subclass \n",
    "\n",
    "suppose this particular car can be inherited by another classs that time if we really wanna use these variables or overwrite it that basically means only the overwrite functionality is availabe in the subclass .  \n",
    "\n",
    "Protected variables in Python can be accessed and overridden by child classes through inheritance. Technically, they can also be accessed outside the class, but by convention, they are meant for internal or subclass use only."
   ]
  },
  {
   "cell_type": "code",
   "execution_count": 16,
   "id": "e17183e1-c281-42e6-ad8c-d87cae75277a",
   "metadata": {},
   "outputs": [],
   "source": [
    "class Truck(Car):\n",
    "    def __init__(self,windows,doors,enginetype,horsepower):\n",
    "        super().__init__(windows,doors,enginetype)\n",
    "        self.horsepower=horsepower"
   ]
  },
  {
   "cell_type": "code",
   "execution_count": 18,
   "id": "0717faf7-c1a4-4790-ae98-bbc1dcbc2a43",
   "metadata": {},
   "outputs": [
    {
     "data": {
      "text/plain": [
       "['__class__',\n",
       " '__delattr__',\n",
       " '__dict__',\n",
       " '__dir__',\n",
       " '__doc__',\n",
       " '__eq__',\n",
       " '__firstlineno__',\n",
       " '__format__',\n",
       " '__ge__',\n",
       " '__getattribute__',\n",
       " '__getstate__',\n",
       " '__gt__',\n",
       " '__hash__',\n",
       " '__init__',\n",
       " '__init_subclass__',\n",
       " '__le__',\n",
       " '__lt__',\n",
       " '__module__',\n",
       " '__ne__',\n",
       " '__new__',\n",
       " '__reduce__',\n",
       " '__reduce_ex__',\n",
       " '__repr__',\n",
       " '__setattr__',\n",
       " '__sizeof__',\n",
       " '__static_attributes__',\n",
       " '__str__',\n",
       " '__subclasshook__',\n",
       " '__weakref__',\n",
       " '_doors',\n",
       " '_enginetype',\n",
       " '_windows',\n",
       " 'horsepower']"
      ]
     },
     "execution_count": 18,
     "metadata": {},
     "output_type": "execute_result"
    }
   ],
   "source": [
    "truck=Truck(4,4,'diesel',4000)\n",
    "dir(truck)\n",
    "\n",
    "# you can see all we are getting protected type in this dir of truck becauese our inheritance class object variables in car class are protected variables.   "
   ]
  },
  {
   "cell_type": "code",
   "execution_count": 21,
   "id": "63871977-6069-4821-a327-474b1c2f5364",
   "metadata": {},
   "outputs": [],
   "source": [
    "# it is the best convention to overwrite the protected variables from a child class . in this here is truck is the child class inherited from parent class which is a car class . \n",
    "\n",
    "truck._doors=5"
   ]
  },
  {
   "cell_type": "code",
   "execution_count": 22,
   "id": "60c12ac4-704d-4840-99f7-84b9633ce81c",
   "metadata": {},
   "outputs": [
    {
     "data": {
      "text/plain": [
       "5"
      ]
     },
     "execution_count": 22,
     "metadata": {},
     "output_type": "execute_result"
    }
   ],
   "source": [
    "truck._doors\n"
   ]
  },
  {
   "cell_type": "code",
   "execution_count": 24,
   "id": "7981658a-76d7-4569-915b-5e9f08f17c9b",
   "metadata": {},
   "outputs": [],
   "source": [
    "### private = it cannot be overwritten or accessed from anywhere \n",
    "### protected = it can be accessed only from a subclass or a child class\n",
    "### public = it can be accessed or overwritten from anywhere inside or outside of a class . "
   ]
  },
  {
   "cell_type": "markdown",
   "id": "642986ad-00d3-46ff-80b7-a39520ea109d",
   "metadata": {},
   "source": [
    "### private \n"
   ]
  },
  {
   "cell_type": "code",
   "execution_count": 25,
   "id": "03acc887-a66c-4177-8ffd-53317641335b",
   "metadata": {},
   "outputs": [],
   "source": [
    "### private \n",
    "class Car():\n",
    "    # this __init__ is called constructor or a initializer method .\n",
    "    def __init__(self,windows,doors,enginetype):\n",
    "        self.__windows=windows\n",
    "        self.__doors=doors\n",
    "        self.__enginetype=enginetype"
   ]
  },
  {
   "cell_type": "code",
   "execution_count": 27,
   "id": "56e60f21-65b4-4923-8615-2191b9dce829",
   "metadata": {},
   "outputs": [],
   "source": [
    "audi=Car(4,4,'diesel')"
   ]
  },
  {
   "cell_type": "code",
   "execution_count": 28,
   "id": "bf1df0bb-2eb8-4332-8090-0675547644e5",
   "metadata": {},
   "outputs": [
    {
     "data": {
      "text/plain": [
       "['_Car__doors',\n",
       " '_Car__enginetype',\n",
       " '_Car__windows',\n",
       " '__class__',\n",
       " '__delattr__',\n",
       " '__dict__',\n",
       " '__dir__',\n",
       " '__doc__',\n",
       " '__eq__',\n",
       " '__firstlineno__',\n",
       " '__format__',\n",
       " '__ge__',\n",
       " '__getattribute__',\n",
       " '__getstate__',\n",
       " '__gt__',\n",
       " '__hash__',\n",
       " '__init__',\n",
       " '__init_subclass__',\n",
       " '__le__',\n",
       " '__lt__',\n",
       " '__module__',\n",
       " '__ne__',\n",
       " '__new__',\n",
       " '__reduce__',\n",
       " '__reduce_ex__',\n",
       " '__repr__',\n",
       " '__setattr__',\n",
       " '__sizeof__',\n",
       " '__static_attributes__',\n",
       " '__str__',\n",
       " '__subclasshook__',\n",
       " '__weakref__']"
      ]
     },
     "execution_count": 28,
     "metadata": {},
     "output_type": "execute_result"
    }
   ],
   "source": [
    "dir(audi)\n",
    "\n",
    "# now as you can see we are not able to see the varibales in the dir , this is the indication that these particular class variables cannot be accessed or modified from  outside of the class , only the initalization time we can put or change the value and after that we can not channge the value .\n"
   ]
  },
  {
   "cell_type": "code",
   "execution_count": 29,
   "id": "ca6aa444-52f8-4554-acb4-068e62bb2944",
   "metadata": {},
   "outputs": [],
   "source": [
    "# although we can overwrite nothing is restricted in python \n",
    "# we can overwrite it but it cannot be accesssed or modified it outside of the given class.\n",
    "audi._Car__doors=5"
   ]
  },
  {
   "cell_type": "code",
   "execution_count": 30,
   "id": "c5d0218e-26e7-42ee-95bb-aa8453309d01",
   "metadata": {},
   "outputs": [
    {
     "data": {
      "text/plain": [
       "5"
      ]
     },
     "execution_count": 30,
     "metadata": {},
     "output_type": "execute_result"
    }
   ],
   "source": [
    "audi._Car__doors"
   ]
  },
  {
   "cell_type": "code",
   "execution_count": 31,
   "id": "47e4ad6a-2f79-4d86-8889-530aaefb9180",
   "metadata": {},
   "outputs": [
    {
     "data": {
      "text/plain": [
       "['_Car__doors',\n",
       " '_Car__enginetype',\n",
       " '_Car__windows',\n",
       " '__class__',\n",
       " '__delattr__',\n",
       " '__dict__',\n",
       " '__dir__',\n",
       " '__doc__',\n",
       " '__eq__',\n",
       " '__firstlineno__',\n",
       " '__format__',\n",
       " '__ge__',\n",
       " '__getattribute__',\n",
       " '__getstate__',\n",
       " '__gt__',\n",
       " '__hash__',\n",
       " '__init__',\n",
       " '__init_subclass__',\n",
       " '__le__',\n",
       " '__lt__',\n",
       " '__module__',\n",
       " '__ne__',\n",
       " '__new__',\n",
       " '__reduce__',\n",
       " '__reduce_ex__',\n",
       " '__repr__',\n",
       " '__setattr__',\n",
       " '__sizeof__',\n",
       " '__static_attributes__',\n",
       " '__str__',\n",
       " '__subclasshook__',\n",
       " '__weakref__']"
      ]
     },
     "execution_count": 31,
     "metadata": {},
     "output_type": "execute_result"
    }
   ],
   "source": [
    "dir(audi)"
   ]
  },
  {
   "cell_type": "code",
   "execution_count": null,
   "id": "f5c3998f-1dd5-42ca-9275-4140e1aae495",
   "metadata": {},
   "outputs": [],
   "source": []
  }
 ],
 "metadata": {
  "kernelspec": {
   "display_name": "Python 3 (ipykernel)",
   "language": "python",
   "name": "python3"
  },
  "language_info": {
   "codemirror_mode": {
    "name": "ipython",
    "version": 3
   },
   "file_extension": ".py",
   "mimetype": "text/x-python",
   "name": "python",
   "nbconvert_exporter": "python",
   "pygments_lexer": "ipython3",
   "version": "3.13.5"
  }
 },
 "nbformat": 4,
 "nbformat_minor": 5
}
