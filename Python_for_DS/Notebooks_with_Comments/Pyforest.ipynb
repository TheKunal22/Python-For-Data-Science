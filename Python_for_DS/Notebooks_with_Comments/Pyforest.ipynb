{
 "cells": [
  {
   "cell_type": "markdown",
   "id": "09a493dc-7565-4793-8c10-45812bc3bf5c",
   "metadata": {},
   "source": [
    "# pyforest - lazy-import of all python data science libraries . \n",
    "\n",
    "pyforest lazy-imports all popular python data science librarires so that they are alwyas there when you need them . if you dont use a library , it wont be imported. when you are done with your script ,you can export the python code for the import statements ."
   ]
  },
  {
   "cell_type": "code",
   "execution_count": 13,
   "id": "0a0ee09b-f473-455e-a39e-74afbd525894",
   "metadata": {},
   "outputs": [
    {
     "data": {
      "application/javascript": [
       "\n",
       "        if (window._pyforest_update_imports_cell) { window._pyforest_update_imports_cell('import pandas as pd'); }\n",
       "    "
      ],
      "text/plain": [
       "<IPython.core.display.Javascript object>"
      ]
     },
     "metadata": {},
     "output_type": "display_data"
    }
   ],
   "source": [
    "df=pd.read_csv(\"https://data.scorenetwork.org/data/beijing_athletes.csv\")"
   ]
  },
  {
   "cell_type": "code",
   "execution_count": 14,
   "id": "b4a58cf6-fad2-4bb4-9fc0-5b8e19eb3162",
   "metadata": {},
   "outputs": [
    {
     "data": {
      "text/html": [
       "<div>\n",
       "<style scoped>\n",
       "    .dataframe tbody tr th:only-of-type {\n",
       "        vertical-align: middle;\n",
       "    }\n",
       "\n",
       "    .dataframe tbody tr th {\n",
       "        vertical-align: top;\n",
       "    }\n",
       "\n",
       "    .dataframe thead th {\n",
       "        text-align: right;\n",
       "    }\n",
       "</style>\n",
       "<table border=\"1\" class=\"dataframe\">\n",
       "  <thead>\n",
       "    <tr style=\"text-align: right;\">\n",
       "      <th></th>\n",
       "      <th>name</th>\n",
       "      <th>short_name</th>\n",
       "      <th>gender</th>\n",
       "      <th>birth_date</th>\n",
       "      <th>birth_place</th>\n",
       "      <th>birth_country</th>\n",
       "      <th>country</th>\n",
       "      <th>country_code</th>\n",
       "      <th>discipline</th>\n",
       "      <th>discipline_code</th>\n",
       "      <th>residence_place</th>\n",
       "      <th>residence_country</th>\n",
       "      <th>height_m/ft</th>\n",
       "      <th>url</th>\n",
       "    </tr>\n",
       "  </thead>\n",
       "  <tbody>\n",
       "    <tr>\n",
       "      <th>0</th>\n",
       "      <td>AAGAARD Mikkel</td>\n",
       "      <td>AAGAARD M</td>\n",
       "      <td>Male</td>\n",
       "      <td>1995-10-18</td>\n",
       "      <td>FREDERIKSHAVN</td>\n",
       "      <td>Denmark</td>\n",
       "      <td>Denmark</td>\n",
       "      <td>DEN</td>\n",
       "      <td>Ice Hockey</td>\n",
       "      <td>IHO</td>\n",
       "      <td>ORNSKOLDSVIK</td>\n",
       "      <td>Sweden</td>\n",
       "      <td>1.84/6'0''</td>\n",
       "      <td>../../../en/results/ice-hockey/athlete-profile...</td>\n",
       "    </tr>\n",
       "    <tr>\n",
       "      <th>1</th>\n",
       "      <td>AALTO Antti</td>\n",
       "      <td>AALTO A</td>\n",
       "      <td>Male</td>\n",
       "      <td>1995-04-02</td>\n",
       "      <td>KITEE</td>\n",
       "      <td>Finland</td>\n",
       "      <td>Finland</td>\n",
       "      <td>FIN</td>\n",
       "      <td>Ski Jumping</td>\n",
       "      <td>SJP</td>\n",
       "      <td>KUOPIO</td>\n",
       "      <td>Finland</td>\n",
       "      <td>NaN</td>\n",
       "      <td>../../../en/results/ski-jumping/athlete-profil...</td>\n",
       "    </tr>\n",
       "    <tr>\n",
       "      <th>2</th>\n",
       "      <td>AALTONEN Miro</td>\n",
       "      <td>AALTONEN M</td>\n",
       "      <td>Male</td>\n",
       "      <td>1993-06-07</td>\n",
       "      <td>JOENSUU</td>\n",
       "      <td>Finland</td>\n",
       "      <td>Finland</td>\n",
       "      <td>FIN</td>\n",
       "      <td>Ice Hockey</td>\n",
       "      <td>IHO</td>\n",
       "      <td>PODOLSK</td>\n",
       "      <td>Russian Federation</td>\n",
       "      <td>1.80/5'10''</td>\n",
       "      <td>../../../en/results/ice-hockey/athlete-profile...</td>\n",
       "    </tr>\n",
       "    <tr>\n",
       "      <th>3</th>\n",
       "      <td>ABDELKADER Justin</td>\n",
       "      <td>ABDELKADER J</td>\n",
       "      <td>Male</td>\n",
       "      <td>1987-02-25</td>\n",
       "      <td>MUSKEGON, MI</td>\n",
       "      <td>United States of America</td>\n",
       "      <td>United States of America</td>\n",
       "      <td>USA</td>\n",
       "      <td>Ice Hockey</td>\n",
       "      <td>IHO</td>\n",
       "      <td>GRAND RAPIDS, MI</td>\n",
       "      <td>United States of America</td>\n",
       "      <td>1.87/6'1''</td>\n",
       "      <td>../../../en/results/ice-hockey/athlete-profile...</td>\n",
       "    </tr>\n",
       "    <tr>\n",
       "      <th>4</th>\n",
       "      <td>ABDI Fayik</td>\n",
       "      <td>ABDI F</td>\n",
       "      <td>Male</td>\n",
       "      <td>1997-10-07</td>\n",
       "      <td>SAN DIEGO, CA</td>\n",
       "      <td>United States of America</td>\n",
       "      <td>Saudi Arabia</td>\n",
       "      <td>KSA</td>\n",
       "      <td>Alpine Skiing</td>\n",
       "      <td>ALP</td>\n",
       "      <td>DHAHRAN</td>\n",
       "      <td>Saudi Arabia</td>\n",
       "      <td>NaN</td>\n",
       "      <td>../../../en/results/alpine-skiing/athlete-prof...</td>\n",
       "    </tr>\n",
       "  </tbody>\n",
       "</table>\n",
       "</div>"
      ],
      "text/plain": [
       "                name    short_name gender  birth_date    birth_place  \\\n",
       "0     AAGAARD Mikkel     AAGAARD M   Male  1995-10-18  FREDERIKSHAVN   \n",
       "1        AALTO Antti       AALTO A   Male  1995-04-02          KITEE   \n",
       "2      AALTONEN Miro    AALTONEN M   Male  1993-06-07        JOENSUU   \n",
       "3  ABDELKADER Justin  ABDELKADER J   Male  1987-02-25   MUSKEGON, MI   \n",
       "4         ABDI Fayik        ABDI F   Male  1997-10-07  SAN DIEGO, CA   \n",
       "\n",
       "              birth_country                   country country_code  \\\n",
       "0                   Denmark                   Denmark          DEN   \n",
       "1                   Finland                   Finland          FIN   \n",
       "2                   Finland                   Finland          FIN   \n",
       "3  United States of America  United States of America          USA   \n",
       "4  United States of America              Saudi Arabia          KSA   \n",
       "\n",
       "      discipline discipline_code   residence_place         residence_country  \\\n",
       "0     Ice Hockey             IHO      ORNSKOLDSVIK                    Sweden   \n",
       "1    Ski Jumping             SJP            KUOPIO                   Finland   \n",
       "2     Ice Hockey             IHO           PODOLSK        Russian Federation   \n",
       "3     Ice Hockey             IHO  GRAND RAPIDS, MI  United States of America   \n",
       "4  Alpine Skiing             ALP           DHAHRAN              Saudi Arabia   \n",
       "\n",
       "   height_m/ft                                                url  \n",
       "0   1.84/6'0''  ../../../en/results/ice-hockey/athlete-profile...  \n",
       "1          NaN  ../../../en/results/ski-jumping/athlete-profil...  \n",
       "2  1.80/5'10''  ../../../en/results/ice-hockey/athlete-profile...  \n",
       "3   1.87/6'1''  ../../../en/results/ice-hockey/athlete-profile...  \n",
       "4          NaN  ../../../en/results/alpine-skiing/athlete-prof...  "
      ]
     },
     "execution_count": 14,
     "metadata": {},
     "output_type": "execute_result"
    }
   ],
   "source": [
    "df.head()"
   ]
  },
  {
   "cell_type": "code",
   "execution_count": 15,
   "id": "2d55ec27-a47d-4338-9729-625d8147a02a",
   "metadata": {},
   "outputs": [
    {
     "name": "stdout",
     "output_type": "stream",
     "text": [
      "import pandas as pd\n"
     ]
    },
    {
     "data": {
      "text/plain": [
       "['import pandas as pd']"
      ]
     },
     "execution_count": 15,
     "metadata": {},
     "output_type": "execute_result"
    }
   ],
   "source": [
    "active_imports()"
   ]
  },
  {
   "cell_type": "code",
   "execution_count": 16,
   "id": "7caae121-f3b7-439c-8258-9807d857099c",
   "metadata": {},
   "outputs": [],
   "source": [
    "lst1=[1,2,3,4,5,6,7]\n",
    "lst2=[2,3,4,5,7,8,9]"
   ]
  },
  {
   "cell_type": "code",
   "execution_count": 17,
   "id": "9f93a243-4928-4132-b37a-d0db9f780eff",
   "metadata": {},
   "outputs": [
    {
     "data": {
      "application/javascript": [
       "\n",
       "        if (window._pyforest_update_imports_cell) { window._pyforest_update_imports_cell('import pandas as pd\\nimport matplotlib.pyplot as plt'); }\n",
       "    "
      ],
      "text/plain": [
       "<IPython.core.display.Javascript object>"
      ]
     },
     "metadata": {},
     "output_type": "display_data"
    },
    {
     "data": {
      "application/javascript": [
       "\n",
       "        if (window._pyforest_update_imports_cell) { window._pyforest_update_imports_cell('import pandas as pd\\nimport matplotlib.pyplot as plt'); }\n",
       "    "
      ],
      "text/plain": [
       "<IPython.core.display.Javascript object>"
      ]
     },
     "metadata": {},
     "output_type": "display_data"
    },
    {
     "data": {
      "application/javascript": [
       "\n",
       "        if (window._pyforest_update_imports_cell) { window._pyforest_update_imports_cell('import pandas as pd\\nimport matplotlib.pyplot as plt'); }\n",
       "    "
      ],
      "text/plain": [
       "<IPython.core.display.Javascript object>"
      ]
     },
     "metadata": {},
     "output_type": "display_data"
    },
    {
     "data": {
      "application/javascript": [
       "\n",
       "        if (window._pyforest_update_imports_cell) { window._pyforest_update_imports_cell('import pandas as pd\\nimport matplotlib.pyplot as plt'); }\n",
       "    "
      ],
      "text/plain": [
       "<IPython.core.display.Javascript object>"
      ]
     },
     "metadata": {},
     "output_type": "display_data"
    },
    {
     "data": {
      "image/png": "[encoded data removed]",
      "text/plain": [
       "<Figure size 640x480 with 1 Axes>"
      ]
     },
     "metadata": {},
     "output_type": "display_data"
    }
   ],
   "source": [
    "# this alias can be anything rememebre .\n",
    "plt.plot(lst1,lst2)\n",
    "plt.xlabel('X AXIS')\n",
    "plt.ylabel('Y AXIS')\n",
    "plt.show()"
   ]
  },
  {
   "cell_type": "code",
   "execution_count": 19,
   "id": "71f87ee8-12d9-4633-9ee7-fc2b2445137b",
   "metadata": {},
   "outputs": [
    {
     "name": "stdout",
     "output_type": "stream",
     "text": [
      "import pandas as pd\n",
      "import matplotlib.pyplot as plt\n"
     ]
    },
    {
     "data": {
      "text/plain": [
       "['import pandas as pd', 'import matplotlib.pyplot as plt']"
      ]
     },
     "execution_count": 19,
     "metadata": {},
     "output_type": "execute_result"
    }
   ],
   "source": [
    "active_imports() # why showing pandas and matplotlib ? becaues we used these library in this notebook so these libraries are active now so we are able to see them here in this and we can also undertstand by the name of this funtion what it is going to output . ()"
   ]
  },
  {
   "cell_type": "code",
   "execution_count": 20,
   "id": "4dbbb17c-2251-4726-af12-80577067404d",
   "metadata": {},
   "outputs": [
    {
     "data": {
      "application/javascript": [
       "\n",
       "        if (window._pyforest_update_imports_cell) { window._pyforest_update_imports_cell('import pandas as pd\\nimport numpy as np\\nimport matplotlib.pyplot as plt'); }\n",
       "    "
      ],
      "text/plain": [
       "<IPython.core.display.Javascript object>"
      ]
     },
     "metadata": {},
     "output_type": "display_data"
    },
    {
     "data": {
      "text/plain": [
       "array([1, 2, 3, 4, 5, 6, 7, 8, 9])"
      ]
     },
     "execution_count": 20,
     "metadata": {},
     "output_type": "execute_result"
    }
   ],
   "source": [
    "np.array([1,2,3,4,5,6,7,8,9])"
   ]
  },
  {
   "cell_type": "code",
   "execution_count": 21,
   "id": "fdcbbe90-9cca-489b-8d9f-3c6e0ef196e8",
   "metadata": {},
   "outputs": [
    {
     "name": "stdout",
     "output_type": "stream",
     "text": [
      "import pandas as pd\n",
      "import numpy as np\n",
      "import matplotlib.pyplot as plt\n"
     ]
    },
    {
     "data": {
      "text/plain": [
       "['import pandas as pd',\n",
       " 'import numpy as np',\n",
       " 'import matplotlib.pyplot as plt']"
      ]
     },
     "execution_count": 21,
     "metadata": {},
     "output_type": "execute_result"
    }
   ],
   "source": [
    "active_imports()"
   ]
  },
  {
   "cell_type": "code",
   "execution_count": 22,
   "id": "0a4184da-9031-4b68-8fe1-8aad42f99c71",
   "metadata": {},
   "outputs": [
    {
     "data": {
      "application/javascript": [
       "\n",
       "        if (window._pyforest_update_imports_cell) { window._pyforest_update_imports_cell('import pandas as pd\\nimport numpy as np\\nimport matplotlib.pyplot as plt'); }\n",
       "    "
      ],
      "text/plain": [
       "<IPython.core.display.Javascript object>"
      ]
     },
     "metadata": {},
     "output_type": "display_data"
    }
   ],
   "source": [
    "df1=pd.read_csv(\"C:/Users/Lenovo/Data-Science-Learning-Journey/Python_for_DS/Datasets/train.csv\")"
   ]
  },
  {
   "cell_type": "code",
   "execution_count": 23,
   "id": "de90d837-9aab-4325-a5fc-e9abb180eb5b",
   "metadata": {},
   "outputs": [
    {
     "data": {
      "text/html": [
       "<div>\n",
       "<style scoped>\n",
       "    .dataframe tbody tr th:only-of-type {\n",
       "        vertical-align: middle;\n",
       "    }\n",
       "\n",
       "    .dataframe tbody tr th {\n",
       "        vertical-align: top;\n",
       "    }\n",
       "\n",
       "    .dataframe thead th {\n",
       "        text-align: right;\n",
       "    }\n",
       "</style>\n",
       "<table border=\"1\" class=\"dataframe\">\n",
       "  <thead>\n",
       "    <tr style=\"text-align: right;\">\n",
       "      <th></th>\n",
       "      <th>ID</th>\n",
       "      <th>y</th>\n",
       "      <th>X0</th>\n",
       "      <th>X1</th>\n",
       "      <th>X2</th>\n",
       "      <th>X3</th>\n",
       "      <th>X4</th>\n",
       "      <th>X5</th>\n",
       "      <th>X6</th>\n",
       "      <th>X8</th>\n",
       "      <th>...</th>\n",
       "      <th>X375</th>\n",
       "      <th>X376</th>\n",
       "      <th>X377</th>\n",
       "      <th>X378</th>\n",
       "      <th>X379</th>\n",
       "      <th>X380</th>\n",
       "      <th>X382</th>\n",
       "      <th>X383</th>\n",
       "      <th>X384</th>\n",
       "      <th>X385</th>\n",
       "    </tr>\n",
       "  </thead>\n",
       "  <tbody>\n",
       "    <tr>\n",
       "      <th>0</th>\n",
       "      <td>0</td>\n",
       "      <td>130.81</td>\n",
       "      <td>k</td>\n",
       "      <td>v</td>\n",
       "      <td>at</td>\n",
       "      <td>a</td>\n",
       "      <td>d</td>\n",
       "      <td>u</td>\n",
       "      <td>j</td>\n",
       "      <td>o</td>\n",
       "      <td>...</td>\n",
       "      <td>0</td>\n",
       "      <td>0</td>\n",
       "      <td>1</td>\n",
       "      <td>0</td>\n",
       "      <td>0</td>\n",
       "      <td>0</td>\n",
       "      <td>0</td>\n",
       "      <td>0</td>\n",
       "      <td>0</td>\n",
       "      <td>0</td>\n",
       "    </tr>\n",
       "    <tr>\n",
       "      <th>1</th>\n",
       "      <td>6</td>\n",
       "      <td>88.53</td>\n",
       "      <td>k</td>\n",
       "      <td>t</td>\n",
       "      <td>av</td>\n",
       "      <td>e</td>\n",
       "      <td>d</td>\n",
       "      <td>y</td>\n",
       "      <td>l</td>\n",
       "      <td>o</td>\n",
       "      <td>...</td>\n",
       "      <td>1</td>\n",
       "      <td>0</td>\n",
       "      <td>0</td>\n",
       "      <td>0</td>\n",
       "      <td>0</td>\n",
       "      <td>0</td>\n",
       "      <td>0</td>\n",
       "      <td>0</td>\n",
       "      <td>0</td>\n",
       "      <td>0</td>\n",
       "    </tr>\n",
       "    <tr>\n",
       "      <th>2</th>\n",
       "      <td>7</td>\n",
       "      <td>76.26</td>\n",
       "      <td>az</td>\n",
       "      <td>w</td>\n",
       "      <td>n</td>\n",
       "      <td>c</td>\n",
       "      <td>d</td>\n",
       "      <td>x</td>\n",
       "      <td>j</td>\n",
       "      <td>x</td>\n",
       "      <td>...</td>\n",
       "      <td>0</td>\n",
       "      <td>0</td>\n",
       "      <td>0</td>\n",
       "      <td>0</td>\n",
       "      <td>0</td>\n",
       "      <td>0</td>\n",
       "      <td>1</td>\n",
       "      <td>0</td>\n",
       "      <td>0</td>\n",
       "      <td>0</td>\n",
       "    </tr>\n",
       "    <tr>\n",
       "      <th>3</th>\n",
       "      <td>9</td>\n",
       "      <td>80.62</td>\n",
       "      <td>az</td>\n",
       "      <td>t</td>\n",
       "      <td>n</td>\n",
       "      <td>f</td>\n",
       "      <td>d</td>\n",
       "      <td>x</td>\n",
       "      <td>l</td>\n",
       "      <td>e</td>\n",
       "      <td>...</td>\n",
       "      <td>0</td>\n",
       "      <td>0</td>\n",
       "      <td>0</td>\n",
       "      <td>0</td>\n",
       "      <td>0</td>\n",
       "      <td>0</td>\n",
       "      <td>0</td>\n",
       "      <td>0</td>\n",
       "      <td>0</td>\n",
       "      <td>0</td>\n",
       "    </tr>\n",
       "    <tr>\n",
       "      <th>4</th>\n",
       "      <td>13</td>\n",
       "      <td>78.02</td>\n",
       "      <td>az</td>\n",
       "      <td>v</td>\n",
       "      <td>n</td>\n",
       "      <td>f</td>\n",
       "      <td>d</td>\n",
       "      <td>h</td>\n",
       "      <td>d</td>\n",
       "      <td>n</td>\n",
       "      <td>...</td>\n",
       "      <td>0</td>\n",
       "      <td>0</td>\n",
       "      <td>0</td>\n",
       "      <td>0</td>\n",
       "      <td>0</td>\n",
       "      <td>0</td>\n",
       "      <td>0</td>\n",
       "      <td>0</td>\n",
       "      <td>0</td>\n",
       "      <td>0</td>\n",
       "    </tr>\n",
       "  </tbody>\n",
       "</table>\n",
       "<p>5 rows × 378 columns</p>\n",
       "</div>"
      ],
      "text/plain": [
       "   ID       y  X0 X1  X2 X3 X4 X5 X6 X8  ...  X375  X376  X377  X378  X379  \\\n",
       "0   0  130.81   k  v  at  a  d  u  j  o  ...     0     0     1     0     0   \n",
       "1   6   88.53   k  t  av  e  d  y  l  o  ...     1     0     0     0     0   \n",
       "2   7   76.26  az  w   n  c  d  x  j  x  ...     0     0     0     0     0   \n",
       "3   9   80.62  az  t   n  f  d  x  l  e  ...     0     0     0     0     0   \n",
       "4  13   78.02  az  v   n  f  d  h  d  n  ...     0     0     0     0     0   \n",
       "\n",
       "   X380  X382  X383  X384  X385  \n",
       "0     0     0     0     0     0  \n",
       "1     0     0     0     0     0  \n",
       "2     0     1     0     0     0  \n",
       "3     0     0     0     0     0  \n",
       "4     0     0     0     0     0  \n",
       "\n",
       "[5 rows x 378 columns]"
      ]
     },
     "execution_count": 23,
     "metadata": {},
     "output_type": "execute_result"
    }
   ],
   "source": [
    "df1.head()"
   ]
  },
  {
   "cell_type": "code",
   "execution_count": 28,
   "id": "c89548ac-5354-40b7-a5bf-b1c26dea9e59",
   "metadata": {},
   "outputs": [
    {
     "data": {
      "text/plain": [
       "ID        int64\n",
       "y       float64\n",
       "X0       object\n",
       "X1       object\n",
       "X2       object\n",
       "         ...   \n",
       "X380      int64\n",
       "X382      int64\n",
       "X383      int64\n",
       "X384      int64\n",
       "X385      int64\n",
       "Length: 378, dtype: object"
      ]
     },
     "execution_count": 28,
     "metadata": {},
     "output_type": "execute_result"
    }
   ],
   "source": [
    "df1.dtypes"
   ]
  },
  {
   "cell_type": "code",
   "execution_count": 30,
   "id": "6b345123-1b57-46a1-b3f7-0e1ccfdd5193",
   "metadata": {},
   "outputs": [
    {
     "data": {
      "application/javascript": [
       "\n",
       "        if (window._pyforest_update_imports_cell) { window._pyforest_update_imports_cell('import pandas as pd\\nimport matplotlib.pyplot as plt\\nimport numpy as np\\nimport seaborn as sns\\nimport datetime as dt'); }\n",
       "    "
      ],
      "text/plain": [
       "<IPython.core.display.Javascript object>"
      ]
     },
     "metadata": {},
     "output_type": "display_data"
    },
    {
     "data": {
      "text/plain": [
       "<seaborn.axisgrid.FacetGrid at 0x136c1d7e710>"
      ]
     },
     "execution_count": 30,
     "metadata": {},
     "output_type": "execute_result"
    },
    {
     "data": {
      "image/png": "[encoded data removed]",
      "text/plain": [
       "<Figure size 500x500 with 1 Axes>"
      ]
     },
     "metadata": {},
     "output_type": "display_data"
    }
   ],
   "source": [
    "sns.displot(df1['y'])"
   ]
  },
  {
   "cell_type": "code",
   "execution_count": 32,
   "id": "fcafffcf-ff70-406d-b2a2-4b57475ea2a4",
   "metadata": {},
   "outputs": [
    {
     "name": "stdout",
     "output_type": "stream",
     "text": [
      "import pandas as pd\n",
      "import matplotlib.pyplot as plt\n",
      "import numpy as np\n",
      "import seaborn as sns\n",
      "import datetime as dt\n"
     ]
    },
    {
     "data": {
      "text/plain": [
       "['import pandas as pd',\n",
       " 'import matplotlib.pyplot as plt',\n",
       " 'import numpy as np',\n",
       " 'import seaborn as sns',\n",
       " 'import datetime as dt']"
      ]
     },
     "execution_count": 32,
     "metadata": {},
     "output_type": "execute_result"
    }
   ],
   "source": [
    "active_imports()"
   ]
  },
  {
   "cell_type": "code",
   "execution_count": null,
   "id": "afdf68cf-0761-427b-a0bb-8692053b38c9",
   "metadata": {},
   "outputs": [],
   "source": []
  }
 ],
 "metadata": {
  "kernelspec": {
   "display_name": "Python 3 (ipykernel)",
   "language": "python",
   "name": "python3"
  },
  "language_info": {
   "codemirror_mode": {
    "name": "ipython",
    "version": 3
   },
   "file_extension": ".py",
   "mimetype": "text/x-python",
   "name": "python",
   "nbconvert_exporter": "python",
   "pygments_lexer": "ipython3",
   "version": "3.13.5"
  }
 },
 "nbformat": 4,
 "nbformat_minor": 5
}
