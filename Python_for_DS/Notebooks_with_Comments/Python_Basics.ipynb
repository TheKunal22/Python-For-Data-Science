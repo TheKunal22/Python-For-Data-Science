{
 "cells": [
  {
   "cell_type": "markdown",
   "id": "dd309995-9e03-40e8-b2d2-e3fe7c18bf25",
   "metadata": {},
   "source": [
    "# First, download Anaconda: https://www.anaconda.com/download\n",
    "\n",
    "# Why?\n",
    "\n",
    "# Because it makes it easy to set up your workspace. \n",
    "# You can start working without worrying about manually setting up environment variables or PATH issues.\n"
   ]
  },
  {
   "cell_type": "markdown",
   "id": "670ab028-acda-4711-86e9-e29028a667e3",
   "metadata": {},
   "source": [
    "### Note : whenever we are multipling by * , that thing get multiply understood , like clones , copies . for like list for example , and many more"
   ]
  },
  {
   "cell_type": "code",
   "execution_count": 8,
   "id": "2d4fe33b-a296-4901-a5cd-4b44a1cc5290",
   "metadata": {},
   "outputs": [
    {
     "name": "stdout",
     "output_type": "stream",
     "text": [
      "2\n"
     ]
    }
   ],
   "source": [
    "print(1+1)"
   ]
  },
  {
   "cell_type": "code",
   "execution_count": null,
   "id": "41be1f93-6129-4667-a85d-82e7f2dc5e6a",
   "metadata": {},
   "outputs": [],
   "source": [
    "first = \"alex\" \n",
    "last = \"tango \""
   ]
  },
  {
   "cell_type": "code",
   "execution_count": 15,
   "id": "709a3e68-6fbb-490d-aee7-b490c425fec2",
   "metadata": {},
   "outputs": [
    {
     "name": "stdout",
     "output_type": "stream",
     "text": [
      "my name is alex ,  tango  , nice to meet you\n"
     ]
    }
   ],
   "source": [
    "print(\"my name is {} ,  {} , nice to meet you\".format(first , last ))"
   ]
  },
  {
   "cell_type": "code",
   "execution_count": 16,
   "id": "6e3b1bd9-70d9-4b26-839f-d9560f4a72e4",
   "metadata": {},
   "outputs": [
    {
     "data": {
      "text/plain": [
       "str"
      ]
     },
     "execution_count": 16,
     "metadata": {},
     "output_type": "execute_result"
    }
   ],
   "source": [
    "type(first)"
   ]
  },
  {
   "cell_type": "code",
   "execution_count": 17,
   "id": "fe1c5a44-78ea-447f-aed0-71b268cb308c",
   "metadata": {},
   "outputs": [
    {
     "data": {
      "text/plain": [
       "list"
      ]
     },
     "execution_count": 17,
     "metadata": {},
     "output_type": "execute_result"
    }
   ],
   "source": [
    "type([2,3,\"3r\"])"
   ]
  },
  {
   "cell_type": "code",
   "execution_count": 25,
   "id": "160bc42d-d38c-4382-bb0f-99822c9f3c07",
   "metadata": {},
   "outputs": [],
   "source": [
    "%config Completer.use_jedi = True\n"
   ]
  },
  {
   "cell_type": "code",
   "execution_count": 42,
   "id": "3714c6db-df5d-4fa0-89c4-ad743d94391e",
   "metadata": {},
   "outputs": [],
   "source": [
    "st = \"fsdfafsfagagasasdfas\""
   ]
  },
  {
   "cell_type": "code",
   "execution_count": null,
   "id": "5bf3189a-9bf4-4340-b04d-8ba7161c7d38",
   "metadata": {},
   "outputs": [
    {
     "data": {
      "text/plain": [
       "5"
      ]
     },
     "execution_count": 61,
     "metadata": {},
     "output_type": "execute_result"
    }
   ],
   "source": [
    "st.count(\"f\") \n",
    "''' count karega ye function ki es variable m kitne elements h jo h same jo tumne bataya h ki\n",
    "suppose tumne bola k .count(1) fir ye 1 number kitne bar aaya hua h ye bata dega us list m '''"
   ]
  },
  {
   "cell_type": "code",
   "execution_count": 2,
   "id": "fa4c0f93-71a5-407e-a52d-468110f467ca",
   "metadata": {},
   "outputs": [],
   "source": [
    "lst = [\"flower\" , \"meow \" , \"lol\"  , 4 , 42423, 24]"
   ]
  },
  {
   "cell_type": "code",
   "execution_count": 3,
   "id": "e2993e59-d8fa-4097-86d3-2d0b8058a482",
   "metadata": {},
   "outputs": [],
   "source": [
    "lst.append([\"chekc\" , \"check\"])"
   ]
  },
  {
   "cell_type": "code",
   "execution_count": 4,
   "id": "4f822b60-192b-4889-bd7c-9c5f09575238",
   "metadata": {},
   "outputs": [
    {
     "data": {
      "text/plain": [
       "['flower', 'meow ', 'lol', 4, 42423, 24, ['chekc', 'check']]"
      ]
     },
     "execution_count": 4,
     "metadata": {},
     "output_type": "execute_result"
    }
   ],
   "source": [
    "lst\n"
   ]
  },
  {
   "cell_type": "code",
   "execution_count": 5,
   "id": "5bdc8b2a-4ccb-4526-8d39-02fd74594236",
   "metadata": {},
   "outputs": [],
   "source": [
    "lst.insert(6, \"cat\")"
   ]
  },
  {
   "cell_type": "code",
   "execution_count": 6,
   "id": "6db73660-d7e0-44b1-b59f-fcb29aaa5d21",
   "metadata": {},
   "outputs": [
    {
     "data": {
      "text/plain": [
       "['flower', 'meow ', 'lol', 4, 42423, 24, 'cat', ['chekc', 'check']]"
      ]
     },
     "execution_count": 6,
     "metadata": {},
     "output_type": "execute_result"
    }
   ],
   "source": [
    "lst"
   ]
  },
  {
   "cell_type": "code",
   "execution_count": 7,
   "id": "2d666f4a-d97b-4f88-9461-a2a4e5994889",
   "metadata": {},
   "outputs": [],
   "source": [
    "lst.extend([4 , 32]) # jitne bhi element h na ab es list k vo sare esme lst m add hojainge HAAHHAHAHAHHA.lol\n",
    "# it is use for like adding new values in the list and esme esa nhi hoga ke nested m ja rha h actual values jaingi inside the list . "
   ]
  },
  {
   "cell_type": "code",
   "execution_count": 8,
   "id": "02299bb5-307b-4a38-a29b-011dbe3d98c1",
   "metadata": {},
   "outputs": [
    {
     "data": {
      "text/plain": [
       "['flower', 'meow ', 'lol', 4, 42423, 24, 'cat', ['chekc', 'check'], 4, 32]"
      ]
     },
     "execution_count": 8,
     "metadata": {},
     "output_type": "execute_result"
    }
   ],
   "source": [
    "lst # now you can see here , hehe"
   ]
  },
  {
   "cell_type": "markdown",
   "id": "bfba3845-8c67-4fcb-bfc9-2741b1469b0a",
   "metadata": {},
   "source": [
    "## various things which we can perform in a list is "
   ]
  },
  {
   "cell_type": "code",
   "execution_count": 3,
   "id": "18d7ce4b-2f79-4f6d-a59e-3dd93ae7cfb0",
   "metadata": {},
   "outputs": [
    {
     "data": {
      "text/plain": [
       "18"
      ]
     },
     "execution_count": 3,
     "metadata": {},
     "output_type": "execute_result"
    }
   ],
   "source": [
    "listi = [2,2,2,4,2,2,4]\n",
    "sum(listi)"
   ]
  },
  {
   "cell_type": "markdown",
   "id": "304479aa-b9d5-4110-8f1e-92518f83b7ec",
   "metadata": {},
   "source": [
    "# pop method "
   ]
  },
  {
   "cell_type": "code",
   "execution_count": 4,
   "id": "cc76c1a7-fe39-4c42-8713-d7f66911d1f2",
   "metadata": {},
   "outputs": [
    {
     "data": {
      "text/plain": [
       "4"
      ]
     },
     "execution_count": 4,
     "metadata": {},
     "output_type": "execute_result"
    }
   ],
   "source": [
    "listi.pop()"
   ]
  },
  {
   "cell_type": "code",
   "execution_count": 5,
   "id": "02411dc1-959a-4068-b0de-6d2c0550991e",
   "metadata": {},
   "outputs": [
    {
     "data": {
      "text/plain": [
       "[2, 2, 2, 4, 2, 2]"
      ]
     },
     "execution_count": 5,
     "metadata": {},
     "output_type": "execute_result"
    }
   ],
   "source": [
    "listi"
   ]
  },
  {
   "cell_type": "code",
   "execution_count": 6,
   "id": "093961b9-f071-4495-af45-9e49c8727ac9",
   "metadata": {},
   "outputs": [
    {
     "data": {
      "text/plain": [
       "1"
      ]
     },
     "execution_count": 6,
     "metadata": {},
     "output_type": "execute_result"
    }
   ],
   "source": [
    "listi.index(2,1,3) # return the index of first occurence , start and index are not necessary parameters"
   ]
  },
  {
   "cell_type": "markdown",
   "id": "b4a57dc1-a256-4c9e-85cd-439b8c91226a",
   "metadata": {},
   "source": [
    "# min and max are used to find out the smallest and the biggest elemetns present in the list "
   ]
  },
  {
   "cell_type": "code",
   "execution_count": 7,
   "id": "6e9a1f60-7664-4f72-b237-cac631562da6",
   "metadata": {},
   "outputs": [
    {
     "data": {
      "text/plain": [
       "2"
      ]
     },
     "execution_count": 7,
     "metadata": {},
     "output_type": "execute_result"
    }
   ],
   "source": [
    "min(listi)"
   ]
  },
  {
   "cell_type": "code",
   "execution_count": 8,
   "id": "f423a416-7870-4580-904b-ff362203c6c8",
   "metadata": {},
   "outputs": [
    {
     "data": {
      "text/plain": [
       "4"
      ]
     },
     "execution_count": 8,
     "metadata": {},
     "output_type": "execute_result"
    }
   ],
   "source": [
    "max(listi)"
   ]
  }
 ],
 "metadata": {
  "kernelspec": {
   "display_name": "Python 3",
   "language": "python",
   "name": "python3"
  },
  "language_info": {
   "codemirror_mode": {
    "name": "ipython",
    "version": 3
   },
   "file_extension": ".py",
   "mimetype": "text/x-python",
   "name": "python",
   "nbconvert_exporter": "python",
   "pygments_lexer": "ipython3",
   "version": "3.12.8"
  }
 },
 "nbformat": 4,
 "nbformat_minor": 5
}
