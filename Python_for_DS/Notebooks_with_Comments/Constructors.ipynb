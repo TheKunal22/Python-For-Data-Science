{
 "cells": [
  {
   "cell_type": "code",
   "execution_count": 1,
   "id": "6b7ae8d8-0678-4657-8978-ea66dccbfdea",
   "metadata": {},
   "outputs": [],
   "source": [
    "class Animal:\n",
    "    # this a 1st constructor , constructing object or instance  vairables for our object .\n",
    "    def __init__(self, name, species):\n",
    "        self.name = name\n",
    "        self.species = species\n",
    "    # this a 2nd constructor , constructing object or instance  vairables for our object .\n",
    "    def __init__(self , name , species , age):\n",
    "        self.name = name\n",
    "        self.species = species\n",
    "        self.age = age\n",
    "\n",
    "    def make_sound(self):\n",
    "        return f\"{self.name} makes a sound.\"\n",
    "    \n",
    "    "
   ]
  },
  {
   "cell_type": "code",
   "execution_count": 5,
   "id": "df6779b8-bb27-4e5c-99ba-b15f0eaf6ff0",
   "metadata": {},
   "outputs": [
    {
     "ename": "TypeError",
     "evalue": "Animal.__init__() missing 1 required positional argument: 'age'",
     "output_type": "error",
     "traceback": [
      "\u001b[1;31m---------------------------------------------------------------------------\u001b[0m",
      "\u001b[1;31mTypeError\u001b[0m                                 Traceback (most recent call last)",
      "Cell \u001b[1;32mIn[5], line 1\u001b[0m\n\u001b[1;32m----> 1\u001b[0m dog\u001b[38;5;241m=\u001b[39mAnimal(\u001b[38;5;124m'\u001b[39m\u001b[38;5;124mdog\u001b[39m\u001b[38;5;124m'\u001b[39m,\u001b[38;5;124m'\u001b[39m\u001b[38;5;124mmammal\u001b[39m\u001b[38;5;124m'\u001b[39m)\n",
      "\u001b[1;31mTypeError\u001b[0m: Animal.__init__() missing 1 required positional argument: 'age'"
     ]
    }
   ],
   "source": [
    "dog=Animal('dog','mammal')\n",
    "\n",
    "# here we are getting this error because of our 2nd constructor which age as a parameter it is saying that we are missing the age paramter but 1st interpretor went to the 1st class but then after thata , it goes to the 2nd class and what happened is , it overwritten the 1st constructor by 2nd constructor . "
   ]
  },
  {
   "cell_type": "code",
   "execution_count": 4,
   "id": "2d857103-104c-46a8-82d8-f18a38187d32",
   "metadata": {},
   "outputs": [
    {
     "name": "stdout",
     "output_type": "stream",
     "text": [
      "15\n"
     ]
    }
   ],
   "source": [
    "print(dog.age)"
   ]
  },
  {
   "cell_type": "markdown",
   "id": "be0eb2ab-01b9-475a-bea6-926c1dd46820",
   "metadata": {},
   "source": [
    " so we are now going to pass the age parameter as well.\n",
    "\n",
    " this a 2nd constructor , constructing object or instance  vairables for our object ."
   ]
  },
  {
   "cell_type": "code",
   "execution_count": 6,
   "id": "ae692ef3-162c-4ff2-b025-e377f6365fa7",
   "metadata": {},
   "outputs": [],
   "source": [
    "dog=Animal('dog','mammal',13)"
   ]
  },
  {
   "cell_type": "code",
   "execution_count": 8,
   "id": "54d20641-631b-4145-abbe-c633a4939698",
   "metadata": {},
   "outputs": [
    {
     "name": "stdout",
     "output_type": "stream",
     "text": [
      "13\n"
     ]
    }
   ],
   "source": [
    "print(dog.age)"
   ]
  },
  {
   "cell_type": "markdown",
   "id": "25ac1b02-0938-4c35-9e08-9cfb4db76bb3",
   "metadata": {},
   "source": [
    "in python you cannot create multiple constructors but here is a hack , you can create multiple constructors but by using positional arguments , when you are creating a positional arguemnt on the fly inside the init you can create your own attributes"
   ]
  },
  {
   "cell_type": "markdown",
   "id": "a929bda1-ba4e-4a51-831c-4d01978527ec",
   "metadata": {},
   "source": [
    "as we keep wrttening new constructors in class it gets overwritten by the new constructor. "
   ]
  },
  {
   "cell_type": "code",
   "execution_count": 19,
   "id": "15c1f9cb-3ab2-4bd3-b15f-b1d4087f20a5",
   "metadata": {},
   "outputs": [],
   "source": [
    "# lets fix this .\n",
    "\n",
    "\n",
    "class Animal:\n",
    "    def __init__(self,*args):\n",
    "        if len(args)==1:\n",
    "            self.name=args[0]\n",
    "        elif len(args)==2:\n",
    "            self.name=args[0]\n",
    "            self.species=args[1]\n",
    "        elif len(args)==3:\n",
    "            self.name=args[0]\n",
    "            self.species=args[1]\n",
    "            self.age=args[2]\n",
    "            \n",
    "        \n",
    "\n",
    "    def make_sound(self,sound):\n",
    "        return f\"{self.name} makes a sound.\"\n",
    "    \n",
    "\n",
    "\n"
   ]
  },
  {
   "cell_type": "code",
   "execution_count": 20,
   "id": "270f3c37-19be-4f5b-b73a-9752fda7812a",
   "metadata": {},
   "outputs": [],
   "source": [
    "dog=Animal('dog','mammal',15)"
   ]
  },
  {
   "cell_type": "code",
   "execution_count": 21,
   "id": "b311a2c2-fa45-4017-a162-0697eca66dee",
   "metadata": {},
   "outputs": [
    {
     "name": "stdout",
     "output_type": "stream",
     "text": [
      "15\n",
      "mammal\n",
      "dog\n",
      "dog makes a sound.\n"
     ]
    }
   ],
   "source": [
    "print(dog.age)\n",
    "print(dog.species)\n",
    "print(dog.name)\n",
    "print(dog.make_sound('woof woof'))"
   ]
  },
  {
   "cell_type": "code",
   "execution_count": null,
   "id": "b3f940c3-5352-4ceb-9827-04fdc268ed1f",
   "metadata": {},
   "outputs": [],
   "source": []
  },
  {
   "cell_type": "code",
   "execution_count": null,
   "id": "1946c353-2b14-4ac9-9479-d2fe46513edb",
   "metadata": {},
   "outputs": [],
   "source": []
  }
 ],
 "metadata": {
  "kernelspec": {
   "display_name": "Python 3 (ipykernel)",
   "language": "python",
   "name": "python3"
  },
  "language_info": {
   "codemirror_mode": {
    "name": "ipython",
    "version": 3
   },
   "file_extension": ".py",
   "mimetype": "text/x-python",
   "name": "python",
   "nbconvert_exporter": "python",
   "pygments_lexer": "ipython3",
   "version": "3.13.5"
  }
 },
 "nbformat": 4,
 "nbformat_minor": 5
}
