{
 "cells": [
  {
   "cell_type": "code",
   "execution_count": 1,
   "id": "485ea4e1-e83a-416b-8da3-8275ecdd3c2d",
   "metadata": {},
   "outputs": [],
   "source": [
    "## =,copy(),deepcopy() \n",
    "\n",
    "lst1=[1,2,3,4,5,6]\n",
    "lst2=lst1"
   ]
  },
  {
   "cell_type": "code",
   "execution_count": 3,
   "id": "d8641e64-f9cf-46ec-8b48-d0e5f7d1640e",
   "metadata": {},
   "outputs": [
    {
     "data": {
      "text/plain": [
       "([1, 2, 3, 4, 5, 6], [1, 2, 3, 4, 5, 6])"
      ]
     },
     "execution_count": 3,
     "metadata": {},
     "output_type": "execute_result"
    }
   ],
   "source": [
    "lst1,lst2"
   ]
  },
  {
   "cell_type": "code",
   "execution_count": 4,
   "id": "5093170c-d9bd-4b2a-81f8-7f2d877da3fc",
   "metadata": {},
   "outputs": [
    {
     "data": {
      "text/plain": [
       "2"
      ]
     },
     "execution_count": 4,
     "metadata": {},
     "output_type": "execute_result"
    }
   ],
   "source": [
    "lst2[1]"
   ]
  },
  {
   "cell_type": "code",
   "execution_count": 7,
   "id": "9c8bce2b-244a-4a9c-9e12-3f83b30ba910",
   "metadata": {},
   "outputs": [],
   "source": [
    "lst1[1]=1000"
   ]
  },
  {
   "cell_type": "code",
   "execution_count": 8,
   "id": "76bd0325-77df-4de6-821b-96ec23ae695f",
   "metadata": {},
   "outputs": [
    {
     "data": {
      "text/plain": [
       "[1, 1000, 3, 4, 5, 6]"
      ]
     },
     "execution_count": 8,
     "metadata": {},
     "output_type": "execute_result"
    }
   ],
   "source": [
    "lst1"
   ]
  },
  {
   "cell_type": "code",
   "execution_count": 10,
   "id": "bb37227f-650a-4173-878f-307241423e10",
   "metadata": {},
   "outputs": [
    {
     "data": {
      "text/plain": [
       "[1, 1000, 3, 4, 5, 6]"
      ]
     },
     "execution_count": 10,
     "metadata": {},
     "output_type": "execute_result"
    }
   ],
   "source": [
    "# why this happended . this lst1 is created somewhere in memory location and  both  lst1 and lst2 variables are referring towards a same memory location ,so that is the reason if one of the variable changes the element it will also reflected in memory itself so both thte variable are referring to same memory itself.    \n",
    "\n",
    "lst2"
   ]
  },
  {
   "cell_type": "code",
   "execution_count": 11,
   "id": "32b0ec75-c61d-48d0-9ef2-1c23b0ad4635",
   "metadata": {},
   "outputs": [],
   "source": [
    "## copy\n",
    "## shallow copy\n",
    "lst1=[1,2,3,4,5,6]\n",
    "lst2=lst1.copy() "
   ]
  },
  {
   "cell_type": "code",
   "execution_count": 13,
   "id": "e4d7d8ce-8f88-41d0-9305-833ef67e5aa9",
   "metadata": {},
   "outputs": [
    {
     "data": {
      "text/plain": [
       "2"
      ]
     },
     "execution_count": 13,
     "metadata": {},
     "output_type": "execute_result"
    }
   ],
   "source": [
    "lst2[1]"
   ]
  },
  {
   "cell_type": "code",
   "execution_count": 14,
   "id": "3b45d46d-b874-4533-8d3d-e876fd86476f",
   "metadata": {},
   "outputs": [],
   "source": [
    "lst2[1]=1000"
   ]
  },
  {
   "cell_type": "code",
   "execution_count": 16,
   "id": "1bfa2d0e-b020-4db7-8d5d-d70917d278a4",
   "metadata": {},
   "outputs": [
    {
     "data": {
      "text/plain": [
       "([1, 1000, 3, 4, 5, 6], [1, 2, 3, 4, 5, 6])"
      ]
     },
     "execution_count": 16,
     "metadata": {},
     "output_type": "execute_result"
    }
   ],
   "source": [
    "lst2,lst1\n"
   ]
  },
  {
   "cell_type": "code",
   "execution_count": 17,
   "id": "e483919d-43a8-49f0-a728-4a14e5962aac",
   "metadata": {},
   "outputs": [],
   "source": [
    "## shallow copy with nested list \n",
    "\n",
    "lst1=[[1,2,3,4],[5,6,7]]\n",
    "lst2=lst1.copy()"
   ]
  },
  {
   "cell_type": "code",
   "execution_count": 19,
   "id": "79a19b83-b387-4f03-8c83-541cc9162c3c",
   "metadata": {},
   "outputs": [],
   "source": [
    "lst1[1][0]=100"
   ]
  },
  {
   "cell_type": "code",
   "execution_count": 20,
   "id": "c4881ac1-e8f4-475d-a2b7-021ff0d7d994",
   "metadata": {},
   "outputs": [
    {
     "data": {
      "text/plain": [
       "[[1, 2, 3, 4], [100, 6, 7]]"
      ]
     },
     "execution_count": 20,
     "metadata": {},
     "output_type": "execute_result"
    }
   ],
   "source": [
    "lst2 # it is changed because both the variables are referring to same oject inside the list ."
   ]
  },
  {
   "cell_type": "code",
   "execution_count": 22,
   "id": "188ad248-eb55-417c-9343-cd2247812539",
   "metadata": {},
   "outputs": [],
   "source": [
    "lst1.append([4,6,2,7])"
   ]
  },
  {
   "cell_type": "code",
   "execution_count": 23,
   "id": "a144a575-a429-463e-a135-fd398d53472a",
   "metadata": {},
   "outputs": [
    {
     "data": {
      "text/plain": [
       "[[1, 2, 3, 4], [100, 6, 7], [4, 6, 2, 7]]"
      ]
     },
     "execution_count": 23,
     "metadata": {},
     "output_type": "execute_result"
    }
   ],
   "source": [
    "lst1"
   ]
  },
  {
   "cell_type": "code",
   "execution_count": 24,
   "id": "8fcf3583-b64a-4b6b-aeac-2f5c4de255a9",
   "metadata": {},
   "outputs": [
    {
     "data": {
      "text/plain": [
       "[[1, 2, 3, 4], [100, 6, 7]]"
      ]
     },
     "execution_count": 24,
     "metadata": {},
     "output_type": "execute_result"
    }
   ],
   "source": [
    "lst2"
   ]
  },
  {
   "cell_type": "code",
   "execution_count": 32,
   "id": "13e00ca9-8d02-4cd4-941c-563ed560ad3a",
   "metadata": {},
   "outputs": [],
   "source": [
    "## deep copy\n",
    "\n",
    "import copy\n",
    "lst1=[1,2,3,4]\n",
    "lst=copy.deepcopy(lst1)"
   ]
  },
  {
   "cell_type": "code",
   "execution_count": 27,
   "id": "516ec583-b6cd-4d65-9b36-83917a6b5190",
   "metadata": {},
   "outputs": [],
   "source": [
    "lst2[1]=100"
   ]
  },
  {
   "cell_type": "code",
   "execution_count": 28,
   "id": "fb684ae9-00c4-4442-abb1-6de544d9bc35",
   "metadata": {},
   "outputs": [
    {
     "data": {
      "text/plain": [
       "[[1, 2, 3, 4], 100]"
      ]
     },
     "execution_count": 28,
     "metadata": {},
     "output_type": "execute_result"
    }
   ],
   "source": [
    "lst2\n"
   ]
  },
  {
   "cell_type": "code",
   "execution_count": 29,
   "id": "546014ac-39fe-4edf-8c52-29637dfe51dc",
   "metadata": {},
   "outputs": [
    {
     "data": {
      "text/plain": [
       "[1, 2, 3, 4]"
      ]
     },
     "execution_count": 29,
     "metadata": {},
     "output_type": "execute_result"
    }
   ],
   "source": [
    "lst1"
   ]
  },
  {
   "cell_type": "code",
   "execution_count": 30,
   "id": "25715860-7b54-472e-a26b-1979db59dac2",
   "metadata": {},
   "outputs": [],
   "source": [
    "## in a normal list shallow copy == deep copy"
   ]
  },
  {
   "cell_type": "code",
   "execution_count": 33,
   "id": "c52cfc1b-1d99-46f9-a78d-3cca07488bf1",
   "metadata": {},
   "outputs": [],
   "source": [
    "lst1=[[1,2,3],[4,5,6],[7,8,9]]\n",
    "lst2=copy.deepcopy(lst1)\n"
   ]
  },
  {
   "cell_type": "code",
   "execution_count": 34,
   "id": "e4a415de-1e71-40b0-8fc0-db6224709064",
   "metadata": {},
   "outputs": [],
   "source": [
    "lst2[1][0]=100"
   ]
  },
  {
   "cell_type": "code",
   "execution_count": 35,
   "id": "e13359ab-2f2d-47b5-a5e9-f29105169db8",
   "metadata": {},
   "outputs": [
    {
     "data": {
      "text/plain": [
       "[[1, 2, 3], [4, 5, 6], [7, 8, 9]]"
      ]
     },
     "execution_count": 35,
     "metadata": {},
     "output_type": "execute_result"
    }
   ],
   "source": [
    "lst1"
   ]
  },
  {
   "cell_type": "code",
   "execution_count": null,
   "id": "82406b63-0c50-404a-9af0-7713fc680969",
   "metadata": {},
   "outputs": [],
   "source": []
  },
  {
   "cell_type": "code",
   "execution_count": null,
   "id": "8a14521e-d499-4531-848e-7208c31573c4",
   "metadata": {},
   "outputs": [],
   "source": []
  },
  {
   "cell_type": "code",
   "execution_count": null,
   "id": "2898e2d0-f2bf-421b-a825-1efa74926c9e",
   "metadata": {},
   "outputs": [],
   "source": []
  },
  {
   "cell_type": "code",
   "execution_count": null,
   "id": "15777df4-bf99-4205-b678-136bad2c0df8",
   "metadata": {},
   "outputs": [],
   "source": []
  }
 ],
 "metadata": {
  "kernelspec": {
   "display_name": "Python 3 (ipykernel)",
   "language": "python",
   "name": "python3"
  },
  "language_info": {
   "codemirror_mode": {
    "name": "ipython",
    "version": 3
   },
   "file_extension": ".py",
   "mimetype": "text/x-python",
   "name": "python",
   "nbconvert_exporter": "python",
   "pygments_lexer": "ipython3",
   "version": "3.13.5"
  }
 },
 "nbformat": 4,
 "nbformat_minor": 5
}
