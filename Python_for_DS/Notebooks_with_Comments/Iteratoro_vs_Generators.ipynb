{
 "cells": [
  {
   "cell_type": "markdown",
   "id": "8d217c49-33ad-4134-975e-54c8bb4068a9",
   "metadata": {},
   "source": [
    "# Python Generators Vs Iterators"
   ]
  },
  {
   "cell_type": "code",
   "execution_count": 5,
   "id": "372717e5-0add-41ac-b4e7-1037b6e9fc05",
   "metadata": {},
   "outputs": [
    {
     "name": "stdout",
     "output_type": "stream",
     "text": [
      "1\n",
      "2\n",
      "3\n",
      "4\n"
     ]
    }
   ],
   "source": [
    "## iterable\n",
    "lst=[1,2,3,4]\n",
    "for i in lst:\n",
    "    print(i)"
   ]
  },
  {
   "cell_type": "code",
   "execution_count": 10,
   "id": "6b16a86e-2b2f-4479-9e28-276c15a65a8a",
   "metadata": {},
   "outputs": [],
   "source": [
    "## iterator\n",
    "iterable=iter(lst)"
   ]
  },
  {
   "cell_type": "code",
   "execution_count": 11,
   "id": "6e59064b-466e-4b3c-a070-094dd6146dca",
   "metadata": {},
   "outputs": [
    {
     "name": "stdout",
     "output_type": "stream",
     "text": [
      "1\n",
      "2\n",
      "3\n",
      "4\n"
     ]
    }
   ],
   "source": [
    "for i in iterable:\n",
    "    print(i)\n",
    "\n",
    "# we can also loop through the iterator"
   ]
  },
  {
   "cell_type": "code",
   "execution_count": 12,
   "id": "b53435a2-7d12-42d0-b749-fd52fe24d367",
   "metadata": {},
   "outputs": [
    {
     "data": {
      "text/plain": [
       "<list_iterator at 0x1fe59393280>"
      ]
     },
     "execution_count": 12,
     "metadata": {},
     "output_type": "execute_result"
    }
   ],
   "source": [
    "iterable"
   ]
  },
  {
   "cell_type": "code",
   "execution_count": 24,
   "id": "fb73ebd8-ad40-418d-aaaf-9899a6777374",
   "metadata": {},
   "outputs": [],
   "source": [
    "## iterator\n",
    "iterable=iter(lst)"
   ]
  },
  {
   "cell_type": "code",
   "execution_count": 20,
   "id": "79341723-e80a-49c4-a4fb-f3f82bfca7e7",
   "metadata": {},
   "outputs": [
    {
     "ename": "StopIteration",
     "evalue": "",
     "output_type": "error",
     "traceback": [
      "\u001b[1;31m---------------------------------------------------------------------------\u001b[0m",
      "\u001b[1;31mStopIteration\u001b[0m                             Traceback (most recent call last)",
      "Cell \u001b[1;32mIn[20], line 1\u001b[0m\n\u001b[1;32m----> 1\u001b[0m \u001b[38;5;28mnext\u001b[39m(iterable)\n",
      "\u001b[1;31mStopIteration\u001b[0m: "
     ]
    }
   ],
   "source": [
    "next(iterable) # this is like a dynamic memory cell , it will only get initialize when you are calling that specific element ."
   ]
  },
  {
   "cell_type": "markdown",
   "id": "bd4105c1-2ac8-4f2c-856a-5de82fd38be9",
   "metadata": {},
   "source": [
    "afte this 4 there is no element so it will through an error stop iteration . it just like going through or jumping from one line to another line "
   ]
  },
  {
   "cell_type": "markdown",
   "id": "a6a55fc7-5fea-4b74-9e39-c0f09a00dca9",
   "metadata": {},
   "source": [
    " **we can also use try and except block to catch this StopIteration error**"
   ]
  },
  {
   "cell_type": "code",
   "execution_count": 29,
   "id": "ed503848-0336-44e0-aa54-804bbc7f6a24",
   "metadata": {},
   "outputs": [
    {
     "name": "stdout",
     "output_type": "stream",
     "text": [
      "the iterator is empty\n"
     ]
    }
   ],
   "source": [
    "try :\n",
    "    print(next(iterable))\n",
    "except StopIteration:\n",
    "    print('the iterator is empty')\n",
    "    "
   ]
  },
  {
   "cell_type": "markdown",
   "id": "d92d2463-101a-4e3d-8b8a-f957a4b78e71",
   "metadata": {},
   "source": [
    "as you can see in the above cell when we exceed the boundary of the iterator we get the stopIteration error which we are handling in the above cell using the except block. "
   ]
  },
  {
   "cell_type": "code",
   "execution_count": 30,
   "id": "a62d6f88-f195-4ab6-b70a-9c06075b956f",
   "metadata": {},
   "outputs": [],
   "source": [
    "### Generator \n",
    "\n",
    "# Generator are basically used in order to create iterator . \n",
    "def square(n):\n",
    "    for i in range(n):\n",
    "        return i**2"
   ]
  },
  {
   "cell_type": "code",
   "execution_count": 31,
   "id": "3a701296-1b45-4775-9735-728373e9e388",
   "metadata": {},
   "outputs": [
    {
     "data": {
      "text/plain": [
       "0"
      ]
     },
     "execution_count": 31,
     "metadata": {},
     "output_type": "execute_result"
    }
   ],
   "source": [
    "square(3)"
   ]
  },
  {
   "cell_type": "code",
   "execution_count": 34,
   "id": "706421f8-6370-4d52-be74-15d4358dc5cf",
   "metadata": {},
   "outputs": [],
   "source": [
    "### Generator \n",
    "\n",
    "# Generator are basically used in order to create iterator . \n",
    "# here we are going to change the return function with the yield function . what does yield function do it actually convert the whole function into the iterator .\n",
    "\n",
    "'''\n",
    "\n",
    "Why use yield?\n",
    "\n",
    "Memory efficiency — It doesn’t store the entire result in memory.\n",
    "\n",
    "Lazy evaluation — Values are produced only when needed.\n",
    "\n",
    "Infinite sequences — You can represent endless data streams without crashing your system.\n",
    "\n",
    "'''\n",
    "def square(n):\n",
    "    for i in range(n):\n",
    "        yield i**2"
   ]
  },
  {
   "cell_type": "code",
   "execution_count": 33,
   "id": "da62bdb4-8d1b-4037-863c-a0756835680e",
   "metadata": {},
   "outputs": [
    {
     "data": {
      "text/plain": [
       "<generator object square at 0x000001FE596D9E50>"
      ]
     },
     "execution_count": 33,
     "metadata": {},
     "output_type": "execute_result"
    }
   ],
   "source": [
    " square(3)"
   ]
  },
  {
   "cell_type": "code",
   "execution_count": 35,
   "id": "c00d4802-51d9-4d03-9e06-e0641f78f644",
   "metadata": {},
   "outputs": [
    {
     "name": "stdout",
     "output_type": "stream",
     "text": [
      "0\n",
      "1\n",
      "4\n"
     ]
    }
   ],
   "source": [
    "for i in square(3):\n",
    "    print(i)"
   ]
  },
  {
   "cell_type": "code",
   "execution_count": 36,
   "id": "0589773b-a93a-4314-b515-4971d4bda2f0",
   "metadata": {},
   "outputs": [
    {
     "data": {
      "text/plain": [
       "<generator object square at 0x000001FE59753850>"
      ]
     },
     "execution_count": 36,
     "metadata": {},
     "output_type": "execute_result"
    }
   ],
   "source": [
    "a=square(3)\n",
    "a"
   ]
  },
  {
   "cell_type": "code",
   "execution_count": 37,
   "id": "996f2061-88fd-4f6e-98b9-a216f736e41e",
   "metadata": {},
   "outputs": [
    {
     "data": {
      "text/plain": [
       "0"
      ]
     },
     "execution_count": 37,
     "metadata": {},
     "output_type": "execute_result"
    }
   ],
   "source": [
    "next(a)\n"
   ]
  },
  {
   "cell_type": "markdown",
   "id": "09092fda-58c0-464e-bd14-49d08681ae4e",
   "metadata": {},
   "source": [
    "### Difference between iterator and generator .\n",
    "\n",
    "1. To create iterator we use iter() and to generator we use function along with yield keyword.\n",
    "\n",
    "2. Genrator uses the yield keyword . it save the local variable value .\n",
    "\n",
    "3. Generator in python helps us to write fast and compact .\n",
    "\n",
    "4. Python Iterator is much more memory efficient."
   ]
  },
  {
   "cell_type": "code",
   "execution_count": 45,
   "id": "84f6d847-d228-4ecd-a21b-7cefa8ab4d3c",
   "metadata": {},
   "outputs": [],
   "source": [
    "import types,collections.abc"
   ]
  },
  {
   "cell_type": "markdown",
   "id": "db0530b7-d846-420d-8c94-da86a8b32020",
   "metadata": {},
   "source": [
    "Iterable → can give you an iterator  (e.g., list, tuple, set)\n",
    "\n",
    "Iterator → gives values one-by-one with next()\n",
    "\n",
    "Generator → a special kind of iterator made with yield"
   ]
  },
  {
   "cell_type": "markdown",
   "id": "56a01312-755c-4dcb-89e4-c9cf738008e9",
   "metadata": {},
   "source": [
    "issubclass(types.GeneratorType, collections.abc.Iterator)  # True\n",
    "\n",
    "note: every generator is an interator but every iterator is not an generator . "
   ]
  },
  {
   "cell_type": "code",
   "execution_count": 46,
   "id": "f33e38e8-00c8-4a0e-94f5-5acc806c1715",
   "metadata": {},
   "outputs": [
    {
     "data": {
      "text/plain": [
       "True"
      ]
     },
     "execution_count": 46,
     "metadata": {},
     "output_type": "execute_result"
    }
   ],
   "source": [
    "issubclass(types.GeneratorType,collections.abc.Iterator)"
   ]
  },
  {
   "cell_type": "code",
   "execution_count": null,
   "id": "956163cc-66e4-4d96-8650-386cf1f611e2",
   "metadata": {},
   "outputs": [],
   "source": []
  },
  {
   "cell_type": "code",
   "execution_count": null,
   "id": "9990dd63-48cc-4e8a-8be9-a98bd101f872",
   "metadata": {},
   "outputs": [],
   "source": []
  },
  {
   "cell_type": "code",
   "execution_count": null,
   "id": "2e8580c7-a9e0-439c-9708-59250c9e1522",
   "metadata": {},
   "outputs": [],
   "source": []
  },
  {
   "cell_type": "code",
   "execution_count": null,
   "id": "1624a342-7f75-4c18-bd69-257e8dd359ed",
   "metadata": {},
   "outputs": [],
   "source": []
  },
  {
   "cell_type": "code",
   "execution_count": null,
   "id": "7576cc0a-969f-42d2-b1ee-95130d22d0cb",
   "metadata": {},
   "outputs": [],
   "source": []
  },
  {
   "cell_type": "code",
   "execution_count": null,
   "id": "cd443ded-ebc6-4889-be09-177297035a91",
   "metadata": {},
   "outputs": [],
   "source": []
  },
  {
   "cell_type": "code",
   "execution_count": null,
   "id": "7c66f2e1-649a-4bf7-9a77-14dc2d15397c",
   "metadata": {},
   "outputs": [],
   "source": []
  },
  {
   "cell_type": "code",
   "execution_count": null,
   "id": "d6a8ab20-5daa-47c1-9cd1-6fd2c4a83122",
   "metadata": {},
   "outputs": [],
   "source": []
  },
  {
   "cell_type": "code",
   "execution_count": null,
   "id": "62a9862e-073a-49e0-8d84-f1cbab827d58",
   "metadata": {},
   "outputs": [],
   "source": []
  },
  {
   "cell_type": "code",
   "execution_count": null,
   "id": "ae35c48a-a5d8-4b68-a281-c5e75727da55",
   "metadata": {},
   "outputs": [],
   "source": []
  },
  {
   "cell_type": "code",
   "execution_count": null,
   "id": "b2d1e2d9-5ca0-41d1-acee-6162b23e7ae2",
   "metadata": {},
   "outputs": [],
   "source": []
  }
 ],
 "metadata": {
  "kernelspec": {
   "display_name": "Python 3 (ipykernel)",
   "language": "python",
   "name": "python3"
  },
  "language_info": {
   "codemirror_mode": {
    "name": "ipython",
    "version": 3
   },
   "file_extension": ".py",
   "mimetype": "text/x-python",
   "name": "python",
   "nbconvert_exporter": "python",
   "pygments_lexer": "ipython3",
   "version": "3.13.5"
  }
 },
 "nbformat": 4,
 "nbformat_minor": 5
}
