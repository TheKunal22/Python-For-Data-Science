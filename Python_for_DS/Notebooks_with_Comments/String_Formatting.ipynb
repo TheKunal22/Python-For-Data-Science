{
 "cells": [
  {
   "cell_type": "markdown",
   "id": "a90290f8-77d8-430d-96b6-a39159fbaa5d",
   "metadata": {},
   "source": [
    "# **String Formatting in PYthon**"
   ]
  },
  {
   "cell_type": "code",
   "execution_count": 1,
   "id": "ce110399-8b2f-4177-9d43-75e8117dbd63",
   "metadata": {},
   "outputs": [
    {
     "name": "stdout",
     "output_type": "stream",
     "text": [
      "hello , world\n"
     ]
    }
   ],
   "source": [
    "print(\"hello , world\")"
   ]
  },
  {
   "cell_type": "code",
   "execution_count": 3,
   "id": "0420381d-d2f5-4d0b-bfcc-84e1d2424142",
   "metadata": {},
   "outputs": [],
   "source": [
    "def gretting(name):\n",
    "    return \"'HELLO' {},welcome to the community\".format(name)"
   ]
  },
  {
   "cell_type": "code",
   "execution_count": 4,
   "id": "44cbcacc-e272-4fc5-8779-598803ba570d",
   "metadata": {},
   "outputs": [
    {
     "data": {
      "text/plain": [
       "\"'HELLO' krish,welcome to the community\""
      ]
     },
     "execution_count": 4,
     "metadata": {},
     "output_type": "execute_result"
    }
   ],
   "source": [
    "gretting('krish')"
   ]
  },
  {
   "cell_type": "code",
   "execution_count": 13,
   "id": "104affd8-8281-4f79-8fde-afa932ba566f",
   "metadata": {},
   "outputs": [],
   "source": [
    "def welcome_email(firstname,lastname):\n",
    "    return \"welcome {}, Everyone please welcome {}\".format(firstname,lastname) "
   ]
  },
  {
   "cell_type": "code",
   "execution_count": 14,
   "id": "d54c9c3e-9e22-4899-8b05-0c289848d0c7",
   "metadata": {},
   "outputs": [
    {
     "data": {
      "text/plain": [
       "'welcome kunal, Everyone please welcome saini'"
      ]
     },
     "execution_count": 14,
     "metadata": {},
     "output_type": "execute_result"
    }
   ],
   "source": [
    "welcome_email('kunal','saini')"
   ]
  },
  {
   "cell_type": "code",
   "execution_count": 20,
   "id": "a73a4f3b-63b2-44e3-a8e0-bdbc8c30951a",
   "metadata": {},
   "outputs": [],
   "source": [
    "# this ordering also plays an important role now if the ordering failed or misplace we can also give some temporary variables inside . in the same order .\n",
    "# so that there would be no confusing where to put or  in what order to put.\n",
    "# whatever we are assigning in the braces like writitng in it , that is called  variable  and knows  a placeholder variable.\n",
    "def welcome_email(firstname,lastname):\n",
    "    return \"welcome {name}, Everyone please welcome {age}\".format(name=firstname,age=lastname) "
   ]
  },
  {
   "cell_type": "code",
   "execution_count": 21,
   "id": "88739672-bd17-4e69-811c-5274e308f6f8",
   "metadata": {},
   "outputs": [
    {
     "data": {
      "text/plain": [
       "'welcome kunal, Everyone please welcome saini'"
      ]
     },
     "execution_count": 21,
     "metadata": {},
     "output_type": "execute_result"
    }
   ],
   "source": [
    "welcome_email('kunal','saini')"
   ]
  },
  {
   "cell_type": "code",
   "execution_count": 22,
   "id": "ac9fd54d-8caf-4513-988d-f5ff836cd761",
   "metadata": {},
   "outputs": [],
   "source": [
    "def welcome_email(firstname,lastname):\n",
    "    return \"welcome {name}, Everyone please welcome {age},{}\".format(name=firstname,age=lastname)\n",
    "\n",
    "    # this last {} placeholder is not defines anywher .\n",
    "    # what if we add age then as a variable placholder .\n",
    "\n"
   ]
  },
  {
   "cell_type": "code",
   "execution_count": 23,
   "id": "eb9ebdba-05c8-47ab-8912-82dd5edcd385",
   "metadata": {},
   "outputs": [
    {
     "ename": "IndexError",
     "evalue": "Replacement index 0 out of range for positional args tuple",
     "output_type": "error",
     "traceback": [
      "\u001b[1;31m---------------------------------------------------------------------------\u001b[0m",
      "\u001b[1;31mIndexError\u001b[0m                                Traceback (most recent call last)",
      "Cell \u001b[1;32mIn[23], line 1\u001b[0m\n\u001b[1;32m----> 1\u001b[0m welcome_email(\u001b[38;5;124m'\u001b[39m\u001b[38;5;124mkunal\u001b[39m\u001b[38;5;124m'\u001b[39m,\u001b[38;5;124m'\u001b[39m\u001b[38;5;124msaini\u001b[39m\u001b[38;5;124m'\u001b[39m)\n",
      "Cell \u001b[1;32mIn[22], line 2\u001b[0m, in \u001b[0;36mwelcome_email\u001b[1;34m(firstname, lastname)\u001b[0m\n\u001b[0;32m      1\u001b[0m \u001b[38;5;28;01mdef\u001b[39;00m\u001b[38;5;250m \u001b[39m\u001b[38;5;21mwelcome_email\u001b[39m(firstname,lastname):\n\u001b[1;32m----> 2\u001b[0m     \u001b[38;5;28;01mreturn\u001b[39;00m \u001b[38;5;124m\"\u001b[39m\u001b[38;5;124mwelcome \u001b[39m\u001b[38;5;132;01m{name}\u001b[39;00m\u001b[38;5;124m, Everyone please welcome \u001b[39m\u001b[38;5;132;01m{age}\u001b[39;00m\u001b[38;5;124m,\u001b[39m\u001b[38;5;132;01m{}\u001b[39;00m\u001b[38;5;124m\"\u001b[39m\u001b[38;5;241m.\u001b[39mformat(name\u001b[38;5;241m=\u001b[39mfirstname,age\u001b[38;5;241m=\u001b[39mlastname)\n",
      "\u001b[1;31mIndexError\u001b[0m: Replacement index 0 out of range for positional args tuple"
     ]
    }
   ],
   "source": [
    "welcome_email('kunal','saini')"
   ]
  },
  {
   "cell_type": "code",
   "execution_count": 24,
   "id": "908cc7c4-dd2c-4e1d-9623-dad0e879286f",
   "metadata": {},
   "outputs": [],
   "source": [
    "def welcome_email(firstname,lastname,age):\n",
    "    return \"welcome {name}, Everyone please welcome {last},{age1}\".format(name=firstname,last=lastname,age1=age)\n"
   ]
  },
  {
   "cell_type": "code",
   "execution_count": 25,
   "id": "33b04e64-563c-4ac5-b3d5-273f029cbca6",
   "metadata": {},
   "outputs": [
    {
     "data": {
      "text/plain": [
       "'welcome kunal, Everyone please welcome saini,15'"
      ]
     },
     "execution_count": 25,
     "metadata": {},
     "output_type": "execute_result"
    }
   ],
   "source": [
    "welcome_email('kunal','saini','15') # make sure to provide all the parameters properly."
   ]
  },
  {
   "cell_type": "code",
   "execution_count": null,
   "id": "3b51851a-fcef-49c7-b411-20cba5c23b33",
   "metadata": {},
   "outputs": [],
   "source": []
  }
 ],
 "metadata": {
  "kernelspec": {
   "display_name": "Python 3 (ipykernel)",
   "language": "python",
   "name": "python3"
  },
  "language_info": {
   "codemirror_mode": {
    "name": "ipython",
    "version": 3
   },
   "file_extension": ".py",
   "mimetype": "text/x-python",
   "name": "python",
   "nbconvert_exporter": "python",
   "pygments_lexer": "ipython3",
   "version": "3.13.5"
  }
 },
 "nbformat": 4,
 "nbformat_minor": 5
}
