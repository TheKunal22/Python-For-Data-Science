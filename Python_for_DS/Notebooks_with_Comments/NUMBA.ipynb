{
 "cells": [
  {
   "cell_type": "markdown",
   "id": "96f071d6-f025-42db-a8f7-193f41933b9e",
   "metadata": {},
   "source": [
    "# **Quick Guide To Numba**\n",
    "\n",
    "Numba is a just-in-time compiler for python that works best on code that uses Numpy arrays and functions,and loops.The most common way to use Numba is through its collection of decorators that can be applied to your functions to instruct Numba to compile them. When a call is made to a Numba decorated function it is compiled to machine code 'just-in-time' for execution and all or part of your code can subsequently run at native machine code speed!\n",
    "\n"
   ]
  },
  {
   "cell_type": "code",
   "execution_count": 1,
   "id": "89d27d65-cd08-4edc-9fe4-3f9cd438840e",
   "metadata": {},
   "outputs": [
    {
     "name": "stdout",
     "output_type": "stream",
     "text": [
      "Requirement already satisfied: numba in d:\\anaconda\\lib\\site-packages (0.61.0)\n",
      "Requirement already satisfied: llvmlite<0.45,>=0.44.0dev0 in d:\\anaconda\\lib\\site-packages (from numba) (0.44.0)\n",
      "Requirement already satisfied: numpy<2.2,>=1.24 in d:\\anaconda\\lib\\site-packages (from numba) (2.1.3)\n"
     ]
    }
   ],
   "source": [
    "!pip install numba\n"
   ]
  },
  {
   "cell_type": "code",
   "execution_count": 10,
   "id": "bfee5840-96e9-4c9e-98fe-d3ca9e24002a",
   "metadata": {},
   "outputs": [
    {
     "name": "stdout",
     "output_type": "stream",
     "text": [
      "Elapsed (with compilation) = 0.09831547737121582\n",
      "Elapsed (after compilation) = 3.600120544433594e-05\n"
     ]
    }
   ],
   "source": [
    "from numba import jit\n",
    "import numpy as np\n",
    "import time\n",
    "\n",
    "x= np.arange(1000).reshape(100,10)\n",
    "\n",
    "@jit(nopython=True)\n",
    "def go_fast(a): # Function is compiled and runs in machine code \n",
    "    trace = 0.0\n",
    "    for i in range(a.shape[0]):\n",
    "        trace += np.tanh(a[i,i])\n",
    "    return a + trace\n",
    "\n",
    "# DO NOT REPORT THIS... COMPILATION TIME IS INCLUDED IN THE EXECUTION TIME!\n",
    "start = time.time()\n",
    "go_fast(x)\n",
    "end = time.time()\n",
    "print('Elapsed (with compilation) = %s' % (end - start))\n",
    "\n",
    "# NOW THE FUNCTION IS COMPILED , RE-TIME IT EXECUTING FROM CACHE\n",
    "start = time.time()\n",
    "go_fast(x)\n",
    "end = time.time()\n",
    "print('Elapsed (after compilation) = %s' % (end - start))\n",
    "\n",
    "\n",
    "# REMEMBER THAT 1ST TIME > 2ND TIME , ALWAYS THIS IS TRIVIALLY TRUE \n"
   ]
  }
 ],
 "metadata": {
  "kernelspec": {
   "display_name": "Python 3 (ipykernel)",
   "language": "python",
   "name": "python3"
  },
  "language_info": {
   "codemirror_mode": {
    "name": "ipython",
    "version": 3
   },
   "file_extension": ".py",
   "mimetype": "text/x-python",
   "name": "python",
   "nbconvert_exporter": "python",
   "pygments_lexer": "ipython3",
   "version": "3.13.5"
  }
 },
 "nbformat": 4,
 "nbformat_minor": 5
}
