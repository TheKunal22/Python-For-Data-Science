{
 "cells": [
  {
   "cell_type": "code",
   "execution_count": 3,
   "id": "82c0c230-956e-48c4-bb71-c08cf13e71f8",
   "metadata": {},
   "outputs": [
    {
     "name": "stdout",
     "output_type": "stream",
     "text": [
      "Requirement already satisfied: PyPDF2 in d:\\anaconda\\lib\\site-packages (3.0.1)\n"
     ]
    }
   ],
   "source": [
    "!pip install PyPDF2"
   ]
  },
  {
   "cell_type": "code",
   "execution_count": 20,
   "id": "ec04b5f0-7332-4351-98d1-d932d198b6aa",
   "metadata": {},
   "outputs": [],
   "source": [
    "from PyPDF2 import PdfReader,PdfWriter"
   ]
  },
  {
   "cell_type": "code",
   "execution_count": 21,
   "id": "11ebe8e2-0392-40ff-9044-6c1b90a363e4",
   "metadata": {},
   "outputs": [],
   "source": [
    "## open the current pdf \n",
    "file_pdf=PdfReader(r'C:\\Users\\Lenovo\\Data-Science-Learning-Journey\\Python_for_DS\\PDF\\sample-1.pdf')\t\n",
    "### object for pdf writer , creating an instance \n",
    "out_pdf=PdfWriter()"
   ]
  },
  {
   "cell_type": "code",
   "execution_count": 22,
   "id": "d7de2b30-7bae-43ff-8b67-e3871a17a36e",
   "metadata": {},
   "outputs": [
    {
     "data": {
      "text/plain": [
       "<PyPDF2._reader.PdfReader at 0x132473e1f20>"
      ]
     },
     "execution_count": 22,
     "metadata": {},
     "output_type": "execute_result"
    }
   ],
   "source": [
    "file_pdf"
   ]
  },
  {
   "cell_type": "code",
   "execution_count": 27,
   "id": "49aeaa7a-f968-4e9c-b815-6509bc2181c3",
   "metadata": {},
   "outputs": [
    {
     "data": {
      "text/plain": [
       "2"
      ]
     },
     "execution_count": 27,
     "metadata": {},
     "output_type": "execute_result"
    }
   ],
   "source": [
    "# we are getting , how many pages are there in our pdf . keep in mind reader.numPages is Depreceted so use this instead . \n",
    "len(file_pdf.pages)"
   ]
  },
  {
   "cell_type": "code",
   "execution_count": 40,
   "id": "686f46d6-f023-43cc-ba91-5312615c685d",
   "metadata": {},
   "outputs": [],
   "source": [
    "for i in range(len(file_pdf.pages)):\n",
    "    page_details=file_pdf.pages[i]\n",
    "    out_pdf.add_page(page_details)\n",
    "    "
   ]
  },
  {
   "cell_type": "code",
   "execution_count": 41,
   "id": "8ac45b69-61ad-4e72-b5fa-a03432c0c24f",
   "metadata": {},
   "outputs": [],
   "source": [
    "password='kunal@12345'\n",
    "\n",
    "out_pdf.encrypt(password)"
   ]
  },
  {
   "cell_type": "code",
   "execution_count": 42,
   "id": "f3c46977-8139-44ae-bb40-3d539521ad46",
   "metadata": {},
   "outputs": [],
   "source": [
    "with open('encryptedtickets.pdf','wb')as filename:\n",
    "    out_pdf.write(filename)"
   ]
  },
  {
   "cell_type": "code",
   "execution_count": null,
   "id": "8ff4f8bb-443f-49dd-bb6c-ba683c5c0460",
   "metadata": {},
   "outputs": [],
   "source": [
    "import os\n",
    "os.getcwd()"
   ]
  },
  {
   "cell_type": "code",
   "execution_count": null,
   "id": "ae4128be-ddcd-43fa-a714-bc2a266c5782",
   "metadata": {},
   "outputs": [],
   "source": []
  },
  {
   "cell_type": "code",
   "execution_count": null,
   "id": "f9c62b03-02d7-4099-8b71-470b5998d17e",
   "metadata": {},
   "outputs": [],
   "source": []
  },
  {
   "cell_type": "code",
   "execution_count": null,
   "id": "cfcfcf6c-72fb-4670-9819-b04a14d4c21d",
   "metadata": {},
   "outputs": [],
   "source": []
  },
  {
   "cell_type": "code",
   "execution_count": null,
   "id": "be561be6-7e10-437c-ba7e-ea8be8f90494",
   "metadata": {},
   "outputs": [],
   "source": []
  },
  {
   "cell_type": "code",
   "execution_count": null,
   "id": "ceeae0ff-10d7-4c75-979c-e867199f8a60",
   "metadata": {},
   "outputs": [],
   "source": []
  }
 ],
 "metadata": {
  "kernelspec": {
   "display_name": "Python 3 (ipykernel)",
   "language": "python",
   "name": "python3"
  },
  "language_info": {
   "codemirror_mode": {
    "name": "ipython",
    "version": 3
   },
   "file_extension": ".py",
   "mimetype": "text/x-python",
   "name": "python",
   "nbconvert_exporter": "python",
   "pygments_lexer": "ipython3",
   "version": "3.13.5"
  }
 },
 "nbformat": 4,
 "nbformat_minor": 5
}
