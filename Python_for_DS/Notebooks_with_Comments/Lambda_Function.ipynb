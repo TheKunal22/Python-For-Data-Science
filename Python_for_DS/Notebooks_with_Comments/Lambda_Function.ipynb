{
 "cells": [
  {
   "cell_type": "markdown",
   "id": "4fb1fea3-77ac-4b72-a047-c4373ed9efdb",
   "metadata": {},
   "source": [
    "## Lambda Function \n",
    "\n",
    "anonymous function \n",
    "\n",
    "A function with no name "
   ]
  },
  {
   "cell_type": "code",
   "execution_count": 1,
   "id": "d764fd14-fcb1-4f96-8bae-ba4c1911cc73",
   "metadata": {},
   "outputs": [],
   "source": [
    "def additon(a,b):\n",
    "    return a+b # if we have a single expression inside a function then we can convert that into a lambda fucntion ."
   ]
  },
  {
   "cell_type": "code",
   "execution_count": 2,
   "id": "70274502-2593-46b2-b24a-3881c1bcb30c",
   "metadata": {},
   "outputs": [
    {
     "data": {
      "text/plain": [
       "9"
      ]
     },
     "execution_count": 2,
     "metadata": {},
     "output_type": "execute_result"
    }
   ],
   "source": [
    "additon(4,5)"
   ]
  },
  {
   "cell_type": "code",
   "execution_count": 3,
   "id": "f5f6a15c-a367-4568-842a-f6b614319ef5",
   "metadata": {},
   "outputs": [],
   "source": [
    "addition = lambda a,b:a+b"
   ]
  },
  {
   "cell_type": "code",
   "execution_count": 4,
   "id": "7d29c8ec-8e2a-40c5-b323-f994e93a1450",
   "metadata": {},
   "outputs": [
    {
     "data": {
      "text/plain": [
       "26"
      ]
     },
     "execution_count": 4,
     "metadata": {},
     "output_type": "execute_result"
    }
   ],
   "source": [
    "addition(12,14)"
   ]
  },
  {
   "cell_type": "code",
   "execution_count": 5,
   "id": "8ca9ce98-fd7b-4ca1-bd63-ecab73202599",
   "metadata": {},
   "outputs": [],
   "source": [
    "def even(num):\n",
    "    if num%2==0:\n",
    "        return True\n",
    "        "
   ]
  },
  {
   "cell_type": "code",
   "execution_count": 6,
   "id": "565957d9-dc0d-4239-9410-8268124a22ac",
   "metadata": {},
   "outputs": [
    {
     "data": {
      "text/plain": [
       "True"
      ]
     },
     "execution_count": 6,
     "metadata": {},
     "output_type": "execute_result"
    }
   ],
   "source": [
    "even(24)"
   ]
  },
  {
   "cell_type": "code",
   "execution_count": null,
   "id": "4377e30d-6859-46b8-a281-3853d039b1e1",
   "metadata": {},
   "outputs": [],
   "source": [
    "even = lambda a:a%2==0"
   ]
  },
  {
   "cell_type": "code",
   "execution_count": 7,
   "id": "5b9db9ff-adaf-46dc-b3a8-3d1b5c8cc456",
   "metadata": {},
   "outputs": [
    {
     "data": {
      "text/plain": [
       "True"
      ]
     },
     "execution_count": 7,
     "metadata": {},
     "output_type": "execute_result"
    }
   ],
   "source": [
    "even(12)"
   ]
  },
  {
   "cell_type": "code",
   "execution_count": 10,
   "id": "2c1d2697-f4ff-4c1a-992e-2cb5e7004e84",
   "metadata": {},
   "outputs": [],
   "source": [
    "def addition(x,y,z):\n",
    "    return x+y+z"
   ]
  },
  {
   "cell_type": "code",
   "execution_count": 12,
   "id": "d47e5ad0-17c6-4c59-991e-db22828c2ff7",
   "metadata": {},
   "outputs": [
    {
     "data": {
      "text/plain": [
       "9"
      ]
     },
     "execution_count": 12,
     "metadata": {},
     "output_type": "execute_result"
    }
   ],
   "source": [
    "\n",
    "addition(2,3,4)"
   ]
  },
  {
   "cell_type": "code",
   "execution_count": null,
   "id": "687f49a8-ff22-439d-96fb-ac1e307530e1",
   "metadata": {},
   "outputs": [],
   "source": [
    "addition = lambda x,y,z:x+y+z "
   ]
  },
  {
   "cell_type": "code",
   "execution_count": 13,
   "id": "64b51f04-c271-4ff0-9aa8-a14b9a0c3672",
   "metadata": {},
   "outputs": [
    {
     "data": {
      "text/plain": [
       "11"
      ]
     },
     "execution_count": 13,
     "metadata": {},
     "output_type": "execute_result"
    }
   ],
   "source": [
    "addition(2,3,6)"
   ]
  }
 ],
 "metadata": {
  "kernelspec": {
   "display_name": "Python 3 (ipykernel)",
   "language": "python",
   "name": "python3"
  },
  "language_info": {
   "codemirror_mode": {
    "name": "ipython",
    "version": 3
   },
   "file_extension": ".py",
   "mimetype": "text/x-python",
   "name": "python",
   "nbconvert_exporter": "python",
   "pygments_lexer": "ipython3",
   "version": "3.13.5"
  }
 },
 "nbformat": 4,
 "nbformat_minor": 5
}
