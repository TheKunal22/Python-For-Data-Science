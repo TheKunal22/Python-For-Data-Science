{
 "cells": [
  {
   "cell_type": "markdown",
   "id": "047107a2-b773-4117-af5b-fd59791c9d1e",
   "metadata": {},
   "source": [
    "# **Python Data Classes**"
   ]
  },
  {
   "cell_type": "markdown",
   "id": "ea28f89a-399b-4e63-8127-957269650cab",
   "metadata": {},
   "source": [
    "In Python , the dataclass decorator is a feature introduced in Python 3.7 that provides a concise way to define classes primarily intended to store data. it automatically generates several special methods, such as **init** , **repr** , and **eq** , based on the class attributes you define. This simplifies the process of creating and working with data-focused classes."
   ]
  },
  {
   "cell_type": "code",
   "execution_count": 1,
   "id": "a642bf6b-1643-4bed-89dd-dda52f717afc",
   "metadata": {},
   "outputs": [],
   "source": [
    "# This is how we define the classes.\n",
    "class Person:\n",
    "    def __init__(self , name , age ):\n",
    "        self.name=name\n",
    "        self.age=age\n",
    "\n",
    "person1=Person('kunal',17)"
   ]
  },
  {
   "cell_type": "markdown",
   "id": "7e933365-d390-4460-aa3b-496a847e6e45",
   "metadata": {},
   "source": [
    " we dont have to do all that if we use Python Data Classes. "
   ]
  },
  {
   "cell_type": "code",
   "execution_count": 4,
   "id": "33b8b0b3-09eb-4286-9d05-fdb0833995ce",
   "metadata": {},
   "outputs": [],
   "source": [
    "from dataclasses import dataclass\n",
    "\n",
    "@dataclass\n",
    "class Person:\n",
    "    name:str\n",
    "    age:int\n",
    "    profession:str\n",
    "\n",
    "# thats it our class is created "
   ]
  },
  {
   "cell_type": "code",
   "execution_count": 5,
   "id": "15cfa731-17d9-420f-8a84-882603063692",
   "metadata": {},
   "outputs": [],
   "source": [
    "# just taking an example my age is not 17 , XD\n",
    "person1=Person('kunal',17,'AI AND DATA SCIENCE')"
   ]
  },
  {
   "cell_type": "code",
   "execution_count": 6,
   "id": "040b18d7-0b58-460b-bbbf-0ef17d4d6655",
   "metadata": {},
   "outputs": [
    {
     "data": {
      "text/plain": [
       "Person(name='kunal', age=17, profession='AI AND DATA SCIENCE')"
      ]
     },
     "execution_count": 6,
     "metadata": {},
     "output_type": "execute_result"
    }
   ],
   "source": [
    "person1"
   ]
  },
  {
   "cell_type": "markdown",
   "id": "51e58918-fff4-4603-8430-5f50837e96da",
   "metadata": {},
   "source": [
    "The @dataclass decorator automatically generates the following methods for you:\n",
    "\n",
    "1. **init**():initializes the object and assigns the provided values to the attributes.\n",
    "2. **repr**(): provides a string representation of the object\n",
    "3. **eq**(): implements equality comparison b/w two objects of the class based on their attributes"
   ]
  },
  {
   "cell_type": "code",
   "execution_count": 7,
   "id": "57ffe42a-4932-4c6b-9c1c-e5784d4a997d",
   "metadata": {},
   "outputs": [],
   "source": [
    "@dataclass\n",
    "class Person:\n",
    "    name:str\n",
    "    age:int\n",
    "    profession:str='AI'\n",
    "\n",
    "person1=Person('kunal',17,'AI')\n",
    "\n"
   ]
  },
  {
   "cell_type": "code",
   "execution_count": 8,
   "id": "6f24c9cb-4cb6-4a3a-893d-585944091d70",
   "metadata": {},
   "outputs": [
    {
     "data": {
      "text/plain": [
       "Person(name='kunal', age=17, profession='AI')"
      ]
     },
     "execution_count": 8,
     "metadata": {},
     "output_type": "execute_result"
    }
   ],
   "source": [
    "person1"
   ]
  },
  {
   "cell_type": "code",
   "execution_count": 9,
   "id": "de63f72f-20de-4746-92ef-05c6f6297060",
   "metadata": {},
   "outputs": [],
   "source": [
    "# we can also overwrite the init variables \n",
    "\n",
    "person1.profession='CyberSecurity'"
   ]
  },
  {
   "cell_type": "code",
   "execution_count": 12,
   "id": "8f00bb1f-ce40-469a-9f77-62e6ae966616",
   "metadata": {},
   "outputs": [],
   "source": [
    "## Iimmutable class\n",
    "\n",
    "@dataclass\t\n",
    "class Point:\n",
    "    x:int\n",
    "    y:int\n",
    "\n",
    "\n",
    "point=Point(3,4)\n",
    "    "
   ]
  },
  {
   "cell_type": "code",
   "execution_count": 13,
   "id": "316a5d18-43c0-42c4-a30b-2f38a9857248",
   "metadata": {},
   "outputs": [
    {
     "data": {
      "text/plain": [
       "Point(x=3, y=4)"
      ]
     },
     "execution_count": 13,
     "metadata": {},
     "output_type": "execute_result"
    }
   ],
   "source": [
    "point"
   ]
  },
  {
   "cell_type": "code",
   "execution_count": 14,
   "id": "39060de9-a89e-41fa-b7c3-08d09313b6aa",
   "metadata": {},
   "outputs": [],
   "source": [
    "# thats all good till the above cell but ,  now there is a another property in data class.\n",
    "\n",
    "## Iimmutable class\n",
    "\n",
    "@dataclass(frozen=True)\n",
    "class Point:\n",
    "    x:int\n",
    "    y:int\n",
    "\n",
    "\n",
    "point=Point(3,4)\n",
    "    "
   ]
  },
  {
   "cell_type": "code",
   "execution_count": 15,
   "id": "016b9421-e035-4e6d-a44e-2fd88a0b3bdf",
   "metadata": {},
   "outputs": [
    {
     "ename": "FrozenInstanceError",
     "evalue": "cannot assign to field 'x'",
     "output_type": "error",
     "traceback": [
      "\u001b[1;31m---------------------------------------------------------------------------\u001b[0m",
      "\u001b[1;31mFrozenInstanceError\u001b[0m                       Traceback (most recent call last)",
      "Cell \u001b[1;32mIn[15], line 1\u001b[0m\n\u001b[1;32m----> 1\u001b[0m point\u001b[38;5;241m.\u001b[39mx\u001b[38;5;241m=\u001b[39m\u001b[38;5;241m45\u001b[39m\n",
      "File \u001b[1;32m<string>:16\u001b[0m, in \u001b[0;36m__setattr__\u001b[1;34m(self, name, value)\u001b[0m\n",
      "\u001b[1;31mFrozenInstanceError\u001b[0m: cannot assign to field 'x'"
     ]
    }
   ],
   "source": [
    "point.x=45\n",
    "\n",
    "# object is frozen , means whenever we try to create a class by using frozen class where i return frozen = true , ones an object is initalize the values cannot change, when i say valyes mean the attributes cannot changes , this is very powerful thing "
   ]
  },
  {
   "cell_type": "code",
   "execution_count": 19,
   "id": "a29f082b-b0a1-4f82-a4e1-920a343e2794",
   "metadata": {},
   "outputs": [],
   "source": [
    "## Inhertiance \n",
    "\n",
    "@dataclass\n",
    "class Person:\n",
    "    name:str\n",
    "    age:int\n",
    "\n",
    "@dataclass\n",
    "# here we are inheritng the person class , means our parent class is person and child class is employee \n",
    "class Employee(Person):\n",
    "    employee_id:str\n",
    "    department:str\n",
    "\n",
    "person=Person(\"kunal\",17)\n",
    "\n",
    "employee=Employee('krish',31,'123','AI')"
   ]
  },
  {
   "cell_type": "code",
   "execution_count": 20,
   "id": "bbed3c1a-a90e-4cc1-9ae4-e01caa2919f0",
   "metadata": {},
   "outputs": [
    {
     "name": "stdout",
     "output_type": "stream",
     "text": [
      "Employee(name='krish', age=31, employee_id='123', department='AI')\n"
     ]
    }
   ],
   "source": [
    "print(employee) # look we are able to see the all values over here . "
   ]
  },
  {
   "cell_type": "code",
   "execution_count": 22,
   "id": "97113d56-44a9-4912-895b-03b36ca2e437",
   "metadata": {},
   "outputs": [],
   "source": [
    "## nested data class \n",
    "\n",
    "\n",
    "@dataclass\n",
    "class Address:\n",
    "    street:str\n",
    "    city:str\n",
    "    zip_code:str\n",
    "\n",
    "@dataclass\n",
    "class Person:\n",
    "    name:str\n",
    "    age:str\n",
    "    # here we are calling the Address class over here . data class inside data class , we are calling a data class inside a data class , this is called nested data class .\n",
    "    address:Address # this variable will be a datatype of this kind means address\n",
    "\n",
    "address=Address('123 diamond street ', 'Banglore','560000')\n",
    "person=Person('krish',31,address)"
   ]
  },
  {
   "cell_type": "code",
   "execution_count": 25,
   "id": "1e91cf63-da48-4b77-831c-8fc6140b783f",
   "metadata": {},
   "outputs": [
    {
     "data": {
      "text/plain": [
       "Address(street='123 diamond street ', city='Banglore', zip_code='560000')"
      ]
     },
     "execution_count": 25,
     "metadata": {},
     "output_type": "execute_result"
    }
   ],
   "source": [
    "person.address"
   ]
  },
  {
   "cell_type": "code",
   "execution_count": 26,
   "id": "9da2da18-7dd0-4687-86f2-99e98abf49c2",
   "metadata": {},
   "outputs": [
    {
     "data": {
      "text/plain": [
       "'123 diamond street '"
      ]
     },
     "execution_count": 26,
     "metadata": {},
     "output_type": "execute_result"
    }
   ],
   "source": [
    "person.address.street"
   ]
  },
  {
   "cell_type": "code",
   "execution_count": null,
   "id": "35f006f8-9904-481a-853f-7cada93dc01e",
   "metadata": {},
   "outputs": [],
   "source": []
  },
  {
   "cell_type": "code",
   "execution_count": null,
   "id": "1027567e-fc63-4170-b630-e3630efb831a",
   "metadata": {},
   "outputs": [],
   "source": []
  },
  {
   "cell_type": "markdown",
   "id": "47df4f65-8771-495d-bbcd-17f34bc32ece",
   "metadata": {},
   "source": [
    "### **THATS ALL !!! SEE YOU GUYS IN NEXT COURSE , KEEP LEARNING !!! , HAVE A GREAT DAY/NIGHT. :)**"
   ]
  },
  {
   "cell_type": "markdown",
   "id": "756e57f6-5a72-4d15-82b0-ea67d78a6ae8",
   "metadata": {},
   "source": []
  }
 ],
 "metadata": {
  "kernelspec": {
   "display_name": "Python 3 (ipykernel)",
   "language": "python",
   "name": "python3"
  },
  "language_info": {
   "codemirror_mode": {
    "name": "ipython",
    "version": 3
   },
   "file_extension": ".py",
   "mimetype": "text/x-python",
   "name": "python",
   "nbconvert_exporter": "python",
   "pygments_lexer": "ipython3",
   "version": "3.13.5"
  }
 },
 "nbformat": 4,
 "nbformat_minor": 5
}
