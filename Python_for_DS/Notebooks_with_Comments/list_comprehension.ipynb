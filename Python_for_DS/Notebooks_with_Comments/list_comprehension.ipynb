{
 "cells": [
  {
   "cell_type": "markdown",
   "id": "d15a8199-0d16-4eba-9108-c7486f35342f",
   "metadata": {},
   "source": [
    "# **List Comprehension**\n",
    "\n",
    "list comprehensin provide a console way to create lists . it consists of brackets containing an \n",
    "expresssion followed by a for clauses,then zero or more for or if clauses . the expresssions can be anything meaning you can put it in all kinds of objects in lists ."
   ]
  },
  {
   "cell_type": "code",
   "execution_count": 1,
   "id": "6bbc0b61-c2ec-46b5-9d57-c29536eb51b4",
   "metadata": {},
   "outputs": [],
   "source": [
    "lst1=[]\n",
    "def lst_square(lst):\n",
    "    for i in lst:\n",
    "        lst1.append(i*i)\n",
    "    return lst1"
   ]
  },
  {
   "cell_type": "code",
   "execution_count": 2,
   "id": "66fb687e-f04f-4351-bff2-637fdaf51029",
   "metadata": {},
   "outputs": [
    {
     "data": {
      "text/plain": [
       "[1, 4, 9, 16, 25, 36, 49, 64, 81]"
      ]
     },
     "execution_count": 2,
     "metadata": {},
     "output_type": "execute_result"
    }
   ],
   "source": [
    "lst_square([1,2,3,4,5,6,7,8,9])"
   ]
  },
  {
   "cell_type": "code",
   "execution_count": null,
   "id": "5bbd91c5-1903-4ea1-8671-1a733ea54ae6",
   "metadata": {},
   "outputs": [],
   "source": [
    "'''\n",
    "    we are writing so many lines of code which is increasing the memeory and also the \n",
    "    time complexity and different kind of varibales but using list comprehension we can\n",
    "    write this code in one line . \n",
    "'''\n"
   ]
  },
  {
   "cell_type": "code",
   "execution_count": 3,
   "id": "a1bee823-be59-49a9-b25c-57b0639aad03",
   "metadata": {},
   "outputs": [],
   "source": [
    "lst=[1,2,3,4,5,6,7,8,9]\n"
   ]
  },
  {
   "cell_type": "code",
   "execution_count": 4,
   "id": "48cc4831-25c5-4a06-b49d-50f5e6af22df",
   "metadata": {},
   "outputs": [
    {
     "data": {
      "text/plain": [
       "[1, 4, 9, 16, 25, 36, 49, 64, 81]"
      ]
     },
     "execution_count": 4,
     "metadata": {},
     "output_type": "execute_result"
    }
   ],
   "source": [
    "[i*i for i in lst ] # this terminology is called list comprehension."
   ]
  },
  {
   "cell_type": "code",
   "execution_count": 5,
   "id": "d0fcd15e-9a9c-40bc-a287-cb69212fc1ff",
   "metadata": {},
   "outputs": [
    {
     "data": {
      "text/plain": [
       "[4, 16, 36, 64]"
      ]
     },
     "execution_count": 5,
     "metadata": {},
     "output_type": "execute_result"
    }
   ],
   "source": [
    "# what about if i want only the even number as return .\n",
    "# List comprehension . \n",
    "[i*i for i in lst if i%2==0]"
   ]
  },
  {
   "cell_type": "code",
   "execution_count": null,
   "id": "1724887b-7840-408d-9d61-5d26b5993c11",
   "metadata": {},
   "outputs": [],
   "source": []
  },
  {
   "cell_type": "code",
   "execution_count": null,
   "id": "cf2bdecb-221f-4000-811b-9cb2bce3d0a7",
   "metadata": {},
   "outputs": [],
   "source": []
  },
  {
   "cell_type": "code",
   "execution_count": null,
   "id": "567f3aa3-042c-47a9-a1cd-c1884a5e5e70",
   "metadata": {},
   "outputs": [],
   "source": []
  },
  {
   "cell_type": "code",
   "execution_count": null,
   "id": "9366499b-f3cb-462d-8bdb-8c62972213cd",
   "metadata": {},
   "outputs": [],
   "source": []
  },
  {
   "cell_type": "code",
   "execution_count": null,
   "id": "beecaf16-5e6c-47e3-94b7-2c0a3177595c",
   "metadata": {},
   "outputs": [],
   "source": []
  },
  {
   "cell_type": "code",
   "execution_count": null,
   "id": "a13fc0a2-12c7-4b9c-9efd-ea7b2744e79b",
   "metadata": {},
   "outputs": [],
   "source": []
  },
  {
   "cell_type": "code",
   "execution_count": null,
   "id": "23b511cd-93e4-41ef-8022-3f07156483a3",
   "metadata": {},
   "outputs": [],
   "source": []
  }
 ],
 "metadata": {
  "kernelspec": {
   "display_name": "Python 3 (ipykernel)",
   "language": "python",
   "name": "python3"
  },
  "language_info": {
   "codemirror_mode": {
    "name": "ipython",
    "version": 3
   },
   "file_extension": ".py",
   "mimetype": "text/x-python",
   "name": "python",
   "nbconvert_exporter": "python",
   "pygments_lexer": "ipython3",
   "version": "3.13.5"
  }
 },
 "nbformat": 4,
 "nbformat_minor": 5
}
