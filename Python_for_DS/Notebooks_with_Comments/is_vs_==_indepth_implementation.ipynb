{
 "cells": [
  {
   "cell_type": "code",
   "execution_count": 1,
   "id": "d1f4a1a7-4a9e-41dd-aeb5-3d3449495957",
   "metadata": {},
   "outputs": [
    {
     "data": {
      "text/plain": [
       "False"
      ]
     },
     "execution_count": 1,
     "metadata": {},
     "output_type": "execute_result"
    }
   ],
   "source": [
    "# is vs == \n",
    "\n",
    "lst=['kunal','kunal1','kunal2']\n",
    "lst2=['kunal1','kunal1','kunal2']\n",
    "lst==lst2"
   ]
  },
  {
   "cell_type": "code",
   "execution_count": 2,
   "id": "9b13f920-8b78-44e7-bb53-1fd524738614",
   "metadata": {},
   "outputs": [
    {
     "data": {
      "text/plain": [
       "True"
      ]
     },
     "execution_count": 2,
     "metadata": {},
     "output_type": "execute_result"
    }
   ],
   "source": [
    "a='Krish'\n",
    "b='Krish'\n",
    "a==b"
   ]
  },
  {
   "cell_type": "code",
   "execution_count": 5,
   "id": "64792b5f-86a5-4bc6-89ae-faaacb341fd1",
   "metadata": {},
   "outputs": [
    {
     "data": {
      "text/plain": [
       "True"
      ]
     },
     "execution_count": 5,
     "metadata": {},
     "output_type": "execute_result"
    }
   ],
   "source": [
    "# different objects are being created \n",
    "\n",
    "lst=['kunal','kunal1','kunal2']\n",
    "lst2=lst\n",
    "lst is lst2"
   ]
  },
  {
   "cell_type": "code",
   "execution_count": 6,
   "id": "f8a82f34-86a1-4cf3-8e57-7df00b2aac45",
   "metadata": {},
   "outputs": [
    {
     "data": {
      "text/plain": [
       "True"
      ]
     },
     "execution_count": 6,
     "metadata": {},
     "output_type": "execute_result"
    }
   ],
   "source": [
    "lst2 is lst"
   ]
  },
  {
   "cell_type": "markdown",
   "id": "a70a3168-395e-45a3-8457-1d3b99933f41",
   "metadata": {},
   "source": [
    "### **Here’s the easiest way to remember:**\n",
    "\n",
    "### **== → \"Are the values the same?\" (checks equality)**\n",
    "\n",
    "### **is → \"Are they literally the same object in memory?\" (checks identity)**\n",
    "\n",
    "\n"
   ]
  },
  {
   "cell_type": "markdown",
   "id": "02211495-a03a-4db0-8d68-265a33718eab",
   "metadata": {},
   "source": [
    "💡 Quick brain hook:\n",
    "\n",
    "== → \"Look inside the box\"\n",
    "\n",
    "is → \"Check if it’s the same box\"\n",
    "\n"
   ]
  },
  {
   "cell_type": "markdown",
   "id": "d631f0c7-aef6-4337-9b98-3dab7836eb85",
   "metadata": {},
   "source": [
    "# mutability "
   ]
  },
  {
   "cell_type": "code",
   "execution_count": 7,
   "id": "11beba9c-255c-47fe-81c8-8e9a73ba996c",
   "metadata": {},
   "outputs": [
    {
     "data": {
      "text/plain": [
       "True"
      ]
     },
     "execution_count": 7,
     "metadata": {},
     "output_type": "execute_result"
    }
   ],
   "source": [
    "lst1=['alex','alex2','alex3','alex4']\n",
    "lst2=lst1\n",
    "lst1 is lst2"
   ]
  },
  {
   "cell_type": "code",
   "execution_count": 8,
   "id": "6a19bed7-0133-4493-bc68-ed2eddeaca45",
   "metadata": {},
   "outputs": [
    {
     "data": {
      "text/plain": [
       "True"
      ]
     },
     "execution_count": 8,
     "metadata": {},
     "output_type": "execute_result"
    }
   ],
   "source": [
    "lst2 is lst1"
   ]
  },
  {
   "cell_type": "code",
   "execution_count": 9,
   "id": "f9074393-5fad-4a0e-b535-de059e2e2246",
   "metadata": {},
   "outputs": [],
   "source": [
    "lst2[0]='krish'"
   ]
  },
  {
   "cell_type": "code",
   "execution_count": 11,
   "id": "a26c9752-1f58-44fa-ae88-3e48ba9bd809",
   "metadata": {},
   "outputs": [
    {
     "data": {
      "text/plain": [
       "['krish', 'alex2', 'alex3', 'alex4']"
      ]
     },
     "execution_count": 11,
     "metadata": {},
     "output_type": "execute_result"
    }
   ],
   "source": [
    "lst2"
   ]
  },
  {
   "cell_type": "code",
   "execution_count": null,
   "id": "eee65644-1d2a-45f4-ae8d-6ed756515341",
   "metadata": {},
   "outputs": [],
   "source": [
    "''' \n",
    "    but what about lst1 , whether the lst1 is also get updated then we can definitely\n",
    "    see here lst1 is also updated with respected to the element so wherever mutabblity \n",
    "    is possible see in this particular something is stored in the one memory location\n",
    "    and two variable are referrng that if one variable try to change that particaular value \n",
    "    it will also get reflect to the other things \n",
    "\n",
    "\n",
    "\n",
    "    in order to prevent it what we have to do is whenever we are assiginging like this \n",
    "    lst2=lst we will do lst2=lst.copy() , why ? \n",
    "\n",
    "    the copy() function to make it as a deep copy , deep copy means it will create\n",
    "    a different memory allocation even for lst2\n",
    "    \n",
    "'''\n",
    "    \n"
   ]
  }
 ],
 "metadata": {
  "kernelspec": {
   "display_name": "Python 3 (ipykernel)",
   "language": "python",
   "name": "python3"
  },
  "language_info": {
   "codemirror_mode": {
    "name": "ipython",
    "version": 3
   },
   "file_extension": ".py",
   "mimetype": "text/x-python",
   "name": "python",
   "nbconvert_exporter": "python",
   "pygments_lexer": "ipython3",
   "version": "3.13.5"
  }
 },
 "nbformat": 4,
 "nbformat_minor": 5
}
