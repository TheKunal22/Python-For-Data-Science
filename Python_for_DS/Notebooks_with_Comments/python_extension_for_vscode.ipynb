{
 "cells": [
  {
   "cell_type": "markdown",
   "id": "00be9eaa-ea60-4db9-8c32-ec955a762c20",
   "metadata": {},
   "source": [
    "In this lecture sir told about some of the python extensions in vscode . \n",
    "\n",
    "1. python\n",
    "2. kite\n",
    "3. python preview (this extension is deprecated and is no longer being maintained.)\n",
    "4. AREPL ( This extension is very useful we can actually see the live execution of the code  without executing it manually and debugging , etc . )\n",
    "5. python extension pack\n",
    "6. python doc ( automatically generates detailed docstrings for python functions.)\n",
    "7. github copilot\n",
    "8. python indent (correct python indent )"
   ]
  },
  {
   "cell_type": "code",
   "execution_count": null,
   "id": "f25fe666-4010-44ad-a147-1932952c0b35",
   "metadata": {},
   "outputs": [],
   "source": []
  }
 ],
 "metadata": {
  "kernelspec": {
   "display_name": "Python 3 (ipykernel)",
   "language": "python",
   "name": "python3"
  },
  "language_info": {
   "codemirror_mode": {
    "name": "ipython",
    "version": 3
   },
   "file_extension": ".py",
   "mimetype": "text/x-python",
   "name": "python",
   "nbconvert_exporter": "python",
   "pygments_lexer": "ipython3",
   "version": "3.13.5"
  }
 },
 "nbformat": 4,
 "nbformat_minor": 5
}
