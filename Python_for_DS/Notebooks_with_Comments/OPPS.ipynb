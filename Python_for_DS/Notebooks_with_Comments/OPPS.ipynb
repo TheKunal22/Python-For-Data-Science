{
 "cells": [
  {
   "cell_type": "markdown",
   "id": "5011a2b1-30ce-4631-8ea4-660eca19d61e",
   "metadata": {},
   "source": [
    "## **OOPS IN PYTHON**"
   ]
  },
  {
   "cell_type": "code",
   "execution_count": 1,
   "id": "d0e7f264-f636-4b4f-ab76-a2bf5ee47e88",
   "metadata": {},
   "outputs": [],
   "source": [
    "class Car():\n",
    "    pass"
   ]
  },
  {
   "cell_type": "code",
   "execution_count": 2,
   "id": "1a8ac9f8-80b1-447d-ace9-8f2227f70ba7",
   "metadata": {},
   "outputs": [],
   "source": [
    "car1=Car()"
   ]
  },
  {
   "cell_type": "code",
   "execution_count": 3,
   "id": "f6cc388e-a226-429d-b9a4-c043d5304cf2",
   "metadata": {},
   "outputs": [
    {
     "data": {
      "text/plain": [
       "<__main__.Car at 0x203ecdd1fd0>"
      ]
     },
     "execution_count": 3,
     "metadata": {},
     "output_type": "execute_result"
    }
   ],
   "source": [
    "car1 # we are getting where this object is allocated in the memory \n"
   ]
  },
  {
   "cell_type": "code",
   "execution_count": 4,
   "id": "206e26e2-07da-4b29-8b47-b4529efcb28d",
   "metadata": {},
   "outputs": [],
   "source": [
    "car1.windows=5\n",
    "car1.doors=4"
   ]
  },
  {
   "cell_type": "code",
   "execution_count": 6,
   "id": "b8868417-3fdb-4dd7-a971-b769f9590348",
   "metadata": {},
   "outputs": [
    {
     "name": "stdout",
     "output_type": "stream",
     "text": [
      "5\n"
     ]
    }
   ],
   "source": [
    "print(car1.windows)"
   ]
  },
  {
   "cell_type": "code",
   "execution_count": 8,
   "id": "78d9bd9c-826f-46a0-8f5e-5b4b3a657ad4",
   "metadata": {},
   "outputs": [],
   "source": [
    "car2=Car() # remeber this car2 is different from car1 , both are different object with different property "
   ]
  },
  {
   "cell_type": "code",
   "execution_count": 9,
   "id": "62bcb371-74f3-44bb-a8e3-13026c17906f",
   "metadata": {},
   "outputs": [],
   "source": [
    "car2.windows=3\n",
    "car2.doors=2"
   ]
  },
  {
   "cell_type": "code",
   "execution_count": 11,
   "id": "c6628b72-4ea2-40f1-8c07-2918389090f1",
   "metadata": {},
   "outputs": [
    {
     "name": "stdout",
     "output_type": "stream",
     "text": [
      "3\n"
     ]
    }
   ],
   "source": [
    "print(car2.windows)"
   ]
  },
  {
   "cell_type": "code",
   "execution_count": 12,
   "id": "4e5cfaaf-8861-4c09-bf42-4431dc3c3de3",
   "metadata": {},
   "outputs": [],
   "source": [
    "car2.engine='petrol engine'"
   ]
  },
  {
   "cell_type": "code",
   "execution_count": 13,
   "id": "2fbef6fa-7483-4de1-92b6-6c24847d99c5",
   "metadata": {},
   "outputs": [
    {
     "name": "stdout",
     "output_type": "stream",
     "text": [
      "petrol engine\n"
     ]
    }
   ],
   "source": [
    "print(car2.engine)"
   ]
  },
  {
   "cell_type": "code",
   "execution_count": 14,
   "id": "f361bc7c-87ae-4da7-b00e-7f2d044e2d74",
   "metadata": {},
   "outputs": [],
   "source": [
    "# if we dont fix the attribute then any number attribute can be created by the developer . \n",
    "# attributes are just like properties of an object , for eg = doors , windows , wheels , seats etc"
   ]
  },
  {
   "cell_type": "code",
   "execution_count": 17,
   "id": "cc8a1edf-37e7-415c-bcee-bbcd4fbe67c8",
   "metadata": {},
   "outputs": [
    {
     "data": {
      "text/plain": [
       "['__class__',\n",
       " '__delattr__',\n",
       " '__dict__',\n",
       " '__dir__',\n",
       " '__doc__',\n",
       " '__eq__',\n",
       " '__firstlineno__',\n",
       " '__format__',\n",
       " '__ge__',\n",
       " '__getattribute__',\n",
       " '__getstate__',\n",
       " '__gt__',\n",
       " '__hash__',\n",
       " '__init__',\n",
       " '__init_subclass__',\n",
       " '__le__',\n",
       " '__lt__',\n",
       " '__module__',\n",
       " '__ne__',\n",
       " '__new__',\n",
       " '__reduce__',\n",
       " '__reduce_ex__',\n",
       " '__repr__',\n",
       " '__setattr__',\n",
       " '__sizeof__',\n",
       " '__static_attributes__',\n",
       " '__str__',\n",
       " '__subclasshook__',\n",
       " '__weakref__',\n",
       " 'doors',\n",
       " 'windows']"
      ]
     },
     "execution_count": 17,
     "metadata": {},
     "output_type": "execute_result"
    }
   ],
   "source": [
    "dir(car1) # here you can see the function __init__ , it acts like a constructor , constructor is used to initalize how many number  properties used in the inital class . "
   ]
  },
  {
   "cell_type": "code",
   "execution_count": 35,
   "id": "a42f37b4-b5be-4da2-beef-cf344ea34b8e",
   "metadata": {},
   "outputs": [],
   "source": [
    "class Car():\n",
    "    def __init__(self,window,door,enginetype):\n",
    "        self.windows=door\n",
    "        self.doors=window\n",
    "        self.enginetype=enginetype\n",
    "\n",
    "    def self_driving(self):\n",
    "        return 'this is a {} engine'.format(self.enginetype)\n",
    "        \n",
    "        # here we are giving self so that we can access the attributes here which we initialized .  "
   ]
  },
  {
   "cell_type": "code",
   "execution_count": 20,
   "id": "9770a656-e76f-43ca-ac57-0036ef4a3773",
   "metadata": {},
   "outputs": [
    {
     "ename": "TypeError",
     "evalue": "Car.__init__() missing 3 required positional arguments: 'window', 'door', and 'enginetype'",
     "output_type": "error",
     "traceback": [
      "\u001b[1;31m---------------------------------------------------------------------------\u001b[0m",
      "\u001b[1;31mTypeError\u001b[0m                                 Traceback (most recent call last)",
      "Cell \u001b[1;32mIn[20], line 1\u001b[0m\n\u001b[1;32m----> 1\u001b[0m car1\u001b[38;5;241m=\u001b[39mCar()\n",
      "\u001b[1;31mTypeError\u001b[0m: Car.__init__() missing 3 required positional arguments: 'window', 'door', and 'enginetype'"
     ]
    }
   ],
   "source": [
    "car1=Car() # we have to provide postiional arugments "
   ]
  },
  {
   "cell_type": "code",
   "execution_count": 36,
   "id": "0af4ae05-b38e-4cb1-86df-b2526a024fd4",
   "metadata": {},
   "outputs": [],
   "source": [
    "car1=Car(3,4,'petrol')"
   ]
  },
  {
   "cell_type": "code",
   "execution_count": 37,
   "id": "4650f359-7953-40e4-81d2-c606b74b5eb9",
   "metadata": {},
   "outputs": [],
   "source": [
    "car2=Car(5,3,'disel')"
   ]
  },
  {
   "cell_type": "code",
   "execution_count": 38,
   "id": "0650d599-c53a-4f81-8a86-eb04ad0a231b",
   "metadata": {},
   "outputs": [
    {
     "name": "stdout",
     "output_type": "stream",
     "text": [
      "4\n"
     ]
    }
   ],
   "source": [
    "print(car1.windows)"
   ]
  },
  {
   "cell_type": "code",
   "execution_count": 39,
   "id": "f39ba08f-0e0e-4b94-b2c6-9508c19e8895",
   "metadata": {},
   "outputs": [
    {
     "name": "stdout",
     "output_type": "stream",
     "text": [
      "5\n"
     ]
    }
   ],
   "source": [
    "print(car2.doors)"
   ]
  },
  {
   "cell_type": "code",
   "execution_count": 40,
   "id": "a707444b-acc7-485d-a8a8-b61127a44cb1",
   "metadata": {},
   "outputs": [
    {
     "name": "stdout",
     "output_type": "stream",
     "text": [
      "disel\n"
     ]
    }
   ],
   "source": [
    "print(car2.enginetype)"
   ]
  },
  {
   "cell_type": "code",
   "execution_count": 41,
   "id": "660d0db9-1302-4596-a4da-f6a0d16abb21",
   "metadata": {},
   "outputs": [
    {
     "data": {
      "text/plain": [
       "'this is a petrol engine'"
      ]
     },
     "execution_count": 41,
     "metadata": {},
     "output_type": "execute_result"
    }
   ],
   "source": [
    "car1.self_driving()"
   ]
  },
  {
   "cell_type": "code",
   "execution_count": null,
   "id": "55102623-4920-4242-aec0-0b6aaabb495b",
   "metadata": {},
   "outputs": [],
   "source": []
  },
  {
   "cell_type": "code",
   "execution_count": null,
   "id": "641b2d9f-5c5a-4534-a740-7a1b8f68c3e3",
   "metadata": {},
   "outputs": [],
   "source": []
  }
 ],
 "metadata": {
  "kernelspec": {
   "display_name": "Python 3 (ipykernel)",
   "language": "python",
   "name": "python3"
  },
  "language_info": {
   "codemirror_mode": {
    "name": "ipython",
    "version": 3
   },
   "file_extension": ".py",
   "mimetype": "text/x-python",
   "name": "python",
   "nbconvert_exporter": "python",
   "pygments_lexer": "ipython3",
   "version": "3.13.5"
  }
 },
 "nbformat": 4,
 "nbformat_minor": 5
}
