{
 "cells": [
  {
   "cell_type": "markdown",
   "id": "cfc0be95-14fe-4ceb-88c2-05ad35ee273d",
   "metadata": {},
   "source": [
    "# Python OOPS - Inheritance "
   ]
  },
  {
   "cell_type": "markdown",
   "id": "a4eef500-2a7c-4d5d-ac88-42df02dbbd28",
   "metadata": {},
   "source": [
    "🧬 What is Inheritance in Python?\n",
    "Inheritance means one class (child) can reuse the code from another class (parent).\n",
    "\n",
    "It’s like saying:\n",
    "\n",
    "“I’m making a new thing based on an old thing, and I want to keep all its features — but I’ll also add my own.”\n",
    "\n",
    "🎯 Why Use Inheritance?\n",
    "To reuse code\n",
    "\n",
    "To make your programs more organized\n",
    "\n",
    "To extend functionality without rewriting\n",
    "\n",
    "🔑 In Simple Words:\n",
    "Inheritance lets one class borrow features (methods/variables) from another class."
   ]
  },
  {
   "cell_type": "markdown",
   "id": "6b9a2804-d41b-4b77-b384-237b3220fd86",
   "metadata": {},
   "source": [
    "first understand the function super()\n",
    "\n",
    "\n",
    "🧠 super() and Constructor – Simple Summary\n",
    "In Python, __init__() is called a constructor — it runs automatically when you create an object.\n",
    "\n",
    "When one class inherits from another, the child class can use super().__init__() to call the parent class’s constructor.\n",
    "\n",
    "This helps the child class reuse the parent’s code instead of writing it all over again.\n",
    "\n",
    "✅ Why we use super().__init__():\n",
    "To reuse the parent class’s setup (like common variables)\n",
    "\n",
    "To avoid repeating the same code\n",
    "\n",
    "To keep our code clean and easy to update\n",
    "\n",
    "🔧 Example:\n",
    "python\n",
    "Copy\n",
    "Edit\n",
    "class Car:\n",
    "    def __init__(self, windows, doors, enginetype):\n",
    "        self.windows = windows\n",
    "        self.doors = doors\n",
    "        self.enginetype = enginetype\n",
    "\n",
    "class BMW(Car):\n",
    "    def __init__(self, windows, doors, enginetype, model):\n",
    "        super().__init__(windows, doors, enginetype)  # Runs Car's __init__\n",
    "        self.model = model  # Extra thing for BMW\n",
    "\n",
    "\n",
    "🔁 Without super():\n",
    "You'd have to copy all parent code again — which is not good practice.\n",
    "\n",
    "🟢 Final Shortcut to Remember:\n",
    "super() = \"Do whatever the parent was doing first, then add my own stuff.\""
   ]
  },
  {
   "cell_type": "code",
   "execution_count": 36,
   "id": "035e6975-7719-4a2c-872c-a02d04a19840",
   "metadata": {},
   "outputs": [],
   "source": [
    "### all the class variables are public\n",
    "### Blueprint of the car  \n",
    "\n",
    "class Car():\n",
    "    \n",
    "    # here inside def init we are creating object attributes .\n",
    "    \n",
    "    '''\n",
    "    🔍 Are these public?\n",
    "    Yes — all of them (self.windows, self.doors, etc.) are public by default in Python.\n",
    "    \n",
    "    ⚠️ In Python, there is no true access modifier (like public, private, protected\n",
    "    in other languages), but there are naming conventions.\n",
    "\n",
    "    '''\n",
    "\n",
    "    '''\n",
    "\n",
    "    for protected we use _ and for proctected we use ___ double underscore . \n",
    "\n",
    "    '''\n",
    "       \n",
    "    def __init__(self,windows,doors,enginetype):\n",
    "        self.windows=windows\n",
    "        self.doors=doors\n",
    "        self.enginetype=enginetype\n",
    "\n",
    "\n",
    "    # why are writing self inside the drive , because this method is belong to the class car so whenever we define the object of the particular class once we class the by deafult it is going to treat that this object is particular get called .   \n",
    "    def drive(self): \n",
    "        print('the persoon drive the car')\n",
    "        "
   ]
  },
  {
   "cell_type": "code",
   "execution_count": 37,
   "id": "269a19d4-b725-4407-b48e-789e533982c9",
   "metadata": {},
   "outputs": [],
   "source": [
    "car=Car(4,5,'disel')"
   ]
  },
  {
   "cell_type": "code",
   "execution_count": 34,
   "id": "058c7edd-d87e-47c6-83f2-ae64594e9a73",
   "metadata": {},
   "outputs": [
    {
     "data": {
      "text/plain": [
       "['__class__',\n",
       " '__delattr__',\n",
       " '__dict__',\n",
       " '__dir__',\n",
       " '__doc__',\n",
       " '__eq__',\n",
       " '__firstlineno__',\n",
       " '__format__',\n",
       " '__ge__',\n",
       " '__getattribute__',\n",
       " '__getstate__',\n",
       " '__gt__',\n",
       " '__hash__',\n",
       " '__init__',\n",
       " '__init_subclass__',\n",
       " '__le__',\n",
       " '__lt__',\n",
       " '__module__',\n",
       " '__ne__',\n",
       " '__new__',\n",
       " '__reduce__',\n",
       " '__reduce_ex__',\n",
       " '__repr__',\n",
       " '__setattr__',\n",
       " '__sizeof__',\n",
       " '__static_attributes__',\n",
       " '__str__',\n",
       " '__subclasshook__',\n",
       " '__weakref__',\n",
       " 'doors',\n",
       " 'drive',\n",
       " 'enginetype',\n",
       " 'windows']"
      ]
     },
     "execution_count": 34,
     "metadata": {},
     "output_type": "execute_result"
    }
   ],
   "source": [
    "dir(car)"
   ]
  },
  {
   "cell_type": "code",
   "execution_count": 21,
   "id": "bc3aaa47-d345-4572-a56f-cf1497613823",
   "metadata": {},
   "outputs": [
    {
     "data": {
      "text/plain": [
       "4"
      ]
     },
     "execution_count": 21,
     "metadata": {},
     "output_type": "execute_result"
    }
   ],
   "source": [
    "car.windows"
   ]
  },
  {
   "cell_type": "code",
   "execution_count": 22,
   "id": "016e4e15-5288-461a-8944-7f914bfba3f4",
   "metadata": {},
   "outputs": [
    {
     "data": {
      "text/plain": [
       "'disel'"
      ]
     },
     "execution_count": 22,
     "metadata": {},
     "output_type": "execute_result"
    }
   ],
   "source": [
    "car.enginetype"
   ]
  },
  {
   "cell_type": "code",
   "execution_count": 23,
   "id": "61b93cef-7ddd-4218-9c5a-8573bb693db1",
   "metadata": {},
   "outputs": [
    {
     "name": "stdout",
     "output_type": "stream",
     "text": [
      "the persoon drive the car\n"
     ]
    }
   ],
   "source": [
    "car.drive()"
   ]
  },
  {
   "cell_type": "code",
   "execution_count": 25,
   "id": "77d7a6ef-fd29-435e-a73b-28149e6c8314",
   "metadata": {},
   "outputs": [],
   "source": [
    "class audi(Car):\n",
    "    def __init__(self,windows,doors,enginetype,enableai):\n",
    "        super().__init__(windows,doors,enginetype)\n",
    "        self.enableai=enableai\n",
    "\n",
    "    def selfdriving(self):\n",
    "        print('audi supports self driving')\n",
    "    "
   ]
  },
  {
   "cell_type": "code",
   "execution_count": 26,
   "id": "6397c448-41ed-41cc-8146-8d037b912804",
   "metadata": {},
   "outputs": [],
   "source": [
    "audiQ7 = audi(5,4,'electric',True)"
   ]
  },
  {
   "cell_type": "code",
   "execution_count": 28,
   "id": "c31af1f7-ab99-45c8-b886-b2e7d67bb76e",
   "metadata": {},
   "outputs": [
    {
     "data": {
      "text/plain": [
       "['__class__',\n",
       " '__delattr__',\n",
       " '__dict__',\n",
       " '__dir__',\n",
       " '__doc__',\n",
       " '__eq__',\n",
       " '__firstlineno__',\n",
       " '__format__',\n",
       " '__ge__',\n",
       " '__getattribute__',\n",
       " '__getstate__',\n",
       " '__gt__',\n",
       " '__hash__',\n",
       " '__init__',\n",
       " '__init_subclass__',\n",
       " '__le__',\n",
       " '__lt__',\n",
       " '__module__',\n",
       " '__ne__',\n",
       " '__new__',\n",
       " '__reduce__',\n",
       " '__reduce_ex__',\n",
       " '__repr__',\n",
       " '__setattr__',\n",
       " '__sizeof__',\n",
       " '__static_attributes__',\n",
       " '__str__',\n",
       " '__subclasshook__',\n",
       " '__weakref__',\n",
       " 'doors',\n",
       " 'drive',\n",
       " 'enableai',\n",
       " 'enginetype',\n",
       " 'selfdriving',\n",
       " 'windows']"
      ]
     },
     "execution_count": 28,
     "metadata": {},
     "output_type": "execute_result"
    }
   ],
   "source": [
    "dir(audiQ7)"
   ]
  },
  {
   "cell_type": "markdown",
   "id": "c2a1e53c-d8be-41f5-9eeb-e39f3f382da6",
   "metadata": {},
   "source": [
    "here in the above cell we arae able to see all parametres doors , drive , enableai , enginine tpe self dribing , windoes  , all the parametres of parent class are mention there and we can access them . "
   ]
  },
  {
   "cell_type": "code",
   "execution_count": 29,
   "id": "ff4a07fa-26cd-4b74-9b2c-d5ed5409b9a8",
   "metadata": {},
   "outputs": [
    {
     "data": {
      "text/plain": [
       "bool"
      ]
     },
     "execution_count": 29,
     "metadata": {},
     "output_type": "execute_result"
    }
   ],
   "source": [
    "type(audiQ7.enableai)"
   ]
  },
  {
   "cell_type": "code",
   "execution_count": 30,
   "id": "b57395ca-e3d8-48be-b0e9-14bc89a43d29",
   "metadata": {},
   "outputs": [
    {
     "name": "stdout",
     "output_type": "stream",
     "text": [
      "the persoon drive the car\n"
     ]
    }
   ],
   "source": [
    "audiQ7.drive()"
   ]
  },
  {
   "cell_type": "code",
   "execution_count": 32,
   "id": "010f586f-4047-4343-9632-c4e29b6beae6",
   "metadata": {},
   "outputs": [
    {
     "name": "stdout",
     "output_type": "stream",
     "text": [
      "audi supports self driving\n"
     ]
    }
   ],
   "source": [
    "audiQ7.selfdriving()"
   ]
  },
  {
   "cell_type": "code",
   "execution_count": null,
   "id": "8df02a27-899b-4772-b64a-b7976b9c284c",
   "metadata": {},
   "outputs": [],
   "source": []
  },
  {
   "cell_type": "code",
   "execution_count": null,
   "id": "44ef8572-22b4-4892-a3a1-4358eb89187b",
   "metadata": {},
   "outputs": [],
   "source": []
  },
  {
   "cell_type": "code",
   "execution_count": null,
   "id": "f354cf39-cfd8-43be-b0b1-3628dfa170b8",
   "metadata": {},
   "outputs": [],
   "source": []
  },
  {
   "cell_type": "code",
   "execution_count": null,
   "id": "d15393f5-7c73-49c4-aa80-5aa2d119f70b",
   "metadata": {},
   "outputs": [],
   "source": []
  },
  {
   "cell_type": "code",
   "execution_count": null,
   "id": "93c7ff17-489a-4be5-9b8d-7e0185baac87",
   "metadata": {},
   "outputs": [],
   "source": []
  },
  {
   "cell_type": "code",
   "execution_count": null,
   "id": "c3538002-fe2a-4009-b806-f11222cef6e0",
   "metadata": {},
   "outputs": [],
   "source": []
  },
  {
   "cell_type": "code",
   "execution_count": null,
   "id": "fc33c031-902a-44e4-8611-a282a78d15b4",
   "metadata": {},
   "outputs": [],
   "source": []
  },
  {
   "cell_type": "code",
   "execution_count": null,
   "id": "cc86d0b2-39eb-410b-b1a9-10cab2d58661",
   "metadata": {},
   "outputs": [],
   "source": []
  },
  {
   "cell_type": "code",
   "execution_count": null,
   "id": "d4b7fa5b-8d81-4800-8013-60d25f592cd6",
   "metadata": {},
   "outputs": [],
   "source": []
  },
  {
   "cell_type": "code",
   "execution_count": null,
   "id": "0a664dd9-de1d-45d0-9e2a-12d0ee92bfb9",
   "metadata": {},
   "outputs": [],
   "source": []
  }
 ],
 "metadata": {
  "kernelspec": {
   "display_name": "Python 3 (ipykernel)",
   "language": "python",
   "name": "python3"
  },
  "language_info": {
   "codemirror_mode": {
    "name": "ipython",
    "version": 3
   },
   "file_extension": ".py",
   "mimetype": "text/x-python",
   "name": "python",
   "nbconvert_exporter": "python",
   "pygments_lexer": "ipython3",
   "version": "3.13.5"
  }
 },
 "nbformat": 4,
 "nbformat_minor": 5
}
