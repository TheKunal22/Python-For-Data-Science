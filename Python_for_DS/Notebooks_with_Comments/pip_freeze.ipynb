{
 "cells": [
  {
   "cell_type": "markdown",
   "id": "40277762-b427-4821-aff4-f52e1e939013",
   "metadata": {},
   "source": [
    "### **This file defines the dependencies necessary for the project to function correctly.**"
   ]
  },
  {
   "cell_type": "markdown",
   "id": "8d108c98-087b-4fba-9345-e9c1341eb733",
   "metadata": {},
   "source": [
    "USE THE COMMAND , this will create a file with all installed packages in your enviorment if you are using it . \n",
    "\n",
    "pip freeze >requirements.txt"
   ]
  }
 ],
 "metadata": {
  "kernelspec": {
   "display_name": "Python 3 (ipykernel)",
   "language": "python",
   "name": "python3"
  },
  "language_info": {
   "codemirror_mode": {
    "name": "ipython",
    "version": 3
   },
   "file_extension": ".py",
   "mimetype": "text/x-python",
   "name": "python",
   "nbconvert_exporter": "python",
   "pygments_lexer": "ipython3",
   "version": "3.13.5"
  }
 },
 "nbformat": 4,
 "nbformat_minor": 5
}
