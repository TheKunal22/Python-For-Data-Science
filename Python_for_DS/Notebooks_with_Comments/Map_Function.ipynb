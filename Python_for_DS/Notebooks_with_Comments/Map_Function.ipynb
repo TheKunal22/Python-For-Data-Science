{
 "cells": [
  {
   "cell_type": "markdown",
   "id": "8a7af70b-69f7-42e0-8894-3c46778167cc",
   "metadata": {},
   "source": [
    "# Map Function in python "
   ]
  },
  {
   "cell_type": "code",
   "execution_count": 1,
   "id": "34e305ca-8084-4c04-b430-01f6455a0246",
   "metadata": {},
   "outputs": [],
   "source": [
    "def even_or_odd(num):\n",
    "    if num%2==0:\n",
    "        return \"The Number {} is Even\".format(num)\n",
    "    else:\n",
    "        return \"The Number {} is Odd\".format(num)"
   ]
  },
  {
   "cell_type": "code",
   "execution_count": 2,
   "id": "27d316c3-a200-41a7-be03-33074336c3a1",
   "metadata": {},
   "outputs": [
    {
     "data": {
      "text/plain": [
       "'The Number 24 is Even'"
      ]
     },
     "execution_count": 2,
     "metadata": {},
     "output_type": "execute_result"
    }
   ],
   "source": [
    "even_or_odd(24)"
   ]
  },
  {
   "cell_type": "code",
   "execution_count": 3,
   "id": "9ac3795b-0ac3-4ced-a32c-911e93b57302",
   "metadata": {},
   "outputs": [],
   "source": [
    "lst=[3,5,1,7,4,8,9,23,54,88,76]"
   ]
  },
  {
   "cell_type": "code",
   "execution_count": 5,
   "id": "f114553e-5c41-464b-bd6e-05951dd99264",
   "metadata": {},
   "outputs": [
    {
     "data": {
      "text/plain": [
       "'\\nwhatever we are trying to do is we are trying to apply this particaluar function for each an every\\nnumber . \\n\\nit is just a shortcut of for loop , because for loop takes longer time than this map function \\nit is more stronger than for loop . \\n\\nmap() is like telling Python:\\nBhai, har element pe yeh function chala do.\\n\\n'"
      ]
     },
     "execution_count": 5,
     "metadata": {},
     "output_type": "execute_result"
    }
   ],
   "source": [
    "list(map(even_or_odd,lst)) # for intanziate the memory we use list .\n",
    "\n",
    "'''\n",
    "whatever we are trying to do is we are trying to apply this particaluar function for each an every\n",
    "number . \n",
    "\n",
    "it is just a shortcut of for loop , because for loop takes longer time than this map function \n",
    "it is more stronger than for loop . \n",
    "\n",
    "map() is like telling Python:\n",
    "Bhai, har element pe yeh function chala do.\n",
    "\n",
    "'''"
   ]
  }
 ],
 "metadata": {
  "kernelspec": {
   "display_name": "Python 3 (ipykernel)",
   "language": "python",
   "name": "python3"
  },
  "language_info": {
   "codemirror_mode": {
    "name": "ipython",
    "version": 3
   },
   "file_extension": ".py",
   "mimetype": "text/x-python",
   "name": "python",
   "nbconvert_exporter": "python",
   "pygments_lexer": "ipython3",
   "version": "3.13.5"
  }
 },
 "nbformat": 4,
 "nbformat_minor": 5
}
