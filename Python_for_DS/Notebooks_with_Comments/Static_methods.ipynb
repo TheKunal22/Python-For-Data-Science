{
 "cells": [
  {
   "cell_type": "markdown",
   "id": "f787dc68-666a-4027-9d24-2d95faba58f2",
   "metadata": {},
   "source": [
    "# **STATIC METHODS**"
   ]
  },
  {
   "cell_type": "code",
   "execution_count": 1,
   "id": "1d5b1e18-bdc6-45c7-be71-91995f85808f",
   "metadata": {},
   "outputs": [],
   "source": [
    "import datetime\n",
    "now=datetime.datetime.now()"
   ]
  },
  {
   "cell_type": "code",
   "execution_count": 2,
   "id": "68bd198d-7c0e-48b1-b8b6-8b46aa5e955c",
   "metadata": {},
   "outputs": [
    {
     "data": {
      "text/plain": [
       "datetime.datetime(2025, 8, 13, 20, 13, 1, 817759)"
      ]
     },
     "execution_count": 2,
     "metadata": {},
     "output_type": "execute_result"
    }
   ],
   "source": [
    "now"
   ]
  },
  {
   "cell_type": "code",
   "execution_count": 3,
   "id": "0b7194c4-9a61-479e-8195-1934fe4c84ec",
   "metadata": {},
   "outputs": [
    {
     "data": {
      "text/plain": [
       "2025"
      ]
     },
     "execution_count": 3,
     "metadata": {},
     "output_type": "execute_result"
    }
   ],
   "source": [
    "now.year"
   ]
  },
  {
   "cell_type": "code",
   "execution_count": 4,
   "id": "bdf6cd9e-52d8-441f-9886-650039aef806",
   "metadata": {},
   "outputs": [
    {
     "data": {
      "text/plain": [
       "8"
      ]
     },
     "execution_count": 4,
     "metadata": {},
     "output_type": "execute_result"
    }
   ],
   "source": [
    "now.month"
   ]
  },
  {
   "cell_type": "code",
   "execution_count": 5,
   "id": "51a86470-f861-4422-a776-66c51a53cbb2",
   "metadata": {},
   "outputs": [
    {
     "data": {
      "text/plain": [
       "13"
      ]
     },
     "execution_count": 5,
     "metadata": {},
     "output_type": "execute_result"
    }
   ],
   "source": [
    "now.day"
   ]
  },
  {
   "cell_type": "code",
   "execution_count": 14,
   "id": "9058c029-e23e-4002-928d-75e877fc05e6",
   "metadata": {},
   "outputs": [],
   "source": [
    "\n",
    "\n",
    "''' why do we not use self in static method ? \n",
    "\n",
    "        🔹 Static Method & self — Quick Facts\n",
    "    self means \"the current object\" — used in instance methods to access object data.\n",
    "    \n",
    "    Static methods are not tied to any object — they don’t get self automatically.\n",
    "    \n",
    "    A static method is just a function inside a class for organization.\n",
    "    \n",
    "    Since it doesn’t know which object called it, there is no self to refer to.\n",
    "    \n",
    "    Even if you add self to a static method’s parameters, Python won’t fill it — you must pass it manually (which defeats the purpose).\n",
    "    \n",
    "    Use static methods for tasks that don’t depend on object or class data.\n",
    "    \n",
    "    💡 Shortcut memory trick:\n",
    "    \n",
    "    If your method doesn’t touch self.something or cls.something, make it @staticmethod and forget about self.\n",
    "'''\n",
    "\n",
    "''' as sooon as the classs loaded , the first method which is initialized that is bascially is \n",
    "        the static method\n",
    "\n",
    "    \n",
    "'''\n",
    "\n",
    "''' \n",
    "    also we cant create multiple copies of static method \n",
    "\n",
    "    why ?\n",
    "\n",
    "    3️⃣ Why no multiple copies?\n",
    "    Because there’s nothing to “bind” — no self, no cls.\n",
    "    Static methods are independent of objects and classes. They’re just namespaced functions, so Python doesn’t create per-object bound versions.\n",
    "\n",
    "    💡 Memory trick:\n",
    "\n",
    "    Instance method → \"per object binding\"\n",
    "    Static method → \"one function for all\"\n",
    "    \n",
    "'''\n",
    "    \n",
    "\n",
    "class Car:\n",
    "    base_price=100000 # class variable \n",
    "    def __init__(self,windows,doors,power):\n",
    "        self.windows=windows\n",
    "        self.doors=doors\n",
    "        self.power=power\n",
    "    def what_base_price(self):\n",
    "        print('the base price is {}'.format(self.base_price))\n",
    "    @classmethod\n",
    "    def revise_base_price(cls,inflation):\n",
    "        cls.base_price=base_price+base_price*inflation\n",
    "    @staticmethod\n",
    "    def check_year():\n",
    "        if now.year==2025:\n",
    "            return True\n",
    "        else:\n",
    "            return False"
   ]
  },
  {
   "cell_type": "code",
   "execution_count": 15,
   "id": "eda855b1-2a81-4ebf-b8d3-910060aedd6a",
   "metadata": {},
   "outputs": [
    {
     "data": {
      "text/plain": [
       "True"
      ]
     },
     "execution_count": 15,
     "metadata": {},
     "output_type": "execute_result"
    }
   ],
   "source": [
    "Car.check_year()"
   ]
  },
  {
   "cell_type": "code",
   "execution_count": 16,
   "id": "425073d2-afbb-4a84-ba2d-182bb7d09d35",
   "metadata": {},
   "outputs": [],
   "source": [
    "car1=Car(4,5,3000)"
   ]
  },
  {
   "cell_type": "code",
   "execution_count": 17,
   "id": "1cd3e0cd-cc06-4387-a1ff-cfe04182745f",
   "metadata": {},
   "outputs": [],
   "source": [
    "if(car1.check_year):\n",
    "    pass\n",
    "else:\n",
    "    Car.revise_base_price()"
   ]
  },
  {
   "cell_type": "code",
   "execution_count": 18,
   "id": "4c035bcc-3f85-4d2f-8eb0-9edb4675da32",
   "metadata": {},
   "outputs": [
    {
     "data": {
      "text/plain": [
       "100000"
      ]
     },
     "execution_count": 18,
     "metadata": {},
     "output_type": "execute_result"
    }
   ],
   "source": [
    "car1.base_price"
   ]
  },
  {
   "cell_type": "code",
   "execution_count": null,
   "id": "e13d1e82-705a-4e1d-939f-fd434dfa63d0",
   "metadata": {},
   "outputs": [],
   "source": []
  },
  {
   "cell_type": "code",
   "execution_count": null,
   "id": "118f5723-1b72-4bbf-82a0-710bee3d90b5",
   "metadata": {},
   "outputs": [],
   "source": []
  },
  {
   "cell_type": "code",
   "execution_count": null,
   "id": "244fb5f0-6a53-4960-a0e5-38b72e6ea855",
   "metadata": {},
   "outputs": [],
   "source": []
  },
  {
   "cell_type": "code",
   "execution_count": null,
   "id": "3e7da0ed-bd9a-4012-9c34-bf81eb03d2a4",
   "metadata": {},
   "outputs": [],
   "source": []
  },
  {
   "cell_type": "code",
   "execution_count": null,
   "id": "addaaf5c-fbbe-4315-9de7-46419f3afbde",
   "metadata": {},
   "outputs": [],
   "source": []
  },
  {
   "cell_type": "code",
   "execution_count": null,
   "id": "c1d48505-7300-4f39-823b-71b00070b265",
   "metadata": {},
   "outputs": [],
   "source": []
  },
  {
   "cell_type": "code",
   "execution_count": null,
   "id": "83e36dbc-f81c-4c8f-9ecb-e53293549aef",
   "metadata": {},
   "outputs": [],
   "source": []
  },
  {
   "cell_type": "code",
   "execution_count": null,
   "id": "ed59dfeb-ea41-4728-9020-34e3be95b523",
   "metadata": {},
   "outputs": [],
   "source": []
  },
  {
   "cell_type": "code",
   "execution_count": null,
   "id": "283546a6-bd1f-4616-a622-8cfd6257e240",
   "metadata": {},
   "outputs": [],
   "source": []
  },
  {
   "cell_type": "code",
   "execution_count": null,
   "id": "43e7c037-d532-4384-82d7-52f314a958f1",
   "metadata": {},
   "outputs": [],
   "source": []
  },
  {
   "cell_type": "code",
   "execution_count": null,
   "id": "381714b9-b9a3-4aab-93cd-78f64d9fedde",
   "metadata": {},
   "outputs": [],
   "source": []
  },
  {
   "cell_type": "code",
   "execution_count": null,
   "id": "9a7b6f8b-a748-4e5d-ae0b-7778dc74308e",
   "metadata": {},
   "outputs": [],
   "source": []
  },
  {
   "cell_type": "code",
   "execution_count": null,
   "id": "2425716b-d0b1-44fc-80a9-b9c5a5501f6f",
   "metadata": {},
   "outputs": [],
   "source": []
  },
  {
   "cell_type": "code",
   "execution_count": null,
   "id": "2d73ee9c-ce85-47f3-992e-8c0cc10151e7",
   "metadata": {},
   "outputs": [],
   "source": []
  },
  {
   "cell_type": "code",
   "execution_count": null,
   "id": "6f843859-7e33-458d-875d-b8ce160146c8",
   "metadata": {},
   "outputs": [],
   "source": []
  },
  {
   "cell_type": "code",
   "execution_count": null,
   "id": "95590e87-3276-4894-8625-e37a888d0e75",
   "metadata": {},
   "outputs": [],
   "source": []
  },
  {
   "cell_type": "code",
   "execution_count": null,
   "id": "625ead6c-3ebb-426c-8594-8529f4adb111",
   "metadata": {},
   "outputs": [],
   "source": []
  },
  {
   "cell_type": "code",
   "execution_count": null,
   "id": "3bea3e01-2791-455b-b657-411d989f9b33",
   "metadata": {},
   "outputs": [],
   "source": []
  },
  {
   "cell_type": "code",
   "execution_count": null,
   "id": "945abdf4-1d01-4a7d-8f63-19b4bcb95ab2",
   "metadata": {},
   "outputs": [],
   "source": []
  },
  {
   "cell_type": "code",
   "execution_count": null,
   "id": "54552381-8e48-45b5-959f-32359af8837c",
   "metadata": {},
   "outputs": [],
   "source": []
  },
  {
   "cell_type": "code",
   "execution_count": null,
   "id": "630ee4bc-6ccf-4e4d-9918-a08ee80863a8",
   "metadata": {},
   "outputs": [],
   "source": []
  },
  {
   "cell_type": "code",
   "execution_count": null,
   "id": "60d6c706-fd29-4c30-b97d-b0abad97536e",
   "metadata": {},
   "outputs": [],
   "source": []
  },
  {
   "cell_type": "code",
   "execution_count": null,
   "id": "c7b494df-ca38-4b9e-b0de-0a438474e408",
   "metadata": {},
   "outputs": [],
   "source": []
  },
  {
   "cell_type": "code",
   "execution_count": null,
   "id": "b0caebb3-32ff-4916-8776-d84e60c86897",
   "metadata": {},
   "outputs": [],
   "source": []
  },
  {
   "cell_type": "code",
   "execution_count": null,
   "id": "eefbfbdb-eb0d-4756-8d2c-ab15d102c07f",
   "metadata": {},
   "outputs": [],
   "source": []
  }
 ],
 "metadata": {
  "kernelspec": {
   "display_name": "Python 3 (ipykernel)",
   "language": "python",
   "name": "python3"
  },
  "language_info": {
   "codemirror_mode": {
    "name": "ipython",
    "version": 3
   },
   "file_extension": ".py",
   "mimetype": "text/x-python",
   "name": "python",
   "nbconvert_exporter": "python",
   "pygments_lexer": "ipython3",
   "version": "3.13.5"
  }
 },
 "nbformat": 4,
 "nbformat_minor": 5
}
