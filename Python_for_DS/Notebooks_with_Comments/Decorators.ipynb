{
 "cells": [
  {
   "cell_type": "markdown",
   "id": "336cc658-3b1b-451e-8b4c-2b99aac3f64d",
   "metadata": {},
   "source": [
    "# Python Decorators"
   ]
  },
  {
   "cell_type": "code",
   "execution_count": 1,
   "id": "689d21a2-2d2e-41d5-937a-092db6264db8",
   "metadata": {},
   "outputs": [],
   "source": [
    "## function copy \n",
    "## closures \n",
    "## decorators "
   ]
  },
  {
   "cell_type": "code",
   "execution_count": 2,
   "id": "80289da2-a43e-4e49-a187-5d52bbf2bd5b",
   "metadata": {},
   "outputs": [],
   "source": [
    "def welcome():\n",
    "    print(\"Welcome to krish naik youtube channel\")"
   ]
  },
  {
   "cell_type": "code",
   "execution_count": 3,
   "id": "fdc179db-3eb7-41fc-aded-b3f57c809649",
   "metadata": {},
   "outputs": [
    {
     "name": "stdout",
     "output_type": "stream",
     "text": [
      "Welcome to krish naik youtube channel\n"
     ]
    }
   ],
   "source": [
    "# assigning the function into variable . \n",
    "wel=welcome()"
   ]
  },
  {
   "cell_type": "code",
   "execution_count": 5,
   "id": "1b7a0765-8059-4fda-af43-c4b2d928e1e0",
   "metadata": {},
   "outputs": [
    {
     "ename": "TypeError",
     "evalue": "'NoneType' object is not callable",
     "output_type": "error",
     "traceback": [
      "\u001b[1;31m---------------------------------------------------------------------------\u001b[0m",
      "\u001b[1;31mTypeError\u001b[0m                                 Traceback (most recent call last)",
      "Cell \u001b[1;32mIn[5], line 1\u001b[0m\n\u001b[1;32m----> 1\u001b[0m wel()\n",
      "\u001b[1;31mTypeError\u001b[0m: 'NoneType' object is not callable"
     ]
    }
   ],
   "source": [
    "wel()"
   ]
  },
  {
   "cell_type": "code",
   "execution_count": null,
   "id": "2c50b393-4947-4c5c-9978-97648a71020f",
   "metadata": {},
   "outputs": [],
   "source": [
    "# instead of print we have to return so that it can assign into the wel variable . "
   ]
  },
  {
   "cell_type": "code",
   "execution_count": 13,
   "id": "04c28942-1df4-4d13-8417-f47573ed7ac7",
   "metadata": {},
   "outputs": [],
   "source": [
    "def welcome():\n",
    "    return \"Welcome to krish naik youtube channel\""
   ]
  },
  {
   "cell_type": "code",
   "execution_count": 14,
   "id": "5a43b5df-9603-46d0-859e-b03331d83566",
   "metadata": {},
   "outputs": [],
   "source": [
    "wel=welcome()\n"
   ]
  },
  {
   "cell_type": "code",
   "execution_count": 15,
   "id": "4de49ecf-0877-4d7c-80f4-94186bec0e06",
   "metadata": {},
   "outputs": [
    {
     "data": {
      "text/plain": [
       "'Welcome to krish naik youtube channel'"
      ]
     },
     "execution_count": 15,
     "metadata": {},
     "output_type": "execute_result"
    }
   ],
   "source": [
    "wel"
   ]
  },
  {
   "cell_type": "markdown",
   "id": "4de35981-3a64-4908-b423-1ac723c89c39",
   "metadata": {},
   "source": [
    "after assigning this welcome like wel=welcome() we are now trying to delete this welcome .\n"
   ]
  },
  {
   "cell_type": "markdown",
   "id": "5d780d70-8d75-4f4a-9a30-45641754ee75",
   "metadata": {},
   "source": [
    "this is called function copy. whenever we are doing like wel=welcome() the whole function is copied into the wel and now even if we do **del welcome** it doen't matter at all because our function is copied into the wel and now we are calling the wel function where our function is copied and working properly "
   ]
  },
  {
   "cell_type": "code",
   "execution_count": 16,
   "id": "65a37cfa-247e-4726-820e-9ab736834a2b",
   "metadata": {},
   "outputs": [],
   "source": [
    "wel=welcome()\n",
    "del welcome"
   ]
  },
  {
   "cell_type": "code",
   "execution_count": 17,
   "id": "cac129fe-2d84-40aa-a55e-9cc8a2547367",
   "metadata": {},
   "outputs": [
    {
     "data": {
      "text/plain": [
       "'Welcome to krish naik youtube channel'"
      ]
     },
     "execution_count": 17,
     "metadata": {},
     "output_type": "execute_result"
    }
   ],
   "source": [
    "wel"
   ]
  },
  {
   "cell_type": "code",
   "execution_count": 18,
   "id": "be8b9c82-1fdc-4d14-85e3-1573c393a2f9",
   "metadata": {},
   "outputs": [
    {
     "ename": "NameError",
     "evalue": "name 'welcome' is not defined",
     "output_type": "error",
     "traceback": [
      "\u001b[1;31m---------------------------------------------------------------------------\u001b[0m",
      "\u001b[1;31mNameError\u001b[0m                                 Traceback (most recent call last)",
      "Cell \u001b[1;32mIn[18], line 1\u001b[0m\n\u001b[1;32m----> 1\u001b[0m welcome()\n",
      "\u001b[1;31mNameError\u001b[0m: name 'welcome' is not defined"
     ]
    }
   ],
   "source": [
    "welcome()"
   ]
  },
  {
   "cell_type": "markdown",
   "id": "8ca8422f-0abe-44a2-802f-a973bd3eed80",
   "metadata": {},
   "source": [
    "here in above cell , we are seeing the welcome is not defined because we deleted the welcome function use the del welcome"
   ]
  },
  {
   "cell_type": "code",
   "execution_count": 25,
   "id": "926e080d-ac9d-4830-b65a-a8f3acd87078",
   "metadata": {},
   "outputs": [],
   "source": [
    "### CLOSURES \n",
    "\n",
    "'''\n",
    "Q1. whenever we are writing function inside function can we use the msg varible inside over here.\n",
    "\n",
    "    YES !!\n",
    "\n",
    "'''\n",
    "\n",
    "'''\n",
    "\n",
    "so remember in closure you write parent function and then inside that \n",
    "you can also write a sub function .\n",
    "\n",
    "and whatever you can define over here that all will be accessible inside the subfunction.\n",
    "\n",
    "'''\n",
    "    \n",
    "\n",
    "def main_welcome(msg):\n",
    "    \n",
    "    def sub_welcome_class():\n",
    "        print('welcome to krish naik youtube channel')\n",
    "        print(msg)\n",
    "        print('please subscribe krish naik sir channel :)')\n",
    "\n",
    "    return sub_welcome_class()\n"
   ]
  },
  {
   "cell_type": "code",
   "execution_count": 26,
   "id": "aa3f54a2-a7fe-4165-a94e-859f684584a5",
   "metadata": {},
   "outputs": [
    {
     "name": "stdout",
     "output_type": "stream",
     "text": [
      "welcome to krish naik youtube channel\n",
      "kunal\n",
      "please subscribe krish naik sir channel :)\n"
     ]
    }
   ],
   "source": [
    "main_welcome('kunal')"
   ]
  },
  {
   "cell_type": "code",
   "execution_count": 30,
   "id": "462cee59-1717-43d4-945a-f7ff821822dd",
   "metadata": {},
   "outputs": [],
   "source": [
    "\n",
    "### CLOSURES & inital decorators\n",
    "\n",
    "'''\n",
    "Q1. whenever we are writing function inside function can we use the msg varible inside over here.\n",
    "\n",
    "    YES !!\n",
    "\n",
    "'''\n",
    "\n",
    "'''\n",
    "\n",
    "so remember in closure you write parent function and then inside that \n",
    "you can also write a sub function .\n",
    "\n",
    "and whatever you can define over here that all will be accessible inside the subfunction.\n",
    "\n",
    "'''\n",
    "\n",
    "def main_welcome(func):\n",
    "    \n",
    "    def sub_welcome_class():\n",
    "        print('welcome to krish naik youtube channel')\n",
    "        func('this youtube channel deal with programming')\n",
    "        print('please subscribe krish naik sir channel :)')\n",
    "\n",
    "    return sub_welcome_class()"
   ]
  },
  {
   "cell_type": "code",
   "execution_count": 31,
   "id": "8a4a160e-97fa-49eb-9277-136b9749db9f",
   "metadata": {},
   "outputs": [
    {
     "name": "stdout",
     "output_type": "stream",
     "text": [
      "welcome to krish naik youtube channel\n",
      "this youtube channel deal with programming\n",
      "please subscribe krish naik sir channel :)\n"
     ]
    }
   ],
   "source": [
    "main_welcome(print)"
   ]
  },
  {
   "cell_type": "markdown",
   "id": "b2b1b46b-494a-435c-8ded-8a49239d81ea",
   "metadata": {},
   "source": [
    "**Now are you going to provide the list inside the func**"
   ]
  },
  {
   "cell_type": "code",
   "execution_count": 40,
   "id": "348f970d-222e-4e94-a8db-9f8a8dcc7360",
   "metadata": {},
   "outputs": [],
   "source": [
    "\n",
    "###  Decorators\n",
    "\n",
    "'''\n",
    "Q1. whenever we are writing function inside function can we use the msg varible inside over here.\n",
    "\n",
    "    YES !!\n",
    "\n",
    "'''\n",
    "\n",
    "'''\n",
    "\n",
    "so remember in closure you write parent function and then inside that \n",
    "you can also write a sub function .\n",
    "\n",
    "and whatever you can define over here that all will be accessible inside the subfunction.\n",
    "\n",
    "'''\n",
    "\n",
    "def main_welcome(func):\n",
    "    \n",
    "    def sub_welcome_class():\n",
    "        print('welcome to krish naik youtube channel')\n",
    "        func()\n",
    "        print('please subscribe krish naik sir channel :)')\n",
    "\n",
    "    return sub_welcome_class()"
   ]
  },
  {
   "cell_type": "code",
   "execution_count": 41,
   "id": "5b0e2d47-5c47-4056-bbd1-c6d0e0eb8f23",
   "metadata": {},
   "outputs": [
    {
     "name": "stdout",
     "output_type": "stream",
     "text": [
      "welcome to krish naik youtube channel\n"
     ]
    },
    {
     "ename": "TypeError",
     "evalue": "len() takes exactly one argument (0 given)",
     "output_type": "error",
     "traceback": [
      "\u001b[1;31m---------------------------------------------------------------------------\u001b[0m",
      "\u001b[1;31mTypeError\u001b[0m                                 Traceback (most recent call last)",
      "Cell \u001b[1;32mIn[41], line 1\u001b[0m\n\u001b[1;32m----> 1\u001b[0m main_welcome(\u001b[38;5;28mlen\u001b[39m)\n",
      "Cell \u001b[1;32mIn[40], line 26\u001b[0m, in \u001b[0;36mmain_welcome\u001b[1;34m(func)\u001b[0m\n\u001b[0;32m     23\u001b[0m     func()\n\u001b[0;32m     24\u001b[0m     \u001b[38;5;28mprint\u001b[39m(\u001b[38;5;124m'\u001b[39m\u001b[38;5;124mplease subscribe krish naik sir channel :)\u001b[39m\u001b[38;5;124m'\u001b[39m)\n\u001b[1;32m---> 26\u001b[0m \u001b[38;5;28;01mreturn\u001b[39;00m sub_welcome_class()\n",
      "Cell \u001b[1;32mIn[40], line 23\u001b[0m, in \u001b[0;36mmain_welcome.<locals>.sub_welcome_class\u001b[1;34m()\u001b[0m\n\u001b[0;32m     21\u001b[0m \u001b[38;5;28;01mdef\u001b[39;00m\u001b[38;5;250m \u001b[39m\u001b[38;5;21msub_welcome_class\u001b[39m():\n\u001b[0;32m     22\u001b[0m     \u001b[38;5;28mprint\u001b[39m(\u001b[38;5;124m'\u001b[39m\u001b[38;5;124mwelcome to krish naik youtube channel\u001b[39m\u001b[38;5;124m'\u001b[39m)\n\u001b[1;32m---> 23\u001b[0m     func()\n\u001b[0;32m     24\u001b[0m     \u001b[38;5;28mprint\u001b[39m(\u001b[38;5;124m'\u001b[39m\u001b[38;5;124mplease subscribe krish naik sir channel :)\u001b[39m\u001b[38;5;124m'\u001b[39m)\n",
      "\u001b[1;31mTypeError\u001b[0m: len() takes exactly one argument (0 given)"
     ]
    }
   ],
   "source": [
    "main_welcome(len)"
   ]
  },
  {
   "cell_type": "code",
   "execution_count": null,
   "id": "5417b9ae-a76e-4bf7-a384-99b45c2a4e27",
   "metadata": {},
   "outputs": [],
   "source": []
  },
  {
   "cell_type": "code",
   "execution_count": 42,
   "id": "420a3076-2393-44b1-98d2-674a3a071149",
   "metadata": {},
   "outputs": [],
   "source": [
    "# can i create my own function and give it as a parameter \n",
    "\n",
    "# yeah , we did this . \n",
    "\n",
    "def channel_name():\n",
    "    print('this is krish youtube channel')"
   ]
  },
  {
   "cell_type": "code",
   "execution_count": 47,
   "id": "7b1aacbc-88bd-4bed-a1ce-416cadd88926",
   "metadata": {},
   "outputs": [
    {
     "name": "stdout",
     "output_type": "stream",
     "text": [
      "welcome to krish naik youtube channel\n",
      "this is krish youtube channel\n",
      "please subscribe krish naik sir channel :)\n"
     ]
    }
   ],
   "source": [
    "main_welcome(channel_name)"
   ]
  },
  {
   "cell_type": "markdown",
   "id": "b787f0f4-dc20-4b0a-a415-7e2fe38b4059",
   "metadata": {},
   "source": [
    "### now we are going to add @main_welcome in the channel_name cell.\n",
    "\n",
    "### why ?\n",
    "\n",
    "### The @something is a decorator — basically a shortcut to say:\n",
    "\n",
    "### “Take the function below and pass it into something before saving it.”\n",
    "\n",
    "### we dont have to manually assign the like channel_name function into the main_welcome manually"
   ]
  },
  {
   "cell_type": "code",
   "execution_count": 48,
   "id": "765f417a-3d5f-435f-8335-a279a61db2ff",
   "metadata": {},
   "outputs": [],
   "source": [
    "def main_welcome(func):\n",
    "    \n",
    "    def sub_welcome_class():\n",
    "        print('welcome to krish naik youtube channel')\n",
    "        func()\n",
    "        print('please subscribe krish naik sir channel :)')\n",
    "\n",
    "    return sub_welcome_class()"
   ]
  },
  {
   "cell_type": "code",
   "execution_count": 49,
   "id": "267c0bd0-3a84-48ed-900f-8b23c124ca16",
   "metadata": {},
   "outputs": [
    {
     "name": "stdout",
     "output_type": "stream",
     "text": [
      "welcome to krish naik youtube channel\n",
      "this is krish youtube channel\n",
      "please subscribe krish naik sir channel :)\n"
     ]
    }
   ],
   "source": [
    "@main_welcome\n",
    "def channel_name():\n",
    "    print('this is krish youtube channel')"
   ]
  },
  {
   "cell_type": "code",
   "execution_count": null,
   "id": "a6cdd93b-f43f-4ebf-baa1-70f03aae4e97",
   "metadata": {},
   "outputs": [],
   "source": []
  },
  {
   "cell_type": "code",
   "execution_count": null,
   "id": "9509aabc-6421-431f-ad95-230a1f083f33",
   "metadata": {},
   "outputs": [],
   "source": []
  },
  {
   "cell_type": "code",
   "execution_count": null,
   "id": "e18a9076-6dbc-4426-87fa-03ccb0a88009",
   "metadata": {},
   "outputs": [],
   "source": []
  },
  {
   "cell_type": "code",
   "execution_count": null,
   "id": "51a50456-80a4-4d5b-8d61-6a0af3cbb262",
   "metadata": {},
   "outputs": [],
   "source": []
  },
  {
   "cell_type": "code",
   "execution_count": null,
   "id": "b22ff347-728a-4689-8edd-8d3e4e1b0430",
   "metadata": {},
   "outputs": [],
   "source": []
  },
  {
   "cell_type": "code",
   "execution_count": null,
   "id": "7ec11591-540b-4cdb-bd2c-1909adc68450",
   "metadata": {},
   "outputs": [],
   "source": []
  }
 ],
 "metadata": {
  "kernelspec": {
   "display_name": "Python 3 (ipykernel)",
   "language": "python",
   "name": "python3"
  },
  "language_info": {
   "codemirror_mode": {
    "name": "ipython",
    "version": 3
   },
   "file_extension": ".py",
   "mimetype": "text/x-python",
   "name": "python",
   "nbconvert_exporter": "python",
   "pygments_lexer": "ipython3",
   "version": "3.13.5"
  }
 },
 "nbformat": 4,
 "nbformat_minor": 5
}
