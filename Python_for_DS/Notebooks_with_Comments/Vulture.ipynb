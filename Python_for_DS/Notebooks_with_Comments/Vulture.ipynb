{
 "cells": [
  {
   "cell_type": "markdown",
   "id": "22772c2b-8353-4730-a4f3-46cf73cfd597",
   "metadata": {},
   "source": [
    "Using the Vulture library **https://pypi.org/project/vulture/**"
   ]
  },
  {
   "cell_type": "markdown",
   "id": "8542443a-c9dd-427d-8a96-65ab9cc8b600",
   "metadata": {},
   "source": [
    "you can use the vulture library to find the unused or dead code inside your program sometimes the dead remained in the code maybe any unused variables or etc . for finding those stuff we can use the vultuere library to find those dead codes . "
   ]
  },
  {
   "cell_type": "markdown",
   "id": "5919ff92-7d7f-45bd-a249-9afe5a11dfd5",
   "metadata": {},
   "source": [
    "for using the vulture libray you can pip install **Vulture** and then exectute it on any program by doing vulture **program_name.py**\n"
   ]
  },
  {
   "cell_type": "code",
   "execution_count": null,
   "id": "3c7a09d7-59a7-4db3-b315-24d8beaec473",
   "metadata": {},
   "outputs": [],
   "source": []
  },
  {
   "cell_type": "code",
   "execution_count": null,
   "id": "1684e519-cc48-4211-bedb-f5e224d2d49b",
   "metadata": {},
   "outputs": [],
   "source": []
  },
  {
   "cell_type": "code",
   "execution_count": null,
   "id": "408c6e02-5537-4af5-83bb-075ba374cf73",
   "metadata": {},
   "outputs": [],
   "source": []
  },
  {
   "cell_type": "code",
   "execution_count": null,
   "id": "92fdde42-4b29-486f-ba69-a67bc45475c1",
   "metadata": {},
   "outputs": [],
   "source": []
  },
  {
   "cell_type": "code",
   "execution_count": null,
   "id": "eb02e4d5-90cd-47fa-91c5-22d0265cd06a",
   "metadata": {},
   "outputs": [],
   "source": []
  },
  {
   "cell_type": "code",
   "execution_count": null,
   "id": "68f5485a-cedd-4840-8e54-0f90aa655103",
   "metadata": {},
   "outputs": [],
   "source": []
  },
  {
   "cell_type": "code",
   "execution_count": null,
   "id": "4ad9c02e-2d57-41a0-919a-26e1ebb2cc73",
   "metadata": {},
   "outputs": [],
   "source": []
  },
  {
   "cell_type": "code",
   "execution_count": null,
   "id": "b0b11b78-8f4f-4e5b-991f-aba90a4774f4",
   "metadata": {},
   "outputs": [],
   "source": []
  },
  {
   "cell_type": "code",
   "execution_count": null,
   "id": "8ce971c4-29c2-4bf1-8576-f3a16310845d",
   "metadata": {},
   "outputs": [],
   "source": []
  },
  {
   "cell_type": "code",
   "execution_count": null,
   "id": "c018a77a-2696-4fe9-a6bd-e71240eea6ef",
   "metadata": {},
   "outputs": [],
   "source": []
  }
 ],
 "metadata": {
  "kernelspec": {
   "display_name": "Python [conda env:base] *",
   "language": "python",
   "name": "conda-base-py"
  },
  "language_info": {
   "codemirror_mode": {
    "name": "ipython",
    "version": 3
   },
   "file_extension": ".py",
   "mimetype": "text/x-python",
   "name": "python",
   "nbconvert_exporter": "python",
   "pygments_lexer": "ipython3",
   "version": "3.13.5"
  }
 },
 "nbformat": 4,
 "nbformat_minor": 5
}
