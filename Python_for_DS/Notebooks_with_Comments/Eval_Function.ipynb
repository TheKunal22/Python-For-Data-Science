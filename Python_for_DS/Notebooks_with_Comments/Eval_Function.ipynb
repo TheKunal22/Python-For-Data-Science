{
 "cells": [
  {
   "cell_type": "markdown",
   "id": "b6decd2c-3295-418c-aa27-506caf8928f6",
   "metadata": {},
   "source": [
    "## **Python Eval Function--Evaluating Expressions Dynamically**"
   ]
  },
  {
   "cell_type": "code",
   "execution_count": 2,
   "id": "420473a7-9939-4abf-883a-3e3abdad6260",
   "metadata": {},
   "outputs": [
    {
     "data": {
      "text/plain": [
       "25"
      ]
     },
     "execution_count": 2,
     "metadata": {},
     "output_type": "execute_result"
    }
   ],
   "source": [
    "5*5"
   ]
  },
  {
   "cell_type": "code",
   "execution_count": null,
   "id": "aee202d7-df8f-4120-a4a8-91f6def91cf7",
   "metadata": {},
   "outputs": [],
   "source": [
    "## Eval function evaluate python expression which are return as strings.\n",
    "eval()"
   ]
  },
  {
   "cell_type": "markdown",
   "id": "d6946749-5fcf-44b3-932a-66f995a6c973",
   "metadata": {},
   "source": [
    "like we a multiplication like 5*5 is also an expression which we can alsos evalute by using the eval function as a str/string"
   ]
  },
  {
   "cell_type": "code",
   "execution_count": 3,
   "id": "14627e5d-06ba-43ef-a389-4f109e2d0bfe",
   "metadata": {},
   "outputs": [
    {
     "data": {
      "text/plain": [
       "25"
      ]
     },
     "execution_count": 3,
     "metadata": {},
     "output_type": "execute_result"
    }
   ],
   "source": [
    "# when we give expressioon  inside the eval first what happen is it will parse it after parsing it , it will convert it into a byte code and finally this eval function is execute it .\n",
    "eval('5*5')"
   ]
  },
  {
   "cell_type": "code",
   "execution_count": 4,
   "id": "681200ef-3ad1-4421-9963-6001bd59880c",
   "metadata": {},
   "outputs": [
    {
     "data": {
      "text/plain": [
       "5.571428571428571"
      ]
     },
     "execution_count": 4,
     "metadata": {},
     "output_type": "execute_result"
    }
   ],
   "source": [
    "eval('5*5/7+2')"
   ]
  },
  {
   "cell_type": "code",
   "execution_count": 9,
   "id": "7a4132e5-53d6-4edf-9c5a-d4dbec6ec9f0",
   "metadata": {},
   "outputs": [
    {
     "name": "stdin",
     "output_type": "stream",
     "text": [
      "enter the python expression:  1,2,3,4,5,6\n"
     ]
    },
    {
     "data": {
      "text/plain": [
       "(1, 2, 3, 4, 5, 6)"
      ]
     },
     "execution_count": 9,
     "metadata": {},
     "output_type": "execute_result"
    }
   ],
   "source": [
    "''' we can input anything like to check the len of the list , we can input like len([1,2,3,4,5,6,7])\n",
    "    we can also input like to check the sum of number like sum([1,2,4,5,6,7,8]) like this eval \n",
    "    eval function first parse it and then converting it into a byte code and then executing it . \n",
    "\n",
    "    make sure to input it inside the string using like '' to convert your expresssion into string .\n",
    "'''\n",
    "eval(input('enter the python expression: '))"
   ]
  },
  {
   "cell_type": "code",
   "execution_count": 10,
   "id": "0d40ccf2-3308-47f0-b3f1-9445b71b93a8",
   "metadata": {},
   "outputs": [],
   "source": [
    "def squared_num(num):\n",
    "    return num**2"
   ]
  },
  {
   "cell_type": "code",
   "execution_count": 12,
   "id": "a07ae82b-c102-4c1e-8ef6-e956c5c370e0",
   "metadata": {},
   "outputs": [
    {
     "data": {
      "text/plain": [
       "4"
      ]
     },
     "execution_count": 12,
     "metadata": {},
     "output_type": "execute_result"
    }
   ],
   "source": [
    "squared_num(2)"
   ]
  },
  {
   "cell_type": "code",
   "execution_count": 14,
   "id": "6b3e3dab-b780-4a22-b9d6-711c9d09489a",
   "metadata": {},
   "outputs": [
    {
     "data": {
      "text/plain": [
       "4"
      ]
     },
     "execution_count": 14,
     "metadata": {},
     "output_type": "execute_result"
    }
   ],
   "source": [
    "# as you can see we can also use the function inside the eval function to execute . \n",
    "\n",
    "eval('squared_num(2)')"
   ]
  },
  {
   "cell_type": "markdown",
   "id": "fa7068ba-f170-4163-b017-b3d77ef9915d",
   "metadata": {},
   "source": [
    "## how does eval work ?\n",
    "\n",
    "    1. Parse python expression\n",
    "    2. compile into a byte code \n",
    "    3. evalute the python expression\n",
    "    4. it will return the result\n"
   ]
  },
  {
   "cell_type": "code",
   "execution_count": 16,
   "id": "1ba91353-47bd-4ac8-b9b7-d231e692b54c",
   "metadata": {},
   "outputs": [],
   "source": [
    "# what is this compile ?\n",
    "\n",
    "var=compile(\"5*5\",'<string>','eval')"
   ]
  },
  {
   "cell_type": "code",
   "execution_count": 18,
   "id": "1ff33415-0ce8-43f5-b52a-0506c4a84834",
   "metadata": {},
   "outputs": [
    {
     "data": {
      "text/plain": [
       "<code object <module> at 0x000001BB91E47840, file \"<string>\", line 1>"
      ]
     },
     "execution_count": 18,
     "metadata": {},
     "output_type": "execute_result"
    }
   ],
   "source": [
    "# after executing the above cell , now we are checking what is var and we can see var is a code object module \n",
    "var"
   ]
  },
  {
   "cell_type": "code",
   "execution_count": 20,
   "id": "6b7cc1dc-8277-4a5e-941e-c621b646466b",
   "metadata": {},
   "outputs": [
    {
     "data": {
      "text/plain": [
       "25"
      ]
     },
     "execution_count": 20,
     "metadata": {},
     "output_type": "execute_result"
    }
   ],
   "source": [
    "# so we understand that whenever we are calling tha eval function internally it process the compilation as a part of his process. and then after converting into the byte it evaluate it into a python expression ans the return the result .  \n",
    "\n",
    "eval(var)"
   ]
  },
  {
   "cell_type": "code",
   "execution_count": 22,
   "id": "d8b4b5fa-1d1e-494c-9626-b4a937de4cc9",
   "metadata": {},
   "outputs": [
    {
     "ename": "NameError",
     "evalue": "name 'x' is not defined",
     "output_type": "error",
     "traceback": [
      "\u001b[1;31m---------------------------------------------------------------------------\u001b[0m",
      "\u001b[1;31mNameError\u001b[0m                                 Traceback (most recent call last)",
      "Cell \u001b[1;32mIn[22], line 4\u001b[0m\n\u001b[0;32m      1\u001b[0m \u001b[38;5;66;03m### now we are going to see about the Globals \u001b[39;00m\n\u001b[0;32m      2\u001b[0m \n\u001b[0;32m      3\u001b[0m \u001b[38;5;66;03m#### here is saying x is not defined , so we have first define the x either global value or local value . \u001b[39;00m\n\u001b[1;32m----> 4\u001b[0m \u001b[38;5;28meval\u001b[39m(\u001b[38;5;124m'\u001b[39m\u001b[38;5;124mx+50+X**2\u001b[39m\u001b[38;5;124m'\u001b[39m)\n",
      "File \u001b[1;32m<string>:1\u001b[0m\n",
      "\u001b[1;31mNameError\u001b[0m: name 'x' is not defined"
     ]
    }
   ],
   "source": [
    "### now we are going to see about the Globals \n",
    "\n",
    "#### here is saying x is not defined , so we have first define the x either global value or local value . \n",
    "eval('x+50+X**2')"
   ]
  },
  {
   "cell_type": "code",
   "execution_count": 24,
   "id": "e9b8a713-21cc-4f8d-8b5e-388bce4939bf",
   "metadata": {},
   "outputs": [
    {
     "data": {
      "text/plain": [
       "160"
      ]
     },
     "execution_count": 24,
     "metadata": {},
     "output_type": "execute_result"
    }
   ],
   "source": [
    "### now we are going to see about the Globals \n",
    "\n",
    "#### here is saying x is not defined , so we have first define the x either global value or local value . \n",
    "eval('x+50+x**2',{'x':10})"
   ]
  },
  {
   "cell_type": "code",
   "execution_count": 25,
   "id": "19cf0db7-67af-462d-8e00-81e9f991b924",
   "metadata": {},
   "outputs": [
    {
     "data": {
      "text/plain": [
       "160"
      ]
     },
     "execution_count": 25,
     "metadata": {},
     "output_type": "execute_result"
    }
   ],
   "source": [
    "# ok , we can also define the x seperaltely without defining it into the inside eval function as a global parameter remeber that dict format is used for defining the global variable , and further you can also check that by pressing shift + tab , you can know more about eval function \n",
    "x=10\n",
    "eval('x+50+x**2',{'x':x})"
   ]
  },
  {
   "cell_type": "markdown",
   "id": "83f91166-ac9c-495c-a3d6-e0832fb196c8",
   "metadata": {},
   "source": [
    "now here we are just playing with it now "
   ]
  },
  {
   "cell_type": "code",
   "execution_count": 26,
   "id": "d2921155-2e45-41aa-bdb4-e0ab0fa545cc",
   "metadata": {},
   "outputs": [
    {
     "data": {
      "text/plain": [
       "200"
      ]
     },
     "execution_count": 26,
     "metadata": {},
     "output_type": "execute_result"
    }
   ],
   "source": [
    "x=100\n",
    "z=100\n",
    "eval('x+z',{'x':x,'z':100})"
   ]
  },
  {
   "cell_type": "code",
   "execution_count": 28,
   "id": "ac313c38-794c-40d4-bbd7-811167d1aea9",
   "metadata": {},
   "outputs": [
    {
     "data": {
      "text/plain": [
       "1200"
      ]
     },
     "execution_count": 28,
     "metadata": {},
     "output_type": "execute_result"
    }
   ],
   "source": [
    "x=100\n",
    "z=100\n",
    "eval('x+z+w',{'x':x,'z':100,'w':1000})"
   ]
  },
  {
   "cell_type": "code",
   "execution_count": 30,
   "id": "892c78df-17bb-4df4-8e3a-e440a959b0a3",
   "metadata": {},
   "outputs": [
    {
     "data": {
      "text/plain": [
       "10200"
      ]
     },
     "execution_count": 30,
     "metadata": {},
     "output_type": "execute_result"
    }
   ],
   "source": [
    "x=100\n",
    "z=100\n",
    "y=10000\n",
    "eval('x+z+y')"
   ]
  },
  {
   "cell_type": "code",
   "execution_count": 33,
   "id": "5e95693e-c492-404d-93d9-6574763be563",
   "metadata": {},
   "outputs": [
    {
     "data": {
      "text/plain": [
       "22300"
      ]
     },
     "execution_count": 33,
     "metadata": {},
     "output_type": "execute_result"
    }
   ],
   "source": [
    "# we can also provide our 3rd paramater as local \n",
    "\n",
    "eval('a+b+c',{},{'a':100,'b':200,'c':22000})"
   ]
  },
  {
   "cell_type": "markdown",
   "id": "8f190687-d246-46ee-b1d9-1e30fb38b3a4",
   "metadata": {},
   "source": [
    "#### we can also perform the boolean operations using the eval function . "
   ]
  },
  {
   "cell_type": "code",
   "execution_count": 32,
   "id": "02063e84-db14-4138-9ead-94bb943ef4ab",
   "metadata": {},
   "outputs": [
    {
     "data": {
      "text/plain": [
       "True"
      ]
     },
     "execution_count": 32,
     "metadata": {},
     "output_type": "execute_result"
    }
   ],
   "source": [
    "a=100\n",
    "b=5000\n",
    "eval(\"a<b\")"
   ]
  },
  {
   "cell_type": "markdown",
   "id": "b5d2eead-cd79-4ccc-8ec2-63dea4adbd23",
   "metadata": {},
   "source": [
    "### although , eval function is considered insecure using in the code because it allows you  to execute dynamically arbitary code in python .\n"
   ]
  },
  {
   "cell_type": "code",
   "execution_count": 34,
   "id": "c35ffaff-d64c-4fdd-be7a-6da8f09db11d",
   "metadata": {},
   "outputs": [
    {
     "ename": "NameError",
     "evalue": "name 'x' is not defined",
     "output_type": "error",
     "traceback": [
      "\u001b[1;31m---------------------------------------------------------------------------\u001b[0m",
      "\u001b[1;31mNameError\u001b[0m                                 Traceback (most recent call last)",
      "Cell \u001b[1;32mIn[34], line 3\u001b[0m\n\u001b[0;32m      1\u001b[0m x\u001b[38;5;241m=\u001b[39m\u001b[38;5;241m100\u001b[39m\n\u001b[0;32m      2\u001b[0m y\u001b[38;5;241m=\u001b[39m\u001b[38;5;241m5000\u001b[39m\n\u001b[1;32m----> 3\u001b[0m \u001b[38;5;28meval\u001b[39m(\u001b[38;5;124m'\u001b[39m\u001b[38;5;124mx+y\u001b[39m\u001b[38;5;124m'\u001b[39m,{},{})\n",
      "File \u001b[1;32m<string>:1\u001b[0m\n",
      "\u001b[1;31mNameError\u001b[0m: name 'x' is not defined"
     ]
    }
   ],
   "source": [
    "# here our both global and local variables are both are empty so eval is not able to access the x and y so this add a layer of security here.\n",
    "\n",
    "x=100\n",
    "y=5000\n",
    "eval('x+y',{},{})"
   ]
  },
  {
   "cell_type": "code",
   "execution_count": null,
   "id": "5f295755-2479-472f-a7c6-271ce465dfcf",
   "metadata": {},
   "outputs": [],
   "source": []
  }
 ],
 "metadata": {
  "kernelspec": {
   "display_name": "Python 3 (ipykernel)",
   "language": "python",
   "name": "python3"
  },
  "language_info": {
   "codemirror_mode": {
    "name": "ipython",
    "version": 3
   },
   "file_extension": ".py",
   "mimetype": "text/x-python",
   "name": "python",
   "nbconvert_exporter": "python",
   "pygments_lexer": "ipython3",
   "version": "3.13.5"
  }
 },
 "nbformat": 4,
 "nbformat_minor": 5
}
