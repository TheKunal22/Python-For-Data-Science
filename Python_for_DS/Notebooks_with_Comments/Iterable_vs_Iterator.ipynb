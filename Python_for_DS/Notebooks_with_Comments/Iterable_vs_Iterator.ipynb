{
 "cells": [
  {
   "cell_type": "markdown",
   "id": "5349c4f8-79e6-4bfc-a3ae-d1963fce1988",
   "metadata": {},
   "source": [
    "# **PYTHON list iterables vs iterators**"
   ]
  },
  {
   "cell_type": "code",
   "execution_count": 41,
   "id": "8763873c-fbb3-4b5e-b082-7e5593e72da7",
   "metadata": {},
   "outputs": [
    {
     "name": "stdout",
     "output_type": "stream",
     "text": [
      "1\n",
      "2\n",
      "3\n",
      "4\n",
      "5\n",
      "6\n",
      "7\n"
     ]
    }
   ],
   "source": [
    "#list is iterable .\n",
    "\n",
    "''' if converting list into iterator what will happen is all the values are not initalized into the \n",
    "    memory .'''\n",
    "lst=[1,2,3,4,5,6,7]\n",
    "\n",
    "for i in lst:\n",
    "    print(i)"
   ]
  },
  {
   "cell_type": "code",
   "execution_count": 42,
   "id": "7dc17a0e-761b-4d33-b304-7a5201cb6aca",
   "metadata": {},
   "outputs": [],
   "source": [
    "list1 = iter(lst) \n",
    "\n",
    "'''\n",
    "The iter() function is just used once to create an iterator from an iterable.\n",
    "\n",
    "It does not keep track of anything after that.\n",
    "\n",
    "The iterator itself (the object returned by iter()) is what keeps track of the current position.\n",
    "\n",
    "\n",
    "🔁 Analogy:\n",
    "iter() is like a factory that makes bookmarks.\n",
    "\n",
    "The bookmark (iterator) keeps track of where you are in the book (iterable).\n",
    "\n",
    "'''\n",
    "\n",
    "\n",
    "'''\n",
    "\n",
    "    suppose we have file with 100 million lines of code and we wants to access the data inside it \n",
    "\n",
    "    If you try:\n",
    "\n",
    "\n",
    "    lines = open(\"bigfile.txt\").readlines()  # BAD: Loads all lines into memory\n",
    "    \n",
    "    💥 This might crash your program because it’s too big for memory.\n",
    "\n",
    "    Instead, Python gives you a file object — which is an iterator:\n",
    "\n",
    "    with open(\"bigfile.txt\") as f:\n",
    "        for line in f:  # Python uses an iterator here!\n",
    "            process(line)\n",
    "    ✅ It reads one line at a time, not the whole file.\n",
    "    ✅ Saves memory, works fast, and doesn’t crash.\n",
    "\n",
    "    🔁 This is the power of iterators — you get data bit by bit, not all at once.\n",
    "\n",
    "'''\n"
   ]
  },
  {
   "cell_type": "code",
   "execution_count": 30,
   "id": "392c08cb-2cc1-4a05-9d8c-4f35f9462b08",
   "metadata": {},
   "outputs": [
    {
     "ename": "StopIteration",
     "evalue": "",
     "output_type": "error",
     "traceback": [
      "\u001b[1;31m---------------------------------------------------------------------------\u001b[0m",
      "\u001b[1;31mStopIteration\u001b[0m                             Traceback (most recent call last)",
      "Cell \u001b[1;32mIn[30], line 1\u001b[0m\n\u001b[1;32m----> 1\u001b[0m \u001b[38;5;28mnext\u001b[39m(list1)\n",
      "\u001b[1;31mStopIteration\u001b[0m: "
     ]
    }
   ],
   "source": [
    "next(list1)  # stop iteration error comes when there is not left to loop on ."
   ]
  },
  {
   "cell_type": "code",
   "execution_count": 43,
   "id": "f067e965-ec88-42ee-8623-03823f47df1b",
   "metadata": {},
   "outputs": [
    {
     "data": {
      "text/plain": [
       "1"
      ]
     },
     "execution_count": 43,
     "metadata": {},
     "output_type": "execute_result"
    }
   ],
   "source": [
    "next(list1)"
   ]
  },
  {
   "cell_type": "code",
   "execution_count": 44,
   "id": "03cd5467-27f0-438d-af89-2822325c2877",
   "metadata": {},
   "outputs": [
    {
     "name": "stdout",
     "output_type": "stream",
     "text": [
      "2\n",
      "3\n",
      "4\n",
      "5\n",
      "6\n",
      "7\n"
     ]
    }
   ],
   "source": [
    "for i in list1:\n",
    "    print(i)"
   ]
  },
  {
   "cell_type": "code",
   "execution_count": 45,
   "id": "65a41972-98ef-4b6e-821b-c90e2d64fc13",
   "metadata": {},
   "outputs": [
    {
     "data": {
      "text/plain": [
       "' \\n    \\n    iterablse are the list which keep all the iterators , iterables are the collection of \\n    iterators we use iterables to do loop over iterators present inside iterable . we can do \\n    looping in whole iterable collection of itertors or also on a single iterator.\\n\\n'"
      ]
     },
     "execution_count": 45,
     "metadata": {},
     "output_type": "execute_result"
    }
   ],
   "source": [
    "''' \n",
    "    \n",
    "    iterablse are the list which keep all the iterators , iterables are the collection of \n",
    "    iterators we use iterables to do loop over iterators present inside iterable . we can do \n",
    "    looping in whole iterable collection of itertors or also on a single iterator.\n",
    "\n",
    "'''\n"
   ]
  },
  {
   "cell_type": "code",
   "execution_count": null,
   "id": "9cccedc9-f930-4ab6-ba83-9bdff620a95f",
   "metadata": {},
   "outputs": [],
   "source": []
  },
  {
   "cell_type": "code",
   "execution_count": null,
   "id": "49486070-844d-401c-83de-5df91e349d66",
   "metadata": {},
   "outputs": [],
   "source": []
  },
  {
   "cell_type": "code",
   "execution_count": null,
   "id": "5f544bf9-3e71-4ed1-82ff-1763f95ea544",
   "metadata": {},
   "outputs": [],
   "source": []
  },
  {
   "cell_type": "code",
   "execution_count": null,
   "id": "4110fdc2-023a-490f-8d5f-83a3ad2086d4",
   "metadata": {},
   "outputs": [],
   "source": []
  },
  {
   "cell_type": "markdown",
   "id": "632e88e3-e947-4562-842b-9bc06bb1dca8",
   "metadata": {},
   "source": []
  }
 ],
 "metadata": {
  "kernelspec": {
   "display_name": "Python 3 (ipykernel)",
   "language": "python",
   "name": "python3"
  },
  "language_info": {
   "codemirror_mode": {
    "name": "ipython",
    "version": 3
   },
   "file_extension": ".py",
   "mimetype": "text/x-python",
   "name": "python",
   "nbconvert_exporter": "python",
   "pygments_lexer": "ipython3",
   "version": "3.13.5"
  }
 },
 "nbformat": 4,
 "nbformat_minor": 5
}
