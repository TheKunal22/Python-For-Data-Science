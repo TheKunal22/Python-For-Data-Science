{
 "cells": [
  {
   "cell_type": "markdown",
   "id": "bf6216ea-26ac-4f33-b9e0-c28c275102d4",
   "metadata": {},
   "source": [
    "# tutorial 3 and 4 "
   ]
  },
  {
   "cell_type": "markdown",
   "id": "67404c63-a104-48e6-b278-b9d3b1499800",
   "metadata": {},
   "source": [
    "## tutorial 3 , python sets , dict and tuples "
   ]
  },
  {
   "cell_type": "code",
   "execution_count": 41,
   "id": "3ab8dad5-69c2-44b5-81d0-ed7210b71682",
   "metadata": {},
   "outputs": [
    {
     "name": "stdout",
     "output_type": "stream",
     "text": [
      "set()\n",
      "<class 'set'>\n"
     ]
    }
   ],
   "source": [
    "set_var = set()\n",
    "print(set_var)\n",
    "print(type(set_var))"
   ]
  },
  {
   "cell_type": "markdown",
   "id": "ead41dfc-7714-4825-b84b-e621a855b54e",
   "metadata": {},
   "source": [
    "# set dosent support indexing "
   ]
  },
  {
   "cell_type": "code",
   "execution_count": 42,
   "id": "fadaa6f4-b98b-4b23-980e-3a83172de19f",
   "metadata": {},
   "outputs": [
    {
     "name": "stdout",
     "output_type": "stream",
     "text": [
      "{1, 2, 4, 5, 6}\n"
     ]
    }
   ],
   "source": [
    "set_var = {1 , 2, 4 ,4 ,5, 5,5,6}\n",
    "print(set_var)"
   ]
  },
  {
   "cell_type": "code",
   "execution_count": 43,
   "id": "816529d9-6e76-4e82-865c-e30824a10c67",
   "metadata": {},
   "outputs": [
    {
     "name": "stdout",
     "output_type": "stream",
     "text": [
      "{'avengers', 'ironman', 'hitman'}\n",
      "<class 'set'>\n"
     ]
    }
   ],
   "source": [
    "set_var= {'ironman' , 'avengers' , 'hitman'}\n",
    "print(set_var)\n",
    "print(type(set_var))"
   ]
  },
  {
   "cell_type": "code",
   "execution_count": 44,
   "id": "afbd8037-5e06-4c15-8494-7d2467252411",
   "metadata": {},
   "outputs": [
    {
     "ename": "TypeError",
     "evalue": "'set' object is not subscriptable",
     "output_type": "error",
     "traceback": [
      "\u001b[1;31m---------------------------------------------------------------------------\u001b[0m",
      "\u001b[1;31mTypeError\u001b[0m                                 Traceback (most recent call last)",
      "Cell \u001b[1;32mIn[44], line 1\u001b[0m\n\u001b[1;32m----> 1\u001b[0m set_var[\u001b[38;5;241m0\u001b[39m]\n",
      "\u001b[1;31mTypeError\u001b[0m: 'set' object is not subscriptable"
     ]
    }
   ],
   "source": [
    "set_var[0] # as you can see here set dosent support indexing ."
   ]
  },
  {
   "cell_type": "code",
   "execution_count": null,
   "id": "71959efa-a73b-4d2b-b779-f8bfde17aa26",
   "metadata": {},
   "outputs": [],
   "source": [
    "# for adding elements in set , we will have to use .add() function to addd elemments inside the set \n",
    "set_var.add(\"hulk\")"
   ]
  },
  {
   "cell_type": "code",
   "execution_count": null,
   "id": "c073c34c-0bfa-4047-8cc5-1dc46ea83df7",
   "metadata": {},
   "outputs": [],
   "source": [
    "set_var"
   ]
  },
  {
   "cell_type": "markdown",
   "id": "75311095-8037-4102-9be9-6697ee051bb1",
   "metadata": {},
   "source": [
    "### there are also other function which is use with set are difference and intersection "
   ]
  },
  {
   "cell_type": "code",
   "execution_count": null,
   "id": "1afcdd56-b64d-47d2-ba58-ca794180bf9f",
   "metadata": {},
   "outputs": [],
   "source": [
    "set1 = {'avengers', 'hitman', 'hulk', 'ironman'}\n",
    "set2 = {'avengers', 'hitman', 'hulk', 'ironman' , 'black widow'}"
   ]
  },
  {
   "cell_type": "code",
   "execution_count": null,
   "id": "b1ace636-6754-4b37-b918-50f8e6d14cb3",
   "metadata": {},
   "outputs": [],
   "source": [
    "set1.difference(set2)\n",
    "set2"
   ]
  },
  {
   "cell_type": "code",
   "execution_count": null,
   "id": "c9f60aff-6fa4-46ea-a3f7-ba26e3182e16",
   "metadata": {},
   "outputs": [],
   "source": [
    "set1.intersection(set2)"
   ]
  },
  {
   "cell_type": "markdown",
   "id": "2ca51aa0-8369-472c-94c7-6fa1035f82b9",
   "metadata": {},
   "source": [
    "## dictionaries "
   ]
  },
  {
   "cell_type": "code",
   "execution_count": null,
   "id": "91fb8ffd-f91b-4ac0-b88b-ab2dd6e59165",
   "metadata": {},
   "outputs": [],
   "source": [
    "dict()"
   ]
  },
  {
   "cell_type": "code",
   "execution_count": null,
   "id": "a8173ecd-5ef4-4b39-a564-3aaf5a30a95f",
   "metadata": {},
   "outputs": [],
   "source": [
    "type(dict())"
   ]
  },
  {
   "cell_type": "code",
   "execution_count": null,
   "id": "0c4e0ac8-28f1-40ca-b7b0-4e4ad30f911f",
   "metadata": {},
   "outputs": [],
   "source": [
    "my_dict  = {'car1':'audi' , 'car2':'BMW'  , 'car3':'mercedes benz'}\n",
    "type(my_dict)"
   ]
  },
  {
   "cell_type": "code",
   "execution_count": null,
   "id": "b082b59e-b4c0-4a9b-acbb-ac1675a9c790",
   "metadata": {},
   "outputs": [],
   "source": [
    "my_dict['car1']"
   ]
  },
  {
   "cell_type": "code",
   "execution_count": null,
   "id": "36b71d6f-071a-408c-a52a-c8a1dfb53717",
   "metadata": {},
   "outputs": [],
   "source": [
    "for x in my_dict: \n",
    "    print(x)"
   ]
  },
  {
   "cell_type": "code",
   "execution_count": null,
   "id": "438b72ff-94a7-4661-acc0-89c54fc9ddfe",
   "metadata": {},
   "outputs": [],
   "source": [
    "# now for printing values we will use .values functions , it is now iterating though values \n",
    "for x in my_dict.values():\n",
    "    print(x)"
   ]
  },
  {
   "cell_type": "code",
   "execution_count": null,
   "id": "68d77a38-adbd-4073-b478-fd77e648c7f3",
   "metadata": {},
   "outputs": [],
   "source": [
    "# we can also check both keys and values \n",
    "for x in my_dict.items():\n",
    "    print(x)\n",
    "    "
   ]
  },
  {
   "cell_type": "code",
   "execution_count": null,
   "id": "e3d759be-4f32-4c8f-b958-4db18b859325",
   "metadata": {},
   "outputs": [],
   "source": [
    "## adding items in dictionaries \n",
    "\n",
    "my_dict[\"car4\"] = 'audi 2.0'"
   ]
  },
  {
   "cell_type": "code",
   "execution_count": null,
   "id": "cf810051-81d9-4d87-8b66-accce93f7d43",
   "metadata": {},
   "outputs": [],
   "source": [
    "my_dict \n"
   ]
  },
  {
   "cell_type": "markdown",
   "id": "8cbcb8fd-0437-4d3d-9d80-1c1150c0f218",
   "metadata": {},
   "source": [
    "# **Nested Dictionary**"
   ]
  },
  {
   "cell_type": "code",
   "execution_count": null,
   "id": "ea1a8776-3f00-49ef-889c-05416ac7a8c3",
   "metadata": {},
   "outputs": [],
   "source": [
    "car1_model = {'mercedes benz':1960}\n",
    "car2_model = {'audi':1970}\n",
    "car3_model = {'ambassador':1980}\n",
    "\n",
    "car_type = {\"car1\":car1_model , 'car2' : car2_model , 'car3' : car3_model}"
   ]
  },
  {
   "cell_type": "code",
   "execution_count": null,
   "id": "123a9e90-b906-4d4c-9b9c-4014bcc6d89e",
   "metadata": {},
   "outputs": [],
   "source": [
    "print(car_type)"
   ]
  },
  {
   "cell_type": "code",
   "execution_count": null,
   "id": "b294bb6e-5147-4a5a-978a-ff8f67ecbd2d",
   "metadata": {},
   "outputs": [],
   "source": [
    "print(car_type['car1'])"
   ]
  },
  {
   "cell_type": "code",
   "execution_count": null,
   "id": "8cccba3c-531a-4309-bda1-05404a4467d8",
   "metadata": {},
   "outputs": [],
   "source": [
    "print(car_type['car1']['mercedes benz'])"
   ]
  },
  {
   "cell_type": "markdown",
   "id": "e394f17c-1842-47fc-885f-de567d7d4bdc",
   "metadata": {},
   "source": [
    "# TUPLES"
   ]
  },
  {
   "cell_type": "code",
   "execution_count": null,
   "id": "43ba4245-a8e1-4b42-9392-e3b8033ccddd",
   "metadata": {},
   "outputs": [],
   "source": [
    "# create an empty tuples , tuples are immutable , cant change the values after defined .\n",
    "# the item cannot be changed but the whole item can be changed .\n"
   ]
  },
  {
   "cell_type": "code",
   "execution_count": null,
   "id": "100720d7-f244-4d76-ac3d-aaf431012e77",
   "metadata": {},
   "outputs": [],
   "source": [
    "my_tuple = tuple()\n",
    "type(tuple())\n"
   ]
  },
  {
   "cell_type": "code",
   "execution_count": null,
   "id": "c6bce230-4298-499b-afe5-5a7f172d1af2",
   "metadata": {},
   "outputs": [],
   "source": [
    "my_tuple = ('kunal ' , 'saini' , 'alex')\n"
   ]
  },
  {
   "cell_type": "code",
   "execution_count": null,
   "id": "bed18d9e-b9c1-48a9-8090-c84eea9eca6e",
   "metadata": {},
   "outputs": [],
   "source": [
    "my_tuple[0]"
   ]
  },
  {
   "cell_type": "code",
   "execution_count": null,
   "id": "58139a80-f233-4238-9b91-8ce6a91354d9",
   "metadata": {},
   "outputs": [],
   "source": [
    "my_tuple[0] = 'sanu'"
   ]
  },
  {
   "cell_type": "code",
   "execution_count": null,
   "id": "3eeef254-406f-4b38-aa7d-c8f6165acc47",
   "metadata": {},
   "outputs": [],
   "source": [
    "''' tuples items cannot be changed , the single elements cannot be changedbut the whole tuples \n",
    "can be changed '''\n",
    "my_tuple = ('kunal' , 'saini' , 'john')"
   ]
  },
  {
   "cell_type": "code",
   "execution_count": null,
   "id": "177c0173-3676-493e-8f96-9d638b26c006",
   "metadata": {},
   "outputs": [],
   "source": [
    "my_tuple"
   ]
  },
  {
   "cell_type": "markdown",
   "id": "ce7eecc2-3771-42c6-9610-f318982796de",
   "metadata": {},
   "source": [
    "# **Tutorial 4** "
   ]
  },
  {
   "cell_type": "markdown",
   "id": "ccd64d23-8968-4e54-b336-2aa34e230e19",
   "metadata": {},
   "source": [
    "# **numpy and inbuilt functions tutoraial**"
   ]
  },
  {
   "cell_type": "markdown",
   "id": "0ef09ba1-2b1b-40c4-9966-81c68a2c404d",
   "metadata": {},
   "source": [
    "numpy is a general purpose array processing package. it provides a high performance multidimensional array object , and tools for working with these arrays it is the fundamental pacakage for scientfic computing with python ."
   ]
  },
  {
   "cell_type": "markdown",
   "id": "a9539897-cf6f-47ab-a887-decfddfd4ed2",
   "metadata": {},
   "source": [
    "# **what is an array**"
   ]
  },
  {
   "cell_type": "markdown",
   "id": "3651ab03-3507-4504-a245-b2114ab33e99",
   "metadata": {},
   "source": [
    "an array is a data structure that stores values of same data type . in python , this is the main differnce btw arrays and lists . while python lists can contain balues corresponding to diff data types , arrays in python can only contain values corresponding to same data type . "
   ]
  },
  {
   "cell_type": "code",
   "execution_count": null,
   "id": "e906c0b9-dc6b-4a1a-a036-5b87976f2049",
   "metadata": {},
   "outputs": [],
   "source": [
    "pip install numpy"
   ]
  },
  {
   "cell_type": "code",
   "execution_count": null,
   "id": "b03b8da2-dd93-4d5b-8eb2-c9f0b6ddcd77",
   "metadata": {},
   "outputs": [],
   "source": [
    "import numpy as np "
   ]
  },
  {
   "cell_type": "code",
   "execution_count": null,
   "id": "37d6fa3b-cb5e-436e-918e-49d6c04f1253",
   "metadata": {},
   "outputs": [],
   "source": [
    "my_lst = [1 ,2,3,4,5]\n",
    "\n",
    "arr = np.array(my_lst)"
   ]
  },
  {
   "cell_type": "code",
   "execution_count": null,
   "id": "8ffacb91-0a0a-461a-8544-00b83af0a937",
   "metadata": {},
   "outputs": [],
   "source": [
    "type(arr)"
   ]
  },
  {
   "cell_type": "code",
   "execution_count": null,
   "id": "41300fa5-f1f3-455d-988a-508c68da88e5",
   "metadata": {},
   "outputs": [],
   "source": [
    "# shape functions tells us how many rows and columns are present inside an array \n",
    "\n",
    "arr.shape"
   ]
  },
  {
   "cell_type": "code",
   "execution_count": null,
   "id": "6ead0632-bb35-4d4d-8021-51616b2a9b99",
   "metadata": {},
   "outputs": [],
   "source": [
    "type(arr)"
   ]
  },
  {
   "cell_type": "code",
   "execution_count": null,
   "id": "c63b7d4d-bcb1-40a9-9a81-c7b697f549a5",
   "metadata": {},
   "outputs": [],
   "source": [
    "## multinested array\n",
    "my_lst1 = [1,2,3,4,5]\n",
    "my_lst2=[2,3,4,5,6]\n",
    "my_lst3=[9,7,6,8,9]\n",
    "\n",
    "arr = np.array([my_lst1,my_lst2,my_lst3])"
   ]
  },
  {
   "cell_type": "code",
   "execution_count": null,
   "id": "cf14c820-22df-46d1-8f0b-240618d2461d",
   "metadata": {},
   "outputs": [],
   "source": [
    "arr \n",
    "''' In 2d we will have 2 square bracktes open and two square\n",
    "brackets closed and in 3d we would have 3 square brackets open and 3 square brackets closed '''\n"
   ]
  },
  {
   "cell_type": "code",
   "execution_count": null,
   "id": "5820ddc3-2f5c-44da-8fa8-35fa735b13df",
   "metadata": {},
   "outputs": [],
   "source": [
    "arr.shape"
   ]
  },
  {
   "cell_type": "code",
   "execution_count": null,
   "id": "27e2d304-3252-4623-9aa8-2b065d457398",
   "metadata": {},
   "outputs": [],
   "source": [
    "arr.reshape(5,3)"
   ]
  },
  {
   "cell_type": "code",
   "execution_count": null,
   "id": "31030bf5-3107-4680-a094-604a96212c82",
   "metadata": {},
   "outputs": [],
   "source": [
    "## check the shape of the array \n",
    "arr.shape"
   ]
  },
  {
   "cell_type": "code",
   "execution_count": null,
   "id": "a4544bb9-3224-4752-b359-3e734a99d69d",
   "metadata": {},
   "outputs": [],
   "source": [
    "arr.reshape(5,4)"
   ]
  },
  {
   "cell_type": "code",
   "execution_count": null,
   "id": "b5769306-5127-4076-945d-7b8586666fcd",
   "metadata": {},
   "outputs": [],
   "source": [
    "arr.reshape(1,15)"
   ]
  },
  {
   "cell_type": "code",
   "execution_count": null,
   "id": "687b4acc-e176-4afc-a809-a2156b698773",
   "metadata": {},
   "outputs": [],
   "source": [
    "## check the shape of the array \n",
    "arr.shape"
   ]
  },
  {
   "cell_type": "markdown",
   "id": "5586de3b-57e7-426e-937a-9aa9ddc4515c",
   "metadata": {},
   "source": [
    "# **indexing**"
   ]
  },
  {
   "cell_type": "code",
   "execution_count": null,
   "id": "972eb3f7-88f4-4a33-a36d-27459eb33dc8",
   "metadata": {},
   "outputs": [],
   "source": [
    " # accessing the array element \n",
    "arr = np.array([1,2,3,4,5,6,7,8,9])"
   ]
  },
  {
   "cell_type": "code",
   "execution_count": null,
   "id": "910e2939-afd6-4697-899f-1dedad980ac0",
   "metadata": {},
   "outputs": [],
   "source": [
    "arr[3]"
   ]
  },
  {
   "cell_type": "code",
   "execution_count": null,
   "id": "d3cceca6-cea8-4cec-9e10-1e4d47e9a692",
   "metadata": {},
   "outputs": [],
   "source": [
    "arr"
   ]
  },
  {
   "cell_type": "code",
   "execution_count": null,
   "id": "282778d6-b759-4174-96be-783190553758",
   "metadata": {},
   "outputs": [],
   "source": [
    "arr[:,:]"
   ]
  },
  {
   "cell_type": "code",
   "execution_count": null,
   "id": "9ac1732a-743d-4aec-949e-976dbe98e8d9",
   "metadata": {},
   "outputs": [],
   "source": [
    "arr[0:2,0:2]"
   ]
  },
  {
   "cell_type": "code",
   "execution_count": null,
   "id": "c46be83c-ebe9-4312-82c0-7575b5b8a59a",
   "metadata": {},
   "outputs": [],
   "source": [
    "arr[:,3:]"
   ]
  },
  {
   "cell_type": "code",
   "execution_count": null,
   "id": "514a4225-e4bb-4a74-bfdd-621a85a47292",
   "metadata": {},
   "outputs": [],
   "source": [
    "arr[1:3,2:4]"
   ]
  },
  {
   "cell_type": "code",
   "execution_count": null,
   "id": "897696ff-ec31-4545-97a2-07a83fe59273",
   "metadata": {},
   "outputs": [],
   "source": [
    "arr=np.arange(0,10)"
   ]
  },
  {
   "cell_type": "code",
   "execution_count": null,
   "id": "0fe21b9c-d476-403d-b0c6-e1b2eb0fff9c",
   "metadata": {},
   "outputs": [],
   "source": [
    "arr"
   ]
  },
  {
   "cell_type": "code",
   "execution_count": null,
   "id": "c7d7deaa-da72-4321-a70b-930e66a2d8c6",
   "metadata": {},
   "outputs": [],
   "source": [
    "arr[1:2,1:4] '''- [1:2, 1:4]:\n",
    "- 1:2 selects rows — starting from index 1 up to (but not including) index 2.\n",
    "- 1:4 selects columns — starting from index 1 up to (but not including) index 4.\n",
    "'''"
   ]
  },
  {
   "cell_type": "code",
   "execution_count": null,
   "id": "6732a264-48c9-491a-b999-c4b161e0dd91",
   "metadata": {},
   "outputs": [],
   "source": [
    "np.linspace(1,10,num=50) # np.linspace(start, stop, num) creates evenly spaced numbers between start and stop.\n"
   ]
  },
  {
   "cell_type": "code",
   "execution_count": null,
   "id": "ce810f11-72d4-40b3-b36a-94cfc228d7d3",
   "metadata": {},
   "outputs": [],
   "source": [
    "# copy function and broadcasting .\n",
    "arr[3:]=100"
   ]
  },
  {
   "cell_type": "code",
   "execution_count": null,
   "id": "c81574f5-7873-49f2-b85b-b7b6b20562b6",
   "metadata": {},
   "outputs": [],
   "source": [
    "arr"
   ]
  },
  {
   "cell_type": "code",
   "execution_count": null,
   "id": "94002081-9e74-4879-bcda-56fdb6b26d13",
   "metadata": {},
   "outputs": [],
   "source": []
  },
  {
   "cell_type": "code",
   "execution_count": null,
   "id": "97234926-ccde-40c1-a971-f17fdae4b76d",
   "metadata": {},
   "outputs": [],
   "source": [
    "arr1[3:]=500 # array is actually a refernce type . \n",
    "#this replacement of 500 is updated the arr also and thats what bascially  called refernce type \n",
    "print(arr1) # matlab ki refernce type m varibales ki memory saath m story hoti h agar ak ki memory update kari tho uska impact dusre variable par bhi padega "
   ]
  },
  {
   "cell_type": "code",
   "execution_count": null,
   "id": "a331727b-ffde-40cf-864a-438b11b54dde",
   "metadata": {},
   "outputs": [],
   "source": [
    "arr1=arr\n",
    "print(arr)"
   ]
  },
  {
   "cell_type": "code",
   "execution_count": null,
   "id": "a479c1e8-fdc3-45e0-a4de-515cdaa9f0ec",
   "metadata": {},
   "outputs": [],
   "source": [
    "arr1=arr.copy() '''here copying arr ki sari values ko kahi or memory m copy karke store kar \n",
    "raha h matlb creating another space to store the values of arr ab vo values\n",
    "arr1 k sath sharing m nhi rehe rahi ak h memory m''' "
   ]
  },
  {
   "cell_type": "code",
   "execution_count": null,
   "id": "16434172-94d1-41d0-98bf-37a790dbfeb8",
   "metadata": {},
   "outputs": [],
   "source": [
    "print(arr)\n",
    "arr1[3:]=1000\n",
    "print(arr1)"
   ]
  },
  {
   "cell_type": "code",
   "execution_count": null,
   "id": "05b2d52f-af1a-4868-a7ee-646170e48f34",
   "metadata": {},
   "outputs": [],
   "source": [
    "# some conditions very useful in eda \n",
    "val = 2 \n",
    "arr<2  \n",
    "''' bhi values 2 s small h arr m vo bata rha h boolean ki form m but we want \n",
    "actual values of this array '''\n",
    "arr[arr<2]\n",
    "arr[arr<300]"
   ]
  },
  {
   "cell_type": "code",
   "execution_count": null,
   "id": "5f503676-a957-46c8-ac02-259da9af1c4b",
   "metadata": {},
   "outputs": [],
   "source": [
    "# creat earrays and reshape \n",
    "np.arange(0,10).reshape(5,2)"
   ]
  },
  {
   "cell_type": "code",
   "execution_count": null,
   "id": "d6042d92-f643-42e3-b939-09a4e48584a4",
   "metadata": {},
   "outputs": [],
   "source": [
    "# this function can replace every values by one \n",
    "# and koe si bhi type m apn change kar sakte h one ko by using the parameter dtype \n",
    "#why no commas ?\n",
    "'''It does this deliberately to make the arrays easier to visually scan\n",
    "—especially in matrices or higher-dimensional arrays.'''\n",
    "\n",
    "\n",
    "print(np.ones(4,dtype=str))\n",
    "print(np.ones(4,dtype=int))\n",
    "print(np.ones(4,dtype=float))\n"
   ]
  },
  {
   "cell_type": "code",
   "execution_count": null,
   "id": "09975363-4c4a-4b50-a258-b8bdc1ebe05d",
   "metadata": {},
   "outputs": [],
   "source": [
    "## random distribution\n",
    "np.random.rand(3,3)"
   ]
  },
  {
   "cell_type": "code",
   "execution_count": 45,
   "id": "d2e4dabb-bb4b-4061-9372-8106242af5bb",
   "metadata": {},
   "outputs": [
    {
     "data": {
      "text/plain": [
       "array([[ 0.05011163,  0.90930983, -0.06643243,  1.35434507],\n",
       "       [ 0.41644998,  0.42800061,  0.64635542,  0.14105436],\n",
       "       [-1.88620044, -0.61493464, -1.15655474, -0.56788726],\n",
       "       [ 0.17460278,  0.43979294,  0.39461947, -1.62955287]])"
      ]
     },
     "execution_count": 45,
     "metadata": {},
     "output_type": "execute_result"
    }
   ],
   "source": [
    "# another random distribution function\n",
    "\n",
    "arr_ex = np.random.randn(4,4)\n",
    "arr_ex\n"
   ]
  },
  {
   "cell_type": "code",
   "execution_count": 46,
   "id": "69e5303f-4420-442e-a359-7258124b4193",
   "metadata": {},
   "outputs": [],
   "source": [
    "import seaborn as sns\n",
    "import pandas as pd "
   ]
  },
  {
   "cell_type": "code",
   "execution_count": 47,
   "id": "ac65cf5f-53a6-4ed6-ad5c-1cc02952b5fa",
   "metadata": {},
   "outputs": [
    {
     "data": {
      "text/plain": [
       "<seaborn.axisgrid.FacetGrid at 0x1f90e4ceba0>"
      ]
     },
     "execution_count": 47,
     "metadata": {},
     "output_type": "execute_result"
    },
    {
     "data": {
      "image/png": "[encoded data removed]",
      "text/plain": [
       "<Figure size 558.875x500 with 1 Axes>"
      ]
     },
     "metadata": {},
     "output_type": "display_data"
    }
   ],
   "source": [
    "sns.displot(pd.DataFrame(arr_ex.reshape(16,1)))"
   ]
  },
  {
   "cell_type": "code",
   "execution_count": null,
   "id": "a2a276a8-0578-42ef-8a76-002ad68ac87a",
   "metadata": {},
   "outputs": [],
   "source": [
    "np.random.randint(0,100,8).reshape(2,4)"
   ]
  },
  {
   "cell_type": "code",
   "execution_count": null,
   "id": "4302d61d-bb6a-4d98-af2b-6b2431287b05",
   "metadata": {},
   "outputs": [],
   "source": [
    "np.random.random_sample((1,5)) # use shift + tab to know more , happy coding !!"
   ]
  },
  {
   "cell_type": "code",
   "execution_count": null,
   "id": "c405e884-4d14-4901-8871-8981dfb4c513",
   "metadata": {},
   "outputs": [],
   "source": []
  }
 ],
 "metadata": {
  "kernelspec": {
   "display_name": "Python 3 (ipykernel)",
   "language": "python",
   "name": "python3"
  },
  "language_info": {
   "codemirror_mode": {
    "name": "ipython",
    "version": 3
   },
   "file_extension": ".py",
   "mimetype": "text/x-python",
   "name": "python",
   "nbconvert_exporter": "python",
   "pygments_lexer": "ipython3",
   "version": "3.13.5"
  }
 },
 "nbformat": 4,
 "nbformat_minor": 5
}
