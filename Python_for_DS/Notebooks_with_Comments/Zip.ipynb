{
 "cells": [
  {
   "cell_type": "markdown",
   "id": "7fb361e3-0e81-46a8-b314-b0869d578bc6",
   "metadata": {},
   "source": [
    "### As a Data Scienctist , you must have strong command on python "
   ]
  },
  {
   "cell_type": "markdown",
   "id": "a7ece11a-e264-40c2-a2e9-cca4f56496ea",
   "metadata": {},
   "source": [
    "### What are the ZIP function ?\n",
    "\n",
    "- you are able to iterate through multiple iterators\n",
    "- it is an iterator so we can use for loop etc\n",
    "- we can use it in multiple features and data pre process and feature enginerring "
   ]
  },
  {
   "cell_type": "code",
   "execution_count": 9,
   "id": "97e08755-f9a0-46a1-87c5-869d93e65211",
   "metadata": {},
   "outputs": [],
   "source": [
    "lst1=['krish','kunal','david']\n",
    "lst2=['a','b','c']\n"
   ]
  },
  {
   "cell_type": "code",
   "execution_count": 20,
   "id": "5626614a-a532-4edd-8bee-669825785bd4",
   "metadata": {},
   "outputs": [
    {
     "name": "stdout",
     "output_type": "stream",
     "text": [
      "krish\n",
      "kunal\n",
      "david\n"
     ]
    }
   ],
   "source": [
    "for i in lst1:\n",
    "    print(i)"
   ]
  },
  {
   "cell_type": "code",
   "execution_count": 21,
   "id": "6a038b56-1893-44e2-ad7d-1fe8486159d7",
   "metadata": {},
   "outputs": [],
   "source": [
    "output=zip(lst1,lst2)"
   ]
  },
  {
   "cell_type": "code",
   "execution_count": 6,
   "id": "dbea3bad-c19d-48b3-9df9-fb144b71c336",
   "metadata": {},
   "outputs": [
    {
     "data": {
      "text/plain": [
       "<zip at 0x128c5dde9c0>"
      ]
     },
     "execution_count": 6,
     "metadata": {},
     "output_type": "execute_result"
    }
   ],
   "source": [
    "output"
   ]
  },
  {
   "cell_type": "code",
   "execution_count": 7,
   "id": "e81a81b1-1ca2-4071-9971-4f83484b8293",
   "metadata": {},
   "outputs": [
    {
     "data": {
      "text/plain": [
       "[('krish', 'a'), ('kunal', 'b'), ('david', 'c')]"
      ]
     },
     "execution_count": 7,
     "metadata": {},
     "output_type": "execute_result"
    }
   ],
   "source": [
    "list(output)"
   ]
  },
  {
   "cell_type": "code",
   "execution_count": 8,
   "id": "3336f891-b724-4204-b7c3-fff6073ff5e7",
   "metadata": {},
   "outputs": [
    {
     "ename": "StopIteration",
     "evalue": "",
     "output_type": "error",
     "traceback": [
      "\u001b[1;31m---------------------------------------------------------------------------\u001b[0m",
      "\u001b[1;31mStopIteration\u001b[0m                             Traceback (most recent call last)",
      "Cell \u001b[1;32mIn[8], line 2\u001b[0m\n\u001b[0;32m      1\u001b[0m \u001b[38;5;66;03m### zip object is an iterator \u001b[39;00m\n\u001b[1;32m----> 2\u001b[0m \u001b[38;5;28mnext\u001b[39m(output)\n",
      "\u001b[1;31mStopIteration\u001b[0m: "
     ]
    }
   ],
   "source": [
    "### zip object is an iterator \n",
    "next(output)\n",
    "\n",
    "# why this message , because we already iterated through all of elements. \n",
    "\n",
    "# so just again executing the for loop and creating an obj"
   ]
  },
  {
   "cell_type": "code",
   "execution_count": 13,
   "id": "ff56a440-2ef7-4700-a83e-4562c753ea8e",
   "metadata": {},
   "outputs": [
    {
     "data": {
      "text/plain": [
       "('kunal', 'b')"
      ]
     },
     "execution_count": 13,
     "metadata": {},
     "output_type": "execute_result"
    }
   ],
   "source": [
    "### zip object is an iterator  \n",
    "\n",
    "### here you can see next is iterating through all of the iterators . \n",
    "\n",
    "\n",
    "next(output)\n"
   ]
  },
  {
   "cell_type": "code",
   "execution_count": 19,
   "id": "132765f1-239e-4282-b0b2-b094348f6d85",
   "metadata": {},
   "outputs": [
    {
     "name": "stdout",
     "output_type": "stream",
     "text": [
      "krish a\n",
      "kunal b\n",
      "david c\n"
     ]
    }
   ],
   "source": [
    "# what we have in output is tuples in which you know there is 2 values in each tuple.\n",
    "# for reading those both values we will use i and j instead of using only i because there is two valuse in each tuples\n",
    "\n",
    "for i,j in output:\n",
    "    print(i,j)"
   ]
  },
  {
   "cell_type": "code",
   "execution_count": 23,
   "id": "e56e1905-bdc4-4639-9cb5-33566e1fc67a",
   "metadata": {},
   "outputs": [],
   "source": [
    "# what if we have 3 lists instead of 2 lists . lets cread 3rd one \n",
    "\n",
    "lst1=['krish','kunal','david']\n",
    "lst2=['a','b','c']\n",
    "lst3=[1,2,3]\n",
    "\n"
   ]
  },
  {
   "cell_type": "code",
   "execution_count": 25,
   "id": "1cf53a47-f752-43f5-897e-5a6acf82c96b",
   "metadata": {},
   "outputs": [
    {
     "name": "stdout",
     "output_type": "stream",
     "text": [
      "krish a 1\n",
      "kunal b 2\n",
      "david c 3\n"
     ]
    }
   ],
   "source": [
    "output=zip(lst1,lst2,lst3)\n",
    "for i,j,k in output:\n",
    "    print(i,j,k)"
   ]
  },
  {
   "cell_type": "code",
   "execution_count": 28,
   "id": "7c13bd02-a700-4c21-b129-d1f30fa3e4ff",
   "metadata": {},
   "outputs": [],
   "source": [
    "# what if we dont have equal number of elemetns in each list then what would happen. \n",
    "\n",
    "# what if we have 3 lists instead of 2 lists . lets cread 3rd one \n",
    "\n",
    "# what would happen now ? \n",
    "\n",
    "# nothing will happen , it will like see ooh , there is int 9 at 4th positon in the lst1 so it will and check like lets see if there is any element in positon 4 in other lst2 and lst3 and it says nah  , there is nothing so it will just ignore the number 9 and there is no impace of it  \n",
    "\n",
    "#it will just ignore the 9 because there is nothing at 4th position in the lst2 and lst3 to iterate so 9 would just get ignore \n",
    "\n",
    "lst1=['krish','kunal','david', 9 ]\n",
    "lst2=['a','b','c']\n",
    "lst3=[1,2,3]\n",
    "\n"
   ]
  },
  {
   "cell_type": "code",
   "execution_count": 29,
   "id": "6880c594-1037-4b2d-b0b7-7abf5182bdd1",
   "metadata": {},
   "outputs": [
    {
     "name": "stdout",
     "output_type": "stream",
     "text": [
      "krish a 1\n",
      "kunal b 2\n",
      "david c 3\n"
     ]
    }
   ],
   "source": [
    "output=zip(lst1,lst2,lst3)\n",
    "for i,j,k in output:\n",
    "    print(i,j,k)"
   ]
  },
  {
   "cell_type": "code",
   "execution_count": 30,
   "id": "46ebf503-3453-4992-a15d-13f5868fc425",
   "metadata": {},
   "outputs": [
    {
     "data": {
      "text/plain": [
       "[]"
      ]
     },
     "execution_count": 30,
     "metadata": {},
     "output_type": "execute_result"
    }
   ],
   "source": [
    "# now lets create a empty zip object \n",
    "\n",
    "list(zip())"
   ]
  },
  {
   "cell_type": "code",
   "execution_count": null,
   "id": "0a247229-e714-4c22-a20e-3229c7a75ba6",
   "metadata": {},
   "outputs": [],
   "source": [
    "# we can also combine dict inside our zip functionality "
   ]
  },
  {
   "cell_type": "code",
   "execution_count": 32,
   "id": "0af144f7-3e93-4edf-b963-a5e2afcaa1e1",
   "metadata": {},
   "outputs": [],
   "source": [
    "dict1 = {'name':'kunal','lst_name':'Saini','age':17}\n",
    "dict2 = {'name':'david','lst_name':'melon','age':25}"
   ]
  },
  {
   "cell_type": "code",
   "execution_count": 40,
   "id": "a001bd09-086c-457b-9695-447728a2fcea",
   "metadata": {},
   "outputs": [],
   "source": [
    "# if we dont use the .items() , it will give us an entire dictionary which is not going to be handy for us so thats we are trying to the keys and values in a tuples format . we are using it so that we can combine this  inside the zip itself.\n",
    "dictionary=zip(dict1.items(),dict2.items())"
   ]
  },
  {
   "cell_type": "code",
   "execution_count": 41,
   "id": "88d7bdc6-2726-400d-9ae2-502ae27c3fdd",
   "metadata": {},
   "outputs": [
    {
     "data": {
      "text/plain": [
       "{'name': 'kunal', 'lst_name': 'Saini', 'age': 17}"
      ]
     },
     "execution_count": 41,
     "metadata": {},
     "output_type": "execute_result"
    }
   ],
   "source": [
    "dict1"
   ]
  },
  {
   "cell_type": "code",
   "execution_count": 42,
   "id": "b536a184-3131-423d-96b2-0577b27155ae",
   "metadata": {},
   "outputs": [
    {
     "name": "stdout",
     "output_type": "stream",
     "text": [
      "name kunal\n",
      "name david\n",
      "lst_name Saini\n",
      "lst_name melon\n",
      "age 17\n",
      "age 25\n"
     ]
    }
   ],
   "source": [
    "for (i,j),(i2,j2) in dictionary:\n",
    "    print(i,j)\n",
    "    print(i2,j2)"
   ]
  },
  {
   "cell_type": "code",
   "execution_count": null,
   "id": "2651719b-acc8-4268-861a-57a9725e7bb6",
   "metadata": {},
   "outputs": [],
   "source": []
  }
 ],
 "metadata": {
  "kernelspec": {
   "display_name": "Python 3 (ipykernel)",
   "language": "python",
   "name": "python3"
  },
  "language_info": {
   "codemirror_mode": {
    "name": "ipython",
    "version": 3
   },
   "file_extension": ".py",
   "mimetype": "text/x-python",
   "name": "python",
   "nbconvert_exporter": "python",
   "pygments_lexer": "ipython3",
   "version": "3.13.5"
  }
 },
 "nbformat": 4,
 "nbformat_minor": 5
}
