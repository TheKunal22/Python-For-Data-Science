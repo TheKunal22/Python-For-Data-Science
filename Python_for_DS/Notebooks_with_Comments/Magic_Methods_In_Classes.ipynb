{
 "cells": [
  {
   "cell_type": "markdown",
   "id": "604b9b85-7664-4803-8763-b7d21ae32824",
   "metadata": {},
   "source": [
    "# Python OOOPS-Magic Methods In Classes"
   ]
  },
  {
   "cell_type": "code",
   "execution_count": 1,
   "id": "c27a9646-a078-434a-8d3e-7b791f939707",
   "metadata": {},
   "outputs": [],
   "source": [
    "### All the classes variables are public \n",
    "### car blueprint\n",
    "\n",
    "class Car():\n",
    "    def __init__(self,windows,doors,enginetype):\n",
    "        self.windows=windows\n",
    "        self.doors=doors\n",
    "        self.enginetype=enginetype\n",
    "\n",
    "    # this is a method of our class .\n",
    "    def drive(self):\n",
    "        print(\"the person drives the car\")"
   ]
  },
  {
   "cell_type": "code",
   "execution_count": 2,
   "id": "1d05c3ae-0aa1-4f6e-ac8f-21248da9d85f",
   "metadata": {},
   "outputs": [],
   "source": [
    "c=Car(4,5,'disel')"
   ]
  },
  {
   "cell_type": "code",
   "execution_count": 3,
   "id": "8f812513-b782-4b93-9920-e1925a717cba",
   "metadata": {},
   "outputs": [
    {
     "data": {
      "text/plain": [
       "<__main__.Car at 0x14925481fd0>"
      ]
     },
     "execution_count": 3,
     "metadata": {},
     "output_type": "execute_result"
    }
   ],
   "source": [
    "c"
   ]
  },
  {
   "cell_type": "code",
   "execution_count": 4,
   "id": "fe8adc85-2072-4a87-933f-7354c2866c42",
   "metadata": {},
   "outputs": [
    {
     "data": {
      "text/plain": [
       "['__class__',\n",
       " '__delattr__',\n",
       " '__dict__',\n",
       " '__dir__',\n",
       " '__doc__',\n",
       " '__eq__',\n",
       " '__firstlineno__',\n",
       " '__format__',\n",
       " '__ge__',\n",
       " '__getattribute__',\n",
       " '__getstate__',\n",
       " '__gt__',\n",
       " '__hash__',\n",
       " '__init__',\n",
       " '__init_subclass__',\n",
       " '__le__',\n",
       " '__lt__',\n",
       " '__module__',\n",
       " '__ne__',\n",
       " '__new__',\n",
       " '__reduce__',\n",
       " '__reduce_ex__',\n",
       " '__repr__',\n",
       " '__setattr__',\n",
       " '__sizeof__',\n",
       " '__static_attributes__',\n",
       " '__str__',\n",
       " '__subclasshook__',\n",
       " '__weakref__',\n",
       " 'doors',\n",
       " 'drive',\n",
       " 'enginetype',\n",
       " 'windows']"
      ]
     },
     "execution_count": 4,
     "metadata": {},
     "output_type": "execute_result"
    }
   ],
   "source": [
    "dir(c)"
   ]
  },
  {
   "cell_type": "code",
   "execution_count": null,
   "id": "7e1cc394-fb86-4858-b697-ef5832e66942",
   "metadata": {},
   "outputs": [],
   "source": [
    "''' all these methods above you are seeing are called magic methods in classs ? \n",
    "\n",
    "    why ?\n",
    "\n",
    "    because we are trying to create a object here and it is happening internally , this init \n",
    "    called internally , called from backend . \n",
    "'''\n",
    "\n",
    "''' we can overwritre this magic methods too '''\n",
    "\n"
   ]
  },
  {
   "cell_type": "code",
   "execution_count": 5,
   "id": "b24c2783-046d-4267-b2fa-d86a6c49da4a",
   "metadata": {},
   "outputs": [
    {
     "name": "stdout",
     "output_type": "stream",
     "text": [
      "<__main__.Car object at 0x0000014925481FD0>\n"
     ]
    }
   ],
   "source": [
    "print(c)"
   ]
  },
  {
   "cell_type": "markdown",
   "id": "96241220-e86a-4b0c-8379-e8b22dc57428",
   "metadata": {},
   "source": [
    "we are seeing an address of c here at the above cell. question is why are we seeing this message when we are printing this c , we are seeing this object with respect to address because of the str method is called by default but what about if we wants to overwrite it or wants to display something else instead of object with respect to address . we will define __str__ in the class now to overwrite this message . "
   ]
  },
  {
   "cell_type": "code",
   "execution_count": 6,
   "id": "e16c1764-0713-481f-b767-1ec96e9194de",
   "metadata": {},
   "outputs": [],
   "source": [
    "### All the classes variables are public \n",
    "### car blueprint\n",
    "\n",
    "class Car():\n",
    "    def __init__(self,windows,doors,enginetype):\n",
    "        self.windows=windows\n",
    "        self.doors=doors\n",
    "        self.enginetype=enginetype\n",
    "\n",
    "    def __str__(self):\n",
    "        print('the object has been initalized')\n",
    "\n",
    "    # this is a method of our class .\n",
    "    def drive(self):\n",
    "        print(\"the person drives the car\")"
   ]
  },
  {
   "cell_type": "code",
   "execution_count": 7,
   "id": "c1c5b9b0-d894-4757-8fbb-d742cf68636b",
   "metadata": {},
   "outputs": [],
   "source": [
    "c=Car(4,5,'Diesel')"
   ]
  },
  {
   "cell_type": "code",
   "execution_count": 8,
   "id": "8531d7d3-d246-4362-8261-fc655ff9b610",
   "metadata": {},
   "outputs": [
    {
     "name": "stdout",
     "output_type": "stream",
     "text": [
      "the object has been initalized\n"
     ]
    },
    {
     "ename": "TypeError",
     "evalue": "__str__ returned non-string (type NoneType)",
     "output_type": "error",
     "traceback": [
      "\u001b[1;31m---------------------------------------------------------------------------\u001b[0m",
      "\u001b[1;31mTypeError\u001b[0m                                 Traceback (most recent call last)",
      "Cell \u001b[1;32mIn[8], line 1\u001b[0m\n\u001b[1;32m----> 1\u001b[0m \u001b[38;5;28mprint\u001b[39m(c)\n",
      "\u001b[1;31mTypeError\u001b[0m: __str__ returned non-string (type NoneType)"
     ]
    }
   ],
   "source": [
    "print(c)"
   ]
  },
  {
   "cell_type": "markdown",
   "id": "0ed81553-0b9b-42da-bd49-0392ad67f3d0",
   "metadata": {},
   "source": [
    "we are getting this message because magic method does not print str inside the class we have to written the string . "
   ]
  },
  {
   "cell_type": "code",
   "execution_count": 18,
   "id": "753c26a4-787f-4638-aa77-645016d1d803",
   "metadata": {},
   "outputs": [],
   "source": [
    "# now changing the print to return in the str method . \n",
    "\n",
    "### All the classes variables are public \n",
    "### car blueprint\n",
    "\n",
    "class Car():\n",
    "    def __init__(self,windows,doors,enginetype):\n",
    "        self.windows=windows\n",
    "        self.doors=doors\n",
    "        self.enginetype=enginetype\n",
    "\n",
    "    def __str__(self):\n",
    "        return \"the object has been initalized\"\n",
    "\n",
    "    def __sizeof__(self):\n",
    "        return \"this display the size of object\"\n",
    "\n",
    "    # this is a method of our class .\n",
    "    def drive(self):\n",
    "        print(\"the person drives the car\")"
   ]
  },
  {
   "cell_type": "code",
   "execution_count": 19,
   "id": "7d4d07c9-119c-4cfe-b18d-c6ff7bfa556c",
   "metadata": {},
   "outputs": [],
   "source": [
    "c=Car(3,5,'diesel')\n"
   ]
  },
  {
   "cell_type": "code",
   "execution_count": 20,
   "id": "3a660f37-f4ed-4432-be79-a9534ad8c2df",
   "metadata": {},
   "outputs": [
    {
     "name": "stdout",
     "output_type": "stream",
     "text": [
      "the object has been initalized\n"
     ]
    }
   ],
   "source": [
    "print(c)"
   ]
  },
  {
   "cell_type": "markdown",
   "id": "07dbacc6-b509-4a08-8d4b-b38f21636a2d",
   "metadata": {},
   "source": [
    "now we are going to use another method which is **size of** to check the size of the particualr object "
   ]
  },
  {
   "cell_type": "code",
   "execution_count": 22,
   "id": "b360cf93-6e37-43ec-a922-87be0c548bc8",
   "metadata": {},
   "outputs": [
    {
     "data": {
      "text/plain": [
       "'this display the size of object'"
      ]
     },
     "execution_count": 22,
     "metadata": {},
     "output_type": "execute_result"
    }
   ],
   "source": [
    "c.__sizeof__()"
   ]
  },
  {
   "cell_type": "code",
   "execution_count": 23,
   "id": "eae5759a-250d-403e-b68b-7345e8a83465",
   "metadata": {},
   "outputs": [
    {
     "data": {
      "text/plain": [
       "['__class__',\n",
       " '__delattr__',\n",
       " '__dict__',\n",
       " '__dir__',\n",
       " '__doc__',\n",
       " '__eq__',\n",
       " '__firstlineno__',\n",
       " '__format__',\n",
       " '__ge__',\n",
       " '__getattribute__',\n",
       " '__getstate__',\n",
       " '__gt__',\n",
       " '__hash__',\n",
       " '__init__',\n",
       " '__init_subclass__',\n",
       " '__le__',\n",
       " '__lt__',\n",
       " '__module__',\n",
       " '__ne__',\n",
       " '__new__',\n",
       " '__reduce__',\n",
       " '__reduce_ex__',\n",
       " '__repr__',\n",
       " '__setattr__',\n",
       " '__sizeof__',\n",
       " '__static_attributes__',\n",
       " '__str__',\n",
       " '__subclasshook__',\n",
       " '__weakref__',\n",
       " 'doors',\n",
       " 'drive',\n",
       " 'enginetype',\n",
       " 'windows']"
      ]
     },
     "execution_count": 23,
     "metadata": {},
     "output_type": "execute_result"
    }
   ],
   "source": [
    "dir(c)"
   ]
  },
  {
   "cell_type": "markdown",
   "id": "7d5743a7-c167-4c2c-90c0-73c1380bd4fe",
   "metadata": {},
   "source": [
    "lets now use another method which is __new__ and keep in mind this message is used before __init__"
   ]
  },
  {
   "cell_type": "code",
   "execution_count": 27,
   "id": "905a5c23-07ca-4330-bcf1-e6768142b544",
   "metadata": {},
   "outputs": [],
   "source": [
    "# now changing the print to return in the str method . \n",
    "\n",
    "### All the classes variables are public \n",
    "### car blueprint\n",
    "\n",
    "class Car():\n",
    "    def __new__(self,windows,doors,enginetype):\n",
    "        print(\"The object has started getting initalized\")\n",
    "    def __init__(self,windows,doors,enginetype):\n",
    "        self.windows=windows\n",
    "        self.doors=doors\n",
    "        self.enginetype=enginetype\n",
    "\n",
    "    def __str__(self):\n",
    "        return \"the object has been initalized\"\n",
    "\n",
    "    def __sizeof__(self):\n",
    "        return \"this display the size of object\"\n",
    "\n",
    "    # this is a method of our class .\n",
    "    def drive(self):\n",
    "        print(\"the person drives the car\")"
   ]
  },
  {
   "cell_type": "code",
   "execution_count": 30,
   "id": "9679c3d9-3440-41e8-8839-6a7058c052e2",
   "metadata": {},
   "outputs": [
    {
     "name": "stdout",
     "output_type": "stream",
     "text": [
      "The object has started getting initalized\n"
     ]
    }
   ],
   "source": [
    "c=Car(4,5,'diesel')"
   ]
  },
  {
   "cell_type": "markdown",
   "id": "862fb1e7-852a-4a26-af0f-c03baea4aa26",
   "metadata": {},
   "source": [
    "first new method going to execute and then init . "
   ]
  },
  {
   "cell_type": "code",
   "execution_count": null,
   "id": "09ff94a3-491f-418b-bda9-19be8fdda6f0",
   "metadata": {},
   "outputs": [],
   "source": []
  }
 ],
 "metadata": {
  "kernelspec": {
   "display_name": "Python 3 (ipykernel)",
   "language": "python",
   "name": "python3"
  },
  "language_info": {
   "codemirror_mode": {
    "name": "ipython",
    "version": 3
   },
   "file_extension": ".py",
   "mimetype": "text/x-python",
   "name": "python",
   "nbconvert_exporter": "python",
   "pygments_lexer": "ipython3",
   "version": "3.13.5"
  }
 },
 "nbformat": 4,
 "nbformat_minor": 5
}
