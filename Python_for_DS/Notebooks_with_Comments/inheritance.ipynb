{
 "cells": [
  {
   "cell_type": "markdown",
   "id": "22764381-0388-45c0-8f2f-f1ce0df65f3d",
   "metadata": {},
   "source": [
    "# **OOPS-Multiple Inheritance In Python**"
   ]
  },
  {
   "cell_type": "markdown",
   "id": "487f4ae1-c73f-4bed-ab0b-fe8ec1fd786c",
   "metadata": {},
   "source": [
    "In Python, inheritance is a way for one class (child/subclass) to get the properties and methods of another class (parent/superclass) so you don’t have to rewrite the same code.\n",
    "\n",
    "\n",
    "What is inheritance?\n",
    "It’s like saying: “This new class is a more specific version of another class.”\n",
    "\n",
    "The child class inherits attributes and methods from the parent class.\n",
    "\n",
    "for example we can take is this code block for better understanding this \n",
    "\n",
    "class Animal:  # Parent class\n",
    "    def speak(self):\n",
    "        print(\"Some generic sound\")\n",
    "\n",
    "class Dog(Animal):  # Child class\n",
    "    def speak(self):  # Overriding parent method\n",
    "        print(\"Woof!\")\n",
    "\n",
    "dog = Dog()\n",
    "dog.speak()  # Output: Woof!\n",
    "\n",
    "Dog automatically gets everything from Animal.\n",
    "\n",
    "But Dog changes the speak() method to be dog-specific.\n",
    "\n",
    "It can:\n",
    "- Use them as they are\n",
    "- Change them (override)\n",
    "- Add new ones\n",
    "\n",
    "Inheritance = Getting ready-made features from another class, just like children get traits from parents."
   ]
  },
  {
   "cell_type": "code",
   "execution_count": 1,
   "id": "eaec51a2-0ee8-4aa3-a29a-9112b3c0a2e4",
   "metadata": {},
   "outputs": [],
   "source": [
    "class A:\n",
    "    def method1(self):\n",
    "        print('A class method is called')"
   ]
  },
  {
   "cell_type": "code",
   "execution_count": 4,
   "id": "c0db404a-6e0c-458c-9e37-8d3f0b2b0725",
   "metadata": {},
   "outputs": [],
   "source": [
    "class B(A):\n",
    "    def method1(self):\n",
    "        print('B class method is called')\n",
    "    "
   ]
  },
  {
   "cell_type": "code",
   "execution_count": 5,
   "id": "7d66cdd0-67d9-419a-a460-f9dfad155456",
   "metadata": {},
   "outputs": [],
   "source": [
    "class C(A):\n",
    "    def method1(self):\n",
    "         print('B class method is called')\n",
    "    \n",
    "    "
   ]
  },
  {
   "cell_type": "code",
   "execution_count": 12,
   "id": "fcea89d0-e3a5-4c50-a467-e843f131c55b",
   "metadata": {},
   "outputs": [],
   "source": [
    "class D(B,C):\n",
    "    def method1(self):\n",
    "        print('D class method is called')\n",
    "        A.method1(self)\n",
    "        B.method1(self)\n",
    "        C.method1(self)"
   ]
  },
  {
   "cell_type": "code",
   "execution_count": 13,
   "id": "c95f421e-7859-4f0b-af6e-e41fbf697f8f",
   "metadata": {},
   "outputs": [],
   "source": [
    "d=D()"
   ]
  },
  {
   "cell_type": "code",
   "execution_count": 16,
   "id": "0d08edbe-9f7b-4e9d-bb9b-797610ee0909",
   "metadata": {},
   "outputs": [
    {
     "name": "stdout",
     "output_type": "stream",
     "text": [
      "D class method is called\n",
      "A method is called\n",
      "B class method is called\n",
      "B class method is called\n"
     ]
    }
   ],
   "source": [
    "# we can also do it like this like mentioning every inheritence class into method1 of class d using self to refrenece the instance or class object \n",
    "\n",
    "# from the d even though we are inherting from two base classes and if this particular base class are inherting from parent class there we  can also access the method and call them .\n",
    "\n",
    "d.method1()"
   ]
  },
  {
   "cell_type": "code",
   "execution_count": 17,
   "id": "0c49f645-2516-41d9-a7e9-72da4afefe58",
   "metadata": {},
   "outputs": [
    {
     "name": "stdout",
     "output_type": "stream",
     "text": [
      "B class method is called\n"
     ]
    }
   ],
   "source": [
    "B.method1(d)"
   ]
  },
  {
   "cell_type": "code",
   "execution_count": 19,
   "id": "445dfee5-d9a8-449f-8f62-6cbbba8fbe37",
   "metadata": {},
   "outputs": [
    {
     "name": "stdout",
     "output_type": "stream",
     "text": [
      "A method is called\n"
     ]
    }
   ],
   "source": [
    "A.method1(d)"
   ]
  },
  {
   "cell_type": "code",
   "execution_count": 18,
   "id": "16fc3bb1-8ca9-4e2f-ad41-f772a5dedfbc",
   "metadata": {},
   "outputs": [
    {
     "name": "stdout",
     "output_type": "stream",
     "text": [
      "B class method is called\n"
     ]
    }
   ],
   "source": [
    "C.method1(d)"
   ]
  },
  {
   "cell_type": "code",
   "execution_count": null,
   "id": "2a46f606-19ac-4bea-8833-11f43f9a1b29",
   "metadata": {},
   "outputs": [],
   "source": []
  },
  {
   "cell_type": "code",
   "execution_count": null,
   "id": "241dba2f-b2f2-46f3-9bfd-b0609bf7d278",
   "metadata": {},
   "outputs": [],
   "source": []
  },
  {
   "cell_type": "code",
   "execution_count": null,
   "id": "bc86f58c-e83a-4b15-a168-9690ab8b8241",
   "metadata": {},
   "outputs": [],
   "source": []
  },
  {
   "cell_type": "code",
   "execution_count": null,
   "id": "cd937e34-6c35-4677-a6b4-93dd26695d20",
   "metadata": {},
   "outputs": [],
   "source": []
  },
  {
   "cell_type": "code",
   "execution_count": null,
   "id": "d1889f2a-39b0-4144-935c-f5e6bc7cf297",
   "metadata": {},
   "outputs": [],
   "source": []
  },
  {
   "cell_type": "code",
   "execution_count": null,
   "id": "93512ef1-ef70-4351-8422-1fc977193318",
   "metadata": {},
   "outputs": [],
   "source": []
  },
  {
   "cell_type": "code",
   "execution_count": null,
   "id": "b220fdbb-2a9e-4c63-ada7-638717e8a913",
   "metadata": {},
   "outputs": [],
   "source": []
  },
  {
   "cell_type": "code",
   "execution_count": null,
   "id": "674bb29f-3539-43ca-90fe-bc655d1ba3ce",
   "metadata": {},
   "outputs": [],
   "source": []
  },
  {
   "cell_type": "code",
   "execution_count": null,
   "id": "2f15376b-bc8a-499c-b1d2-27d64a673d6f",
   "metadata": {},
   "outputs": [],
   "source": []
  },
  {
   "cell_type": "code",
   "execution_count": null,
   "id": "9ef8a7c0-6b70-453c-8baf-190ccfcb16d5",
   "metadata": {},
   "outputs": [],
   "source": []
  },
  {
   "cell_type": "code",
   "execution_count": null,
   "id": "ea310b3b-1c3d-4161-ab8a-8de8454d82a2",
   "metadata": {},
   "outputs": [],
   "source": []
  },
  {
   "cell_type": "code",
   "execution_count": null,
   "id": "97cfff1d-3d32-4bb5-b34c-66c6c2f6c959",
   "metadata": {},
   "outputs": [],
   "source": []
  }
 ],
 "metadata": {
  "kernelspec": {
   "display_name": "Python 3 (ipykernel)",
   "language": "python",
   "name": "python3"
  },
  "language_info": {
   "codemirror_mode": {
    "name": "ipython",
    "version": 3
   },
   "file_extension": ".py",
   "mimetype": "text/x-python",
   "name": "python",
   "nbconvert_exporter": "python",
   "pygments_lexer": "ipython3",
   "version": "3.13.5"
  }
 },
 "nbformat": 4,
 "nbformat_minor": 5
}
