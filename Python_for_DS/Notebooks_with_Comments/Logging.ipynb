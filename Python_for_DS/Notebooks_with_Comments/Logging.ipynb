{
 "cells": [
  {
   "cell_type": "code",
   "execution_count": 1,
   "id": "22f67c94-7a9f-4531-bf5e-65d392498a5e",
   "metadata": {},
   "outputs": [],
   "source": [
    "import logging"
   ]
  },
  {
   "cell_type": "markdown",
   "id": "c8be6b48-4fd7-40f4-9aef-98c4036e65f6",
   "metadata": {},
   "source": [
    "What is Logging in Python ?\n",
    "\n",
    "Logging in Python is the process of recording events that happen while a program runs. If something goes wrong in the software (like an error or unexpected behavior), logging helps by storing details about what happened. These logs can be written to the console or saved in a file, so developers can review them later to understand and fix issues.\n",
    "\n",
    "👉 In short: Logging is like keeping a diary of important events and errors in your program."
   ]
  },
  {
   "cell_type": "code",
   "execution_count": 4,
   "id": "745e6b15-b270-49ab-9db4-2249ef08b827",
   "metadata": {},
   "outputs": [],
   "source": [
    "# press tab + shift to get all information about this logging library .\n",
    "\n",
    "logging.basicConfig(filename='kunal.txt',\n",
    "                    filemode='a',\n",
    "                    format='%(asctime)s %(levelname)s-%(message)s',\n",
    "                    datefmt='%Y-%m-%d %H:%M:%S')"
   ]
  },
  {
   "cell_type": "code",
   "execution_count": 5,
   "id": "cce04a82-3e5b-4710-b8d3-f3c82ad9a4d6",
   "metadata": {},
   "outputs": [],
   "source": [
    "for i in range(0,30):\n",
    "    if(i%2==0):\n",
    "        logging.warning('Log Warning Message')\n",
    "    elif(i%3==0):\n",
    "        logging.critical('Log Critical Message')\n",
    "    else:\n",
    "        logging.error('Log Error Message')"
   ]
  },
  {
   "cell_type": "code",
   "execution_count": 6,
   "id": "2131652b-9e28-47b4-856d-73d26cc78840",
   "metadata": {},
   "outputs": [],
   "source": [
    "i=10\n",
    "try:\n",
    "    i=i/0\n",
    "except:\n",
    "    logging.error('Division by 0 Error')"
   ]
  },
  {
   "cell_type": "code",
   "execution_count": null,
   "id": "8497abce-c147-4599-95d5-1e7749941d99",
   "metadata": {},
   "outputs": [],
   "source": []
  },
  {
   "cell_type": "code",
   "execution_count": null,
   "id": "5ca1b04b-99f7-49cd-ae99-a9c9bf45e684",
   "metadata": {},
   "outputs": [],
   "source": []
  },
  {
   "cell_type": "code",
   "execution_count": null,
   "id": "2e27c78e-2598-4e03-91b2-d3a471762bb2",
   "metadata": {},
   "outputs": [],
   "source": []
  },
  {
   "cell_type": "code",
   "execution_count": null,
   "id": "963ef05e-721c-48a8-a4ee-c38a8704dcf9",
   "metadata": {},
   "outputs": [],
   "source": []
  },
  {
   "cell_type": "code",
   "execution_count": null,
   "id": "456d5a68-2731-473d-b3b8-bd00f549adfd",
   "metadata": {},
   "outputs": [],
   "source": []
  },
  {
   "cell_type": "code",
   "execution_count": null,
   "id": "7a239b29-60c2-4e8c-bc9e-069cf0737862",
   "metadata": {},
   "outputs": [],
   "source": []
  },
  {
   "cell_type": "code",
   "execution_count": null,
   "id": "77be1956-9d10-4a98-9f50-6f92aa080e0c",
   "metadata": {},
   "outputs": [],
   "source": []
  },
  {
   "cell_type": "code",
   "execution_count": null,
   "id": "6d7672d6-471c-444f-9744-96d4ec90f007",
   "metadata": {},
   "outputs": [],
   "source": []
  },
  {
   "cell_type": "code",
   "execution_count": null,
   "id": "97bf65b3-d3ca-40ca-b7b2-dcb386271c44",
   "metadata": {},
   "outputs": [],
   "source": []
  },
  {
   "cell_type": "code",
   "execution_count": null,
   "id": "be08c01a-74ce-471a-992f-508147d0084f",
   "metadata": {},
   "outputs": [],
   "source": []
  },
  {
   "cell_type": "code",
   "execution_count": null,
   "id": "bf856c0e-dc99-4f5a-9192-0a3558e85404",
   "metadata": {},
   "outputs": [],
   "source": []
  }
 ],
 "metadata": {
  "kernelspec": {
   "display_name": "Python 3 (ipykernel)",
   "language": "python",
   "name": "python3"
  },
  "language_info": {
   "codemirror_mode": {
    "name": "ipython",
    "version": 3
   },
   "file_extension": ".py",
   "mimetype": "text/x-python",
   "name": "python",
   "nbconvert_exporter": "python",
   "pygments_lexer": "ipython3",
   "version": "3.13.5"
  }
 },
 "nbformat": 4,
 "nbformat_minor": 5
}
